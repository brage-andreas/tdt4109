{
 "cells": [
  {
   "cell_type": "markdown",
   "metadata": {},
   "source": [
    "a)"
   ]
  },
  {
   "cell_type": "code",
   "execution_count": null,
   "metadata": {},
   "outputs": [],
   "source": [
    "for x in range(5):\n",
    "    for y in range(x+1):\n",
    "        print(y+1, end=' ')\n",
    "    print()"
   ]
  },
  {
   "cell_type": "markdown",
   "metadata": {},
   "source": [
    "b)"
   ]
  },
  {
   "cell_type": "code",
   "execution_count": null,
   "metadata": {},
   "outputs": [],
   "source": [
    "for x in range(5):\n",
    "    print(\"#\", end='')\n",
    "    for y in range(x):\n",
    "        print(' ', end='')\n",
    "    print(\"#\")"
   ]
  },
  {
   "cell_type": "markdown",
   "metadata": {},
   "source": [
    "c)"
   ]
  },
  {
   "cell_type": "code",
   "execution_count": null,
   "metadata": {},
   "outputs": [],
   "source": [
    "heltall = int(input(\"Skriv inn et positivt heltall: \"))\n",
    "tall = heltall                 # bruker en hjelpevariabel, ikke \"ødelegge\" brukerens tall\n",
    "svar = \"\"                      # tom streng foreløpig, skal samle opp faktorene her\n",
    "faktor = 2                     # starter med å prøve den laveste mulige faktoren\n",
    "while tall >= 4:                # < 4 er definitivt et primtall\n",
    "    while tall % faktor == 0:  # har funnet en faktor\n",
    "        tall = tall // faktor  # reduserer tallet ved å dele vekk faktoren\n",
    "        svar += str(faktor)    # putter faktoren inn i svarstrengen\n",
    "        if tall > 1:           # fortsatt flere faktorer\n",
    "            svar += \"*\"              # legger derfor til et gangetegn i svaret\n",
    "    faktor += 1                # forrige faktor oppbrukt, øker med 1 for å prøve ny\n",
    "if \"*\" in svar:                # har funnet et produkt av flere tall\n",
    "    print(heltall, \"=\", svar)\n",
    "else:\n",
    "    print(heltall, \"er et primtall\")"
   ]
  },
  {
   "cell_type": "markdown",
   "metadata": {},
   "source": [
    "d)"
   ]
  },
  {
   "cell_type": "code",
   "execution_count": null,
   "metadata": {},
   "outputs": [],
   "source": [
    "import random\n",
    " \n",
    "mer = 1\n",
    "while mer:\n",
    "    a = random.randint(0,9)\n",
    "    b = random.randint(0,9)\n",
    "    svar = a*b\n",
    "    antall = 2\n",
    "    for x in range(3):\n",
    "        brukerInput = int(input('Hva blir '+str(a)+'*'+str(b)+'? '))\n",
    "        if brukerInput==svar:\n",
    "            print('Gratulerer, det er helt riktig!')\n",
    "            break\n",
    "        else:\n",
    "            print('Dessverre ikke riktig. Du har',antall,'forsøk igjen.')\n",
    "            antall-=1\n",
    "            if antall <0:\n",
    "                print('Dessverre klarte du ikke dette regnestykket, men vent så får du et nytt et:)')\n",
    "     \n",
    "    mer = int(input('Er det ønskelig med flere spørsmål? Skriv 1 for ja og 0 for nei: '))\n",
    "    print()"
   ]
  },
  {
   "cell_type": "markdown",
   "metadata": {},
   "source": [
    "e)"
   ]
  },
  {
   "cell_type": "code",
   "execution_count": null,
   "metadata": {},
   "outputs": [],
   "source": [
    "import random\n",
    " \n",
    "mer = 1\n",
    "antallRette = 0\n",
    "ovreGrense = 5\n",
    "while mer:\n",
    "    a = random.randint(0,ovreGrense)\n",
    "    b = random.randint(0,ovreGrense)\n",
    "    svar = a*b\n",
    "    antall = 2\n",
    "    for x in range(3):\n",
    "        brukerInput = int(input('Hva blir '+str(a)+'*'+str(b)+'? '))\n",
    "        if brukerInput==svar:\n",
    "            print('Gratulerer, det er helt riktig!')\n",
    "            antallRette +=1\n",
    "            break\n",
    "        else:\n",
    "            print('Dessverre ikke riktig. Du har',antall,'forsøk igjen.')\n",
    "            antall-=1\n",
    "            if antall <0:\n",
    "                antallRette = 0\n",
    "                print('Dessverre klarte du ikke dette regnestykket, men vent så får du et nytt et:)')\n",
    "     \n",
    "    mer = int(input('Er det ønskelig med flere spørsmål? Skriv 1 for ja og 0 for nei: '))\n",
    "    if antallRette%5==0 and antallRette>0:\n",
    "        ovreGrense +=5\n",
    "    print()"
   ]
  }
 ],
 "metadata": {
  "kernelspec": {
   "display_name": "Python 3",
   "language": "python",
   "name": "python3"
  },
  "language_info": {
   "codemirror_mode": {
    "name": "ipython",
    "version": 3
   },
   "file_extension": ".py",
   "mimetype": "text/x-python",
   "name": "python",
   "nbconvert_exporter": "python",
   "pygments_lexer": "ipython3",
   "version": "3.7.3"
  }
 },
 "nbformat": 4,
 "nbformat_minor": 2
}
