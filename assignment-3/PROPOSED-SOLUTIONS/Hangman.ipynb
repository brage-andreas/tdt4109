{
 "cells": [
  {
   "cell_type": "code",
   "execution_count": null,
   "metadata": {},
   "outputs": [],
   "source": [
    "hemmelig_ord = input('Skriv inn det hemmelige ordet: ')\n",
    "antall_liv = int(input('Hvor mange forsøk får brukeren? '))\n",
    " \n",
    "while True:\n",
    "    bokstav = input('Gjett på én bokstav i ordet: ')\n",
    "    if bokstav in hemmelig_ord:\n",
    "        print ('Stemmer, bokstaven er i ordet')\n",
    "    else:\n",
    "        antall_liv -= 1\n",
    "        print ('Bokstaven', bokstav, 'er ikke i ordet.')\n",
    "        if antall_liv > 0:\n",
    "            print ('Du har ', antall_liv, 'liv igjen, prøv på nytt.')\n",
    "        else:\n",
    "            print ('Du har ingen liv igjen.')\n",
    "            break"
   ]
  }
 ],
 "metadata": {
  "kernelspec": {
   "display_name": "Python 3",
   "language": "python",
   "name": "python3"
  },
  "language_info": {
   "codemirror_mode": {
    "name": "ipython",
    "version": 3
   },
   "file_extension": ".py",
   "mimetype": "text/x-python",
   "name": "python",
   "nbconvert_exporter": "python",
   "pygments_lexer": "ipython3",
   "version": "3.7.3"
  }
 },
 "nbformat": 4,
 "nbformat_minor": 2
}
