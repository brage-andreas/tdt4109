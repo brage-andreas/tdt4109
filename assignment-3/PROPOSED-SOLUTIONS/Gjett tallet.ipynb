{
 "cells": [
  {
   "cell_type": "code",
   "execution_count": null,
   "metadata": {},
   "outputs": [],
   "source": [
    "import random\n",
    " \n",
    "a = int(input(\"Gi en nedre grense for det randome tallet: \"))\n",
    "b = int(input(\"Gi en øvre grense for det romdome tallet: \"))\n",
    "TilfeldigTall = random.randint(a, b)\n",
    "riktig=False\n",
    "while riktig==False:\n",
    "    guess = int(input(\"Make a guess \"))\n",
    "    if guess==TilfeldigTall:\n",
    "        riktig = True\n",
    "    elif guess < TilfeldigTall:\n",
    "        print(\"The correct Number is higher\")\n",
    "    else:\n",
    "        print(\"The correct number is lower\")\n",
    "print(\"You guessed correct!\")"
   ]
  }
 ],
 "metadata": {
  "kernelspec": {
   "display_name": "Python 3",
   "language": "python",
   "name": "python3"
  },
  "language_info": {
   "codemirror_mode": {
    "name": "ipython",
    "version": 3
   },
   "file_extension": ".py",
   "mimetype": "text/x-python",
   "name": "python",
   "nbconvert_exporter": "python",
   "pygments_lexer": "ipython3",
   "version": "3.7.3"
  }
 },
 "nbformat": 4,
 "nbformat_minor": 2
}
