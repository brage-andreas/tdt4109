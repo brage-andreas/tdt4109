{
 "cells": [
  {
   "cell_type": "code",
   "execution_count": 3,
   "metadata": {},
   "outputs": [
    {
     "name": "stdout",
     "output_type": "stream",
     "text": [
      "Du står utenfor en dør.\n",
      "Hva gjør du?bank på\n",
      "Du får ingen respons\n"
     ]
    }
   ],
   "source": [
    "#a\n",
    "wrong_answer = True #her setter vi denne til True for å hoppe inn løkka\n",
    "while wrong_answer:\n",
    "    wrong_answer = False #alt annet enn gyldig svar vil hoppe ut av løkka\n",
    "    print(\"Du står utenfor en dør.\")\n",
    "    a = input(\"Hva gjør du?\").lower()\n",
    "    if a == \"går tilbake\" or a == \"gå andre veien\":\n",
    "        print(\"Du snur deg og vandrer hjem igjen. Du hører en skummel lyd og løper tilbake.\")\n",
    "    elif a == \"åpner døren\" or a == \"åpner\":\n",
    "        print(\"Døren er låst\")\n",
    "    elif a ==\"bank på\" or a == \"banker på\":\n",
    "        print(\"Du får ingen respons\")\n",
    "    else:\n",
    "        print(\"Det skjønte jeg ikke\")\n",
    "        wrong_answer = True"
   ]
  },
  {
   "cell_type": "code",
   "execution_count": null,
   "metadata": {},
   "outputs": [],
   "source": [
    "#b\n",
    "door = False\n",
    "while not door:\n",
    "    print(\"Du står utenfor en dør.\")\n",
    "    a = input(\"Hva gjør du?\").lower()\n",
    "    if a == \"går tilbake\" or a == \"gå andre veien\":\n",
    "        print(\"Du snur deg og vandrer hjem igjen. Du hører en skummel lyd og løper tilbake.\")\n",
    "    elif a == \"åpner døren\" or a == \"åpner\":\n",
    "        print(\"Du går inn døren.\")\n",
    "        door = True\n",
    "    elif a ==\"bank på\" or a == \"banker på\":\n",
    "        print(\"Du får ingen respons\")\n",
    "    else:\n",
    "        print(\"Det skjønte jeg ikke\")"
   ]
  },
  {
   "cell_type": "code",
   "execution_count": null,
   "metadata": {},
   "outputs": [],
   "source": [
    "#c og d\n",
    "door = False\n",
    "key = False\n",
    "while not door:\n",
    "    wrong_answer = False #alt annet enn gyldig svar vil hoppe ut av løkka\n",
    "    print(\"Du står utenfor en dør.\")\n",
    "    a = input(\"Hva gjør du?\").lower()\n",
    "    if a == \"går tilbake\" or a == \"gå andre veien\":\n",
    "        print(\"Du snur deg og vandrer hjem igjen. Du hører en skummel lyd og løper tilbake.\")\n",
    "    elif a == \"åpner døren\" or a == \"åpner\":\n",
    "        if not key:\n",
    "            print(\"Døren er låst\")\n",
    "        else:\n",
    "            print(\"Du låser opp og går inn.\")\n",
    "            door = True\n",
    "    elif a ==\"bank på\" or a == \"banker på\":\n",
    "        print(\"Du får ingen respons\")\n",
    "    elif a == \"\":\n",
    "        break\n",
    "    else:\n",
    "        print(\"Det skjønte jeg ikke\")"
   ]
  },
  {
   "cell_type": "code",
   "execution_count": 2,
   "metadata": {},
   "outputs": [
    {
     "name": "stdout",
     "output_type": "stream",
     "text": [
      "Du står ved enden av en vei, foran et hus med en lukket dør, det er en postkasse foran huset\n",
      "Hva gjør du?\n",
      "Bye bye\n"
     ]
    }
   ],
   "source": [
    "#d\n",
    "\n",
    "key = False\n",
    "while door is False:\n",
    "    print(\"Du står ved enden av en vei, foran et hus med en lukket dør, det er en postkasse foran huset\")\n",
    "    a = input(\"Hva gjør du?\")\n",
    "    if a.lower()==\"\":\n",
    "        print(\"Bye bye\")\n",
    "        break\n",
    "    elif a.lower()==\"går tilbake\":\n",
    "        print(\"Du snur deg og vandrer hjem igjen. Du hører en skummel lyd og løper tilbake.\")\n",
    "    elif a.lower()==\"åpner døren\":\n",
    "        if not key:\n",
    "            print(\"Døren er låst\")\n",
    "        else:\n",
    "            print(\"Du åpner døren og går inn\")\n",
    "            door = True\n",
    "    elif a.lower()==\"åpner postkassen\":\n",
    "        print(\"Du finner en nøkkel i postkassen\")\n",
    "        key = True\n",
    "    else:\n",
    "        print(\"Det skjønte jeg ikke\")"
   ]
  },
  {
   "cell_type": "code",
   "execution_count": 4,
   "metadata": {},
   "outputs": [
    {
     "name": "stdout",
     "output_type": "stream",
     "text": [
      "Du står ved enden av en vei, foran et hus med en lukket dør, det er en postkasse foran huset\n",
      "Hva gjør du? går tilbake\n",
      "Du snur deg og vandrer hjem igjen. Du finner en lommelykt i veikanten. Du hører en skummel lyd og løper tilbake.\n",
      "Du står ved enden av en vei, foran et hus med en lukket dør, det er en postkasse foran huset\n",
      "Hva gjør du? åpner postkassen\n",
      "Du finner en nøkkel i postkassen\n",
      "Du står ved enden av en vei, foran et hus med en lukket dør, det er en postkasse foran huset\n",
      "Hva gjør du? åpner døren\n",
      "Du åpner døren og går inn\n",
      "Du står i et mørkt rom. Du skimter en lysbryter på veggen\n",
      "Hva gjør du? skrur på lysbryteren\n",
      "Det skjønte jeg ikke\n",
      "Du står i et mørkt rom. Du skimter en lysbryter på veggen\n",
      "Hva gjør du? skur på lysbryteren\n",
      "Bryteren fungerer ikke\n",
      "Du står i et mørkt rom. Du skimter en lysbryter på veggen\n",
      "Hva gjør du? bruker lommelykta\n",
      "Det skjønte jeg ikke\n",
      "Du står i et mørkt rom. Du skimter en lysbryter på veggen\n",
      "Hva gjør du? bruker lommelykten\n",
      "Du ser deg rundt i rommet og ser en skattekiste. Du tar alt gullet.\n",
      "Gratulerer du vant spillet!\n"
     ]
    }
   ],
   "source": [
    "#b\n",
    "door = False\n",
    "key = False\n",
    "flashlight = False\n",
    "while door is False:\n",
    "    print(\"Du står ved enden av en vei, foran et hus med en lukket dør, det er en postkasse foran huset\")\n",
    "    a = input(\"Hva gjør du? \")\n",
    "    if a.lower()==\"\":\n",
    "        print(\"Bye bye\")\n",
    "        break\n",
    "    elif a.lower()==\"går tilbake\":\n",
    "        print(\"Du snur deg og vandrer hjem igjen. Du finner en lommelykt i veikanten. Du hører en skummel lyd og løper tilbake.\")\n",
    "        flashlight = True\n",
    "    elif a.lower()==\"åpner døren\":\n",
    "        if not key:\n",
    "            print(\"Døren er låst\")\n",
    "        else:\n",
    "            print(\"Du åpner døren og går inn\")\n",
    "            door = True\n",
    "    elif a.lower()==\"åpner postkassen\":\n",
    "        print(\"Du finner en nøkkel i postkassen\")\n",
    "        key = True\n",
    "    else:\n",
    "        print(\"Det skjønte jeg ikke\")\n",
    "light = False\n",
    "while not light:\n",
    "    print(\"Du står i et mørkt rom. Du skimter en lysbryter på veggen\")\n",
    "    b = input(\"Hva gjør du? \")\n",
    "    if b.lower() == \"skrur på lysbryteren\":\n",
    "        print(\"Bryteren fungerer ikke\")\n",
    "    elif b.lower() == \"bruker lommelykten\":\n",
    "        print(\"Du ser deg rundt i rommet og ser en skattekiste. Du tar alt gullet.\")\n",
    "        light = True\n",
    "    elif a.lower()==\"\":\n",
    "        print(\"Bye bye\")\n",
    "        break\n",
    "    else:\n",
    "        print(\"Det skjønte jeg ikke\")\n",
    "print(\"Gratulerer du vant spillet!\")"
   ]
  }
 ],
 "metadata": {
  "kernelspec": {
   "display_name": "Python 3",
   "language": "python",
   "name": "python3"
  },
  "language_info": {
   "codemirror_mode": {
    "name": "ipython",
    "version": 3
   },
   "file_extension": ".py",
   "mimetype": "text/x-python",
   "name": "python",
   "nbconvert_exporter": "python",
   "pygments_lexer": "ipython3",
   "version": "3.7.3"
  }
 },
 "nbformat": 4,
 "nbformat_minor": 2
}
