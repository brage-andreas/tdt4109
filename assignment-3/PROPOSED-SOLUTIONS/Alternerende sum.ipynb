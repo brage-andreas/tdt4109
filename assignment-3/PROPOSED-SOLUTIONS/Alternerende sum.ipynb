{
 "cells": [
  {
   "cell_type": "code",
   "execution_count": null,
   "metadata": {},
   "outputs": [],
   "source": [
    "#Oppgave a\n",
    "n=int(input(\"n=: \"))\n",
    "summen=0\n",
    "for a in range(1,n+1):\n",
    "    if a%2==0:\n",
    "        summen-= a**2\n",
    "    else:\n",
    "        summen+= a**2  \n",
    "print(\"Summen av tallserien er\",summen)\n",
    " \n",
    "#oppgave b\n",
    "k = int( input (\"k = \"))\n",
    "s = 0\n",
    "i = 1\n",
    "while True :\n",
    "    new_s = s + ((-1)**(i+1) * i**2)      #(-1)**(i+1) gjør at alle ledd som er partall blir negative\n",
    "    if new_s > k:\n",
    "        break                             #break gjør at løkken avsluttes\n",
    "    s = new_s\n",
    "    i += 1\n",
    "print (\"Summen av tallene før summen blir større enn k er %d. Antall iterasjoner: %d\" % (s, i-1))\n"
   ]
  }
 ],
 "metadata": {
  "kernelspec": {
   "display_name": "Python 3",
   "language": "python",
   "name": "python3"
  },
  "language_info": {
   "codemirror_mode": {
    "name": "ipython",
    "version": 3
   },
   "file_extension": ".py",
   "mimetype": "text/x-python",
   "name": "python",
   "nbconvert_exporter": "python",
   "pygments_lexer": "ipython3",
   "version": "3.7.3"
  }
 },
 "nbformat": 4,
 "nbformat_minor": 2
}
