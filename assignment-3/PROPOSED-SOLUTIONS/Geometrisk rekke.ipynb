{
 "cells": [
  {
   "cell_type": "markdown",
   "metadata": {},
   "source": [
    "a)"
   ]
  },
  {
   "cell_type": "code",
   "execution_count": null,
   "metadata": {},
   "outputs": [],
   "source": [
    "import math\n",
    "n = 4\n",
    "r = 0.5\n",
    "sum, i = 0,0\n",
    "while True:\n",
    "    sum += pow(r,i)\n",
    "    i += 1\n",
    "    if i > n:\n",
    "        break\n",
    "print ('Summen av rekken er', sum)"
   ]
  },
  {
   "cell_type": "markdown",
   "metadata": {},
   "source": [
    "b) og c)"
   ]
  },
  {
   "cell_type": "code",
   "execution_count": 1,
   "metadata": {},
   "outputs": [
    {
     "name": "stdout",
     "output_type": "stream",
     "text": [
      "For å være innenfor toleransegrensen: 0.001 , kjørte løkken 11 ganger\n",
      "Differansen mellom virkelig og estimert verdi var da 0.0009765625\n"
     ]
    }
   ],
   "source": [
    "r = 0.5\n",
    "s, i = 0, 0\n",
    "tol = 0.001\n",
    "limit = 2\n",
    " \n",
    "while True:\n",
    "    s += r**i\n",
    "    i += 1\n",
    "    if(limit - s <= tol):\n",
    "        break\n",
    " \n",
    "print(\"For å være innenfor toleransegrensen:\", tol, \", kjørte løkken\", i, \"ganger\")\n",
    "print('Differansen mellom virkelig og estimert verdi var da', limit-s)"
   ]
  }
 ],
 "metadata": {
  "kernelspec": {
   "display_name": "Python 3",
   "language": "python",
   "name": "python3"
  },
  "language_info": {
   "codemirror_mode": {
    "name": "ipython",
    "version": 3
   },
   "file_extension": ".py",
   "mimetype": "text/x-python",
   "name": "python",
   "nbconvert_exporter": "python",
   "pygments_lexer": "ipython3",
   "version": "3.7.3"
  }
 },
 "nbformat": 4,
 "nbformat_minor": 2
}
