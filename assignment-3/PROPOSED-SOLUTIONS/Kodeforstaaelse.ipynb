{
 "cells": [
  {
   "cell_type": "markdown",
   "metadata": {
    "deletable": false,
    "editable": false,
    "run_control": {
     "frozen": true
    }
   },
   "source": [
    "a)\n",
    "101011001\n",
    "\n",
    "b)\n",
    "```\n",
    "0 Dette tallet går opp i 4-gangern\n",
    "2\n",
    "4 Dette tallet går opp i 4-gangern\n",
    "6\n",
    "8 Dette tallet går opp i 4-gangern\n",
    "```\n",
    "c)\n",
    "16\n",
    "\n",
    "d)\n",
    "8\n",
    "\n",
    "e)\n",
    "```\n",
    "*\n",
    "**\n",
    "***\n",
    "****\n",
    "*****\n",
    "```"
   ]
  }
 ],
 "metadata": {
  "kernelspec": {
   "display_name": "Python 3",
   "language": "python",
   "name": "python3"
  },
  "language_info": {
   "codemirror_mode": {
    "name": "ipython",
    "version": 3
   },
   "file_extension": ".py",
   "mimetype": "text/x-python",
   "name": "python",
   "nbconvert_exporter": "python",
   "pygments_lexer": "ipython3",
   "version": "3.7.4"
  }
 },
 "nbformat": 4,
 "nbformat_minor": 2
}
