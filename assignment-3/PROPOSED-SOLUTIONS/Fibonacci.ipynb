{
 "cells": [
  {
   "cell_type": "markdown",
   "metadata": {},
   "source": [
    "a)"
   ]
  },
  {
   "cell_type": "code",
   "execution_count": null,
   "metadata": {},
   "outputs": [],
   "source": [
    "n = 13\n",
    "fib, fib_next = 0,1\n",
    "if n==0:\n",
    "    print(fib)\n",
    "elif n==1:\n",
    "    print(fib_next)\n",
    "else:\n",
    "    for i in range(2,n+1):\n",
    "        fib, fib_next = fib_next , fib+fib_next   \n",
    "    print(fib_next)"
   ]
  },
  {
   "cell_type": "markdown",
   "metadata": {},
   "source": [
    "b)"
   ]
  },
  {
   "cell_type": "code",
   "execution_count": null,
   "metadata": {},
   "outputs": [],
   "source": [
    "n = 13\n",
    "fib, fib_next = 0,1\n",
    "sum = 0\n",
    "if n==0:\n",
    "    sum = fib\n",
    "    print(fib)\n",
    "elif n==1:\n",
    "    sum = fib + fib_next\n",
    "    print(fib_next)\n",
    "else:\n",
    "    for i in range(2,n+1):\n",
    "        fib, fib_next = fib_next , fib+fib_next\n",
    "        sum += fib\n",
    "    sum +=fib_next\n",
    "    print(fib_next)\n",
    "print(sum)"
   ]
  },
  {
   "cell_type": "markdown",
   "metadata": {},
   "source": [
    "c)"
   ]
  },
  {
   "cell_type": "code",
   "execution_count": null,
   "metadata": {},
   "outputs": [],
   "source": [
    "n = 13\n",
    "fibliste = [0,1]\n",
    "if n==0:\n",
    "    print(fibliste[0])\n",
    "else:\n",
    "    for i in range(2,n+1):\n",
    "        fibliste.append(fibliste[i-1]+fibliste[i-2])\n",
    "    print(fibliste)"
   ]
  }
 ],
 "metadata": {
  "kernelspec": {
   "display_name": "Python 3",
   "language": "python",
   "name": "python3"
  },
  "language_info": {
   "codemirror_mode": {
    "name": "ipython",
    "version": 3
   },
   "file_extension": ".py",
   "mimetype": "text/x-python",
   "name": "python",
   "nbconvert_exporter": "python",
   "pygments_lexer": "ipython3",
   "version": "3.7.3"
  }
 },
 "nbformat": 4,
 "nbformat_minor": 2
}
