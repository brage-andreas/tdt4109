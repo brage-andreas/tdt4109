{
 "cells": [
  {
   "cell_type": "markdown",
   "metadata": {
    "deletable": false,
    "editable": false,
    "run_control": {
     "frozen": true
    }
   },
   "source": [
    "<nav class=\"navbar navbar-default\">\n",
    "  <div class=\"container-fluid\">\n",
    "    <div class=\"navbar-header\">\n",
    "      <a class=\"navbar-brand\" href=\"_Oving3.ipynb\">Øving 3</a>\n",
    "    </div>\n",
    "    <ul class=\"nav navbar-nav\">\n",
    "      <li ><a href=\"Intro%20til%20lokker.ipynb\">Intro til løkker</a></li>\n",
    "    <li ><a href=\"Mer%20om%20lokker.ipynb\">Mer om løkker</a></li>\n",
    "    <li><a href=\"Nostede%20lokker.ipynb\">Intro til nøstede løkker</a></li>\n",
    "    <li ><a href=\"Kodeforstaelse.ipynb\">Kodeforståelse</a></li>\n",
    "    <li ><a href=\"Gjett%20tallet.ipynb\">Gjett tallet</a></li>\n",
    "        <li ><a href=\"Tekstbasert%20spill%202.ipynb\">Tekstbasert spill 2</a></li>\n",
    "    <li ><a href=\"Geometrisk%20rekke.ipynb\">Geometrisk rekke</a></li>\n",
    "    <li ><a href=\"Fibonacci.ipynb\">Fibonacci</a></li>\n",
    "    <li><a href=\"Alternerende%20sum.ipynb\">Alternerende sum</a></li>\n",
    "    <li class=\"active\"><a href=\"Hangman.ipynb\">Hangman</a></li>\n",
    "    <li ><a href=\"Doble%20lokker.ipynb\">Doble løkker</a></li>\n",
    "    </ul>\n",
    "  </div>\n",
    "</nav>\n",
    "\n",
    "**Læringsmål:**\n",
    "\n",
    "* Betingelser\n",
    "* While-løkker\n",
    "\n",
    "**Starting Out with Python:**\n",
    "\n",
    "* Kap. 3.4 \n",
    "* Kap. 4.2\n",
    "\n",
    "Kapittel fire introduserer repetisjonsstrukturer. Dette er en mye brukt programmeringsteknikk som brukes når et program skal utføre den samme oppgaven mange ganger etter hverandre. I denne oppgaven bruker vi en enkel while-løkke for å lage et hangman-spill i Python. \n",
    "\n",
    "Lag et program som tar inn et ord (tekststreng) og antall liv (heltall) fra en bruker, og lar en annen (eller samme) bruker gjette på bokstaver i ordet. "
   ]
  },
  {
   "cell_type": "markdown",
   "metadata": {
    "deletable": false,
    "editable": false,
    "run_control": {
     "frozen": true
    }
   },
   "source": [
    "### a)\n",
    "Start med å hente inn data fra bruker. Lagre dette i to variabler `hemmelig_ord` og `antall_liv`.\n",
    "\n",
    "***Skriv koden din her.***"
   ]
  },
  {
   "cell_type": "code",
   "execution_count": null,
   "metadata": {
    "ExecuteTime": {
     "end_time": "2019-07-03T06:20:10.962975Z",
     "start_time": "2019-07-03T06:20:10.957236Z"
    }
   },
   "outputs": [],
   "source": [
    "hemmelig_ord = input(\"Skriv inn det hemmelige ordet: \").upper()\n",
    "antall_liv = int(input(\"Hvor mange forsøk får brukeren? \"))\n"
   ]
  },
  {
   "cell_type": "markdown",
   "metadata": {
    "deletable": false,
    "editable": false,
    "run_control": {
     "frozen": true
    }
   },
   "source": [
    "### b)\n",
    "Under har vi laget en while-løkke som kjører evig. Din oppgave er å fylle inn manglende logikk inne i løkken. Ting som må gjøres er:\n",
    "\n",
    "* Hent inn en bokstav fra bruker\n",
    "* Sjekk om denne er i det hemmelige ordet \n",
    "  * Trekk fra et liv dersom brukeren tipper feil\n",
    "* Hvis brukeren ikke har flere liv skal løkken avsluttes (HINT: bruk \"break\" for å avslutte en løkke) \n",
    "\n",
    "PS: Husk å skrive ut resultatet til brukeren. **Du kan bruke variablene du laget i oppgave a uten å skrive dem på nytt** \n",
    "\n",
    "Eksempel på kjøring av kode:\n",
    "\n",
    "```\n",
    "Skriv inn det hemmelige ordet: hemmelig\n",
    "Hvor mange forsøk får brukeren? 2\n",
    "Gjett på én bokstav i ordet: f\n",
    "Bokstaven f er ikke i ordet.\n",
    "Du har  1 liv igjen, prøv på nytt.\n",
    "Gjett på én bokstav i ordet: h\n",
    "Stemmer, bokstaven er i ordet\n",
    "Gjett på én bokstav i ordet: e\n",
    "Stemmer, bokstaven er i ordet\n",
    "Gjett på én bokstav i ordet: r\n",
    "Bokstaven r er ikke i ordet.\n",
    "Du har ingen liv igjen.\n",
    "```"
   ]
  },
  {
   "cell_type": "code",
   "execution_count": null,
   "metadata": {},
   "outputs": [],
   "source": [
    "from IPython.display import clear_output\n",
    "\n",
    "hemmelig_ord = input(\"Skriv inn det hemmelige ordet: \").upper()\n",
    "antall_liv = int(input(\"Hvor mange forsøk får brukeren? \"))\n",
    "\n",
    "missing_unique_letters = len(set(hemmelig_ord))\n",
    "correct_letters: set[str] = set()\n",
    "wrong_letters: set[str] = set()\n",
    "\n",
    "\n",
    "def draw_secret_word(secret_word: str, correct_letters: set[str]) -> str:\n",
    "    letters_to_draw: list[str] = []\n",
    "\n",
    "    for character in secret_word:\n",
    "        if character in correct_letters:\n",
    "            letters_to_draw.append(character)\n",
    "\n",
    "        else:\n",
    "            letters_to_draw.append(\"_\")\n",
    "\n",
    "    return \" \".join(letters_to_draw)\n",
    "\n",
    "\n",
    "while True:\n",
    "    print(\n",
    "        f\"{draw_secret_word(hemmelig_ord, correct_letters)} (Feil: {', '.join(wrong_letters) or '...'})\"\n",
    "    )\n",
    "\n",
    "    letter_guess = input(\"Gjett på én bokstav i ordet: \")[0].upper()\n",
    "\n",
    "    clear_output(wait=False)\n",
    "\n",
    "    if letter_guess in correct_letters or letter_guess in wrong_letters:\n",
    "        print(f\"Du har gjettet {letter_guess} før.\\n\")\n",
    "\n",
    "        continue\n",
    "\n",
    "    if not letter_guess in hemmelig_ord:\n",
    "        wrong_letters.add(letter_guess)\n",
    "        antall_liv -= 1\n",
    "\n",
    "        print(f\"Bokstaven {letter_guess} er ikke i ordet.\\n\")\n",
    "\n",
    "        if antall_liv > 0:\n",
    "            print(f\"Du har {antall_liv} liv igjen, prøv på nytt.\\n\")\n",
    "\n",
    "            continue\n",
    "\n",
    "        print(\"Du har ingen liv igjen.\")\n",
    "\n",
    "        break\n",
    "\n",
    "    correct_letters.add(letter_guess)\n",
    "    missing_unique_letters -= 1\n",
    "\n",
    "    print(f\"Stemmer, bokstaven {letter_guess} er i ordet.\\n\")\n",
    "\n",
    "    if missing_unique_letters > 0:\n",
    "        continue\n",
    "\n",
    "    print(\"Du vant.\")\n",
    "\n",
    "    break\n"
   ]
  },
  {
   "cell_type": "markdown",
   "metadata": {
    "deletable": false,
    "editable": false,
    "run_control": {
     "frozen": true
    }
   },
   "source": [
    "### d) FRIVILLIG vanskeligere oppgave\n",
    " Fyll inn logikk for å fullføre spillet. Ting som kan implementeres er:\n",
    "\n",
    "* Avslutt løkken hvis brukeren har gjettet alle bokstavene i løsningsordet.\n",
    "* For hvert gjett, print ut maskert løsningsord med stjerner for hver bokstav som fortsatt ikke er gjettet. `(Eks.: lø*ning*ord)`\n",
    "\n",
    "Du kan fortsette i samme kodefelt som oppgave b."
   ]
  }
 ],
 "metadata": {
  "kernelspec": {
   "display_name": "Python 3",
   "language": "python",
   "name": "python3"
  },
  "language_info": {
   "codemirror_mode": {
    "name": "ipython",
    "version": 3
   },
   "file_extension": ".py",
   "mimetype": "text/x-python",
   "name": "python",
   "nbconvert_exporter": "python",
   "pygments_lexer": "ipython3",
   "version": "3.11.3"
  },
  "toc": {
   "base_numbering": 1,
   "nav_menu": {},
   "number_sections": false,
   "sideBar": true,
   "skip_h1_title": false,
   "title_cell": "Table of Contents",
   "title_sidebar": "Contents",
   "toc_cell": false,
   "toc_position": {},
   "toc_section_display": true,
   "toc_window_display": false
  }
 },
 "nbformat": 4,
 "nbformat_minor": 2
}
