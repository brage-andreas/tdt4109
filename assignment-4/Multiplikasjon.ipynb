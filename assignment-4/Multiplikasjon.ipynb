{
 "cells": [
  {
   "cell_type": "markdown",
   "metadata": {
    "deletable": false,
    "editable": false,
    "run_control": {
     "frozen": true
    }
   },
   "source": [
    "<nav class=\"navbar navbar-default\">\n",
    "  <div class=\"container-fluid\">\n",
    "    <div class=\"navbar-header\">\n",
    "      <a class=\"navbar-brand\" href=\"_Oving4.ipynb\">Øving 4</a>\n",
    "    </div>\n",
    "    <ul class=\"nav navbar-nav\">\n",
    "    <li><a href=\"Grunnleggende%20om%20funksjoner.ipynb\">Grunnleggende om funksjoner</a></li>\n",
    "    <li><a href=\"Varierte%20funksjoner.ipynb\">Varierte funksjoner</a></li>\n",
    "    <li><a href=\"Lokale%20variabler.ipynb\">Lokale variabler</a></li>\n",
    "    <li><a href=\"Globale%20variabler.ipynb\">Globale variabler</a></li>\n",
    "    <li><a href=\"Euklids%20algoritme.ipynb\">Euklids algoritme</a></li>\n",
    "    <li><a href=\"Primtall.ipynb\">Primtall</a></li>\n",
    "    <li class=\"active\"><a href=\"Multiplikasjon.ipynb\">Multiplikasjon</a></li>\n",
    "        <li><a href=\"Den%20store%20sporreundersokelsen.ipynb\">Den store spørreundersøkelsen</a></li>\n",
    "    <li><a href=\"Arbeidsdager.ipynb\">Arbeidsdager</a></li>\n",
    "    <li><a href=\"Sekantmetoden.ipynb\">Sekantmetoden</a></li>\n",
    "    <li><a href=\"Not%20quite%20Blackjack.ipynb\">Not quite Blackjack</a></li>\n",
    "        <li><a href=\"Funksjoner%20og%20Jupyter%20widgets.ipynb\">Funksjoner og Jupyter widgets</a></li>\n",
    "    </ul>\n",
    "  </div>\n",
    "</nav>\n",
    "\n",
    "# Multiplikasjon\n",
    "\n",
    "**Læringsmål:**\n",
    "- Løkker\n",
    "- Funksjoner\n",
    "\n",
    "**Starting Out with Python:**\n",
    "- Kap. 4.2-4.3"
   ]
  },
  {
   "cell_type": "markdown",
   "metadata": {
    "deletable": false,
    "editable": false,
    "run_control": {
     "frozen": true
    }
   },
   "source": [
    "## a)"
   ]
  },
  {
   "cell_type": "markdown",
   "metadata": {
    "deletable": false,
    "editable": false,
    "run_control": {
     "frozen": true
    }
   },
   "source": [
    "Skriv en funksjon som tar inn en toleransegrense `tol` og returnerer `prod` og `count`, hvor `prod` er definert som:\n",
    "\n",
    "$(1+\\frac{1}{1^{2}})(1+\\frac{1}{2^{2}})(1+\\frac{1}{3^{2}})...$\n",
    "\n",
    "og `count` er antall iterasjoner som har blitt kjørt.\n",
    "\n",
    "Avslutt iterasjonen når endringen i produktet er mindre enn toleransegrensen `tol`. \n",
    "\n",
    "Skriv ut verdien og hvor mange iterasjoner som trengs. Hvis `tol` er 0.01 skal programmet skrive ut følgende:\n",
    "```\n",
    "Produktet ble 3.49 etter 19 iterasjoner.\n",
    "```\n",
    "\n",
    "***Skriv koden i kodeblokken under***"
   ]
  },
  {
   "cell_type": "code",
   "execution_count": null,
   "metadata": {},
   "outputs": [],
   "source": [
    "def iterate(tol: float) -> tuple[float, int]:\n",
    "    sum_of_iterations = 1\n",
    "    i = 1\n",
    "\n",
    "    new_sum = sum_of_iterations * (1 + 1 / i**2)\n",
    "\n",
    "    while (new_sum - sum_of_iterations) >= tol:\n",
    "        i += 1\n",
    "        \n",
    "        sum_of_iterations = new_sum\n",
    "        new_sum *= (1 + 1 / i**2)\n",
    "\n",
    "\n",
    "    return new_sum, i\n",
    "\n",
    "\n",
    "prod, count = iterate(0.01)\n",
    "\n",
    "print(f\"Produktet ble {prod:.2f} etter {count} iterasjoner\")\n"
   ]
  },
  {
   "cell_type": "markdown",
   "metadata": {
    "deletable": false,
    "editable": false,
    "run_control": {
     "frozen": true
    }
   },
   "source": [
    "## b) (FRIVILLIG) (OG VANSKELIG)"
   ]
  },
  {
   "cell_type": "markdown",
   "metadata": {
    "deletable": false,
    "editable": false,
    "run_control": {
     "frozen": true
    }
   },
   "source": [
    "Denne oppgaven krever at du bruker rekursjon, det vil si at funksjonen \"kaller\" på seg selv. Dette er en mye brukt programmeringsteknikk som vil bli gjennomgått senere i kurset. \n",
    "\n",
    "Lag en ny funksjon som gjør det samme som a) rekursivt. Avslutt rekursjonen når\n",
    "\n",
    "$(1+\\frac{1}{k^{2}}) < 1 + tol$\n",
    "\n",
    "Skriv også ut rekusjonsdybden\n",
    "\n",
    "**Eksempel på kjøring:**\n",
    "\n",
    "```\n",
    "Skriv inn tol: 0.01\n",
    "Rekursjonsdybden er 10\n",
    "Produktet ble: 3.37\n",
    "```\n",
    "\n",
    "*Merk: den rekursive funksjonen i b) vil ikke gi samme svar som a) pga. at betingelsene som blir brukt er forskjellige.*\n",
    "\n",
    "***Skriv koden i kodeblokken under***"
   ]
  },
  {
   "cell_type": "code",
   "execution_count": null,
   "metadata": {},
   "outputs": [],
   "source": [
    "from math import sqrt, floor\n",
    "\n",
    "\n",
    "# Virker for floor(sqrt(1/tol)) < 1000 pga maximum recursion depth\n",
    "#   som blir tol ∈ [0.000000998002996, ->)\n",
    "# (i teorien)\n",
    "\n",
    "# Virker ikke for tol ∈ (<-, 0] heller for åpenbare grunner\n",
    "\n",
    "# Rekursjon vil alltid være n-1 fordi hvert call recurser én gang => ett vanlig call + n-1 recursive calls\n",
    "\n",
    "\n",
    "def iterate(n: int, is_recursion: bool, recursions: int) -> tuple[float, int]:\n",
    "    if n <= 1:\n",
    "        return 2, recursions + 1\n",
    "\n",
    "    prev, prev_recursions = iterate(n - 1, True, recursions)\n",
    "\n",
    "    if is_recursion:\n",
    "        prev_recursions += 1\n",
    "\n",
    "    return (1 + 1 / n**2) * prev, prev_recursions\n",
    "\n",
    "\n",
    "def iterate_to(tol: float) -> tuple[float, int]:\n",
    "    n = floor(sqrt(1 / tol))\n",
    "\n",
    "    return iterate(n, False, 0)\n",
    "\n",
    "\n",
    "tol_input = float(input(\"Skriv inn tol: \"))\n",
    "\n",
    "sum, recursions = iterate_to(tol_input)\n",
    "\n",
    "print(f\"Rekursjonsdybden er {recursions}\\n\" f\"Produktet ble: {sum}\")\n"
   ]
  }
 ],
 "metadata": {
  "kernelspec": {
   "display_name": "Python 3",
   "language": "python",
   "name": "python3"
  },
  "language_info": {
   "codemirror_mode": {
    "name": "ipython",
    "version": 3
   },
   "file_extension": ".py",
   "mimetype": "text/x-python",
   "name": "python",
   "nbconvert_exporter": "python",
   "pygments_lexer": "ipython3",
   "version": "3.11.5"
  },
  "toc": {
   "base_numbering": 1,
   "nav_menu": {},
   "number_sections": false,
   "sideBar": true,
   "skip_h1_title": false,
   "title_cell": "Table of Contents",
   "title_sidebar": "Contents",
   "toc_cell": false,
   "toc_position": {},
   "toc_section_display": true,
   "toc_window_display": false
  }
 },
 "nbformat": 4,
 "nbformat_minor": 2
}
