{
 "cells": [
  {
   "cell_type": "code",
   "execution_count": null,
   "metadata": {},
   "outputs": [],
   "source": [
    "#Dette er én mulig måte å løse oppgaven på\n",
    "import random\n",
    " \n",
    "def main():\n",
    "    dealer_c1 = draw_card()\n",
    "    dealer_c2 = draw_card()\n",
    "    vd = get_value(dealer_c1,dealer_c2)\n",
    "    print(\"Dealers cards are\",dealer_c1,\"and ?\")\n",
    "    c1 = draw_card()\n",
    "    c2 = draw_card()\n",
    "    while True:\n",
    "        vp = get_value(c1,c2)\n",
    "        if is_Loss(c1,c2):\n",
    "            print(\"You got:\",vp)\n",
    "            print(\"You lost\")\n",
    "            return\n",
    "        print(\"Your score is:\",vp)\n",
    "        s = input(\"Do you want another card? (J/N) \")\n",
    "        if s.upper() == 'J':\n",
    "            c2 = vp\n",
    "            c1 = draw_card()\n",
    "            continue\n",
    "        print(\"Dealers score is:\",vd)\n",
    "        if is_Win(vp,vd):\n",
    "            print(\"You won!\")\n",
    "        else:\n",
    "            print(\"You lost\")\n",
    "        break\n",
    " \n",
    "def draw_card():\n",
    "    c = random.randint(1,13)\n",
    "    if c > 10:\n",
    "        c = 10\n",
    "    return c\n",
    " \n",
    "def is_Loss(c1,c2):\n",
    "    if get_value(c1,c2)>21:\n",
    "        return True\n",
    "    return False\n",
    " \n",
    "def get_value(c1,c2):\n",
    "    if c1 == 1 and c2 == 1:\n",
    "        return c1+11\n",
    "    if c1 == 1 and not c2+11>21:\n",
    "        return c2+11\n",
    "    if c2 == 1 and not c1+11>21:\n",
    "        return c1+11\n",
    "    return c1+c2\n",
    " \n",
    "def is_Win(value_player,value_dealer):\n",
    "    if value_dealer > 21 or value_player > value_dealer:\n",
    "        return True\n",
    "    return False\n",
    " \n",
    "main()"
   ]
  }
 ],
 "metadata": {
  "kernelspec": {
   "display_name": "Python 2",
   "language": "python",
   "name": "python2"
  },
  "language_info": {
   "codemirror_mode": {
    "name": "ipython",
    "version": 2
   },
   "file_extension": ".py",
   "mimetype": "text/x-python",
   "name": "python",
   "nbconvert_exporter": "python",
   "pygments_lexer": "ipython2",
   "version": "2.7.16"
  }
 },
 "nbformat": 4,
 "nbformat_minor": 2
}
