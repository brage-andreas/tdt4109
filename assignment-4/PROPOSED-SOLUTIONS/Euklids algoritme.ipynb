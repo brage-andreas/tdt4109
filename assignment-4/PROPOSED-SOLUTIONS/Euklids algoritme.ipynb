{
 "cells": [
  {
   "cell_type": "code",
   "execution_count": null,
   "metadata": {},
   "outputs": [],
   "source": [
    "def gcd(a, b):\n",
    "    while b != 0:       #kan også bruke 'while b:', siden betingelsen av et tall b blir sett på som True så lenge b!=0\n",
    "        # a, b = b, a % b\n",
    "        gammel_b = b\n",
    "        b = a % b\n",
    "        a = gammel_b\n",
    "    return a\n",
    "def reduce_fraction (a, b):\n",
    "    divisor = gcd(a, b)\n",
    "    return a / divisor , b / divisor\n",
    "print (\"%d/%d\" % reduce_fraction (5, 10))\n",
    "print (\"%d/%d\" % reduce_fraction (4, 2))\n",
    "print (\"%d/%d\" % reduce_fraction (42 , 13))"
   ]
  }
 ],
 "metadata": {
  "kernelspec": {
   "display_name": "Python 2",
   "language": "python",
   "name": "python2"
  },
  "language_info": {
   "codemirror_mode": {
    "name": "ipython",
    "version": 2
   },
   "file_extension": ".py",
   "mimetype": "text/x-python",
   "name": "python",
   "nbconvert_exporter": "python",
   "pygments_lexer": "ipython2",
   "version": "2.7.16"
  }
 },
 "nbformat": 4,
 "nbformat_minor": 2
}
