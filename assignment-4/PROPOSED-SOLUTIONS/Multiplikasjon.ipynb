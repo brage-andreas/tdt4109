{
 "cells": [
  {
   "cell_type": "markdown",
   "metadata": {},
   "source": [
    "a)"
   ]
  },
  {
   "cell_type": "code",
   "execution_count": null,
   "metadata": {},
   "outputs": [],
   "source": [
    "tol = float(input(\"Skriv inn tol: \"))\n",
    " \n",
    "def funksjon_produkt(tol):\n",
    "        count = 1\n",
    "        prod = 1\n",
    "        endring = prod*(1+(1/(count)**2)) - prod\n",
    "        while endring > tol:\n",
    "            prod = prod*(1+(1/(count)**2))\n",
    "            count += 1\n",
    "            endring = prod*(1+(1/(count)**2)) - prod\n",
    "        return prod, count\n",
    " \n",
    "print(\"Produktet ble %.2f etter %.d iterasjoner\" %(mult(tol)))"
   ]
  },
  {
   "cell_type": "markdown",
   "metadata": {},
   "source": [
    "b)"
   ]
  },
  {
   "cell_type": "code",
   "execution_count": null,
   "metadata": {},
   "outputs": [],
   "source": [
    "\n",
    "def recursive_multi(tol, n = 1):\n",
    "    new = 1 + math.pow(1.0/n, 2.0)\n",
    "    if new > tol+1:\n",
    "        return new * recursive_multi(tol, n+1)\n",
    "    else:\n",
    "        print(\"Rekursjonsdybden er\", n-1)\n",
    "        return new\n",
    " \n",
    "print('Produktet ble:', format(recursive_multi(0.01),'.2f'))"
   ]
  }
 ],
 "metadata": {
  "kernelspec": {
   "display_name": "Python 2",
   "language": "python",
   "name": "python2"
  },
  "language_info": {
   "codemirror_mode": {
    "name": "ipython",
    "version": 2
   },
   "file_extension": ".py",
   "mimetype": "text/x-python",
   "name": "python",
   "nbconvert_exporter": "python",
   "pygments_lexer": "ipython2",
   "version": "2.7.16"
  }
 },
 "nbformat": 4,
 "nbformat_minor": 2
}
