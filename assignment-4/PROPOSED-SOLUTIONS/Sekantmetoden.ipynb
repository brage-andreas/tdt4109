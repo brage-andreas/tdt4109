{
 "cells": [
  {
   "cell_type": "code",
   "execution_count": null,
   "metadata": {},
   "outputs": [],
   "source": [
    "import math\n",
    " \n",
    "def f(x):\n",
    "    return (x-12)*math.exp(0.5*x) - 8*(x+2)**2\n",
    " \n",
    "def g(x):\n",
    "    return -x -2*x**2 - 5*x**3 + 6*x**4\n",
    " \n",
    "def differentiate(x_k, x_k1, func):\n",
    "    return (func(x_k) - func(x_k1))/(x_k - x_k1)\n",
    " \n",
    "def secant_method(x_0,x_1,func,tol):\n",
    "    diff = abs(x_1 -x_0)\n",
    "    while diff > tol:\n",
    "        x_2 = x_1 - func(x_1)/differentiate(x_1,x_0,func)\n",
    "        diff = abs(x_2 - x_1)\n",
    "        x_0 = x_1\n",
    "        x_1 = x_2\n",
    "    return x_2\n",
    " \n",
    "def main():\n",
    "    print(f(0))\n",
    "    print(g(1))\n",
    "    print(differentiate(9,10,f))\n",
    "    x = secant_method(11,13,f,0.00001)\n",
    "    print(x)\n",
    "    print(f(x))\n",
    "    x = secant_method(1,2,g,0.00001)\n",
    "    print(x)\n",
    "    print(g(x))\n",
    "    x = secant_method(0,1,g,0.00001)\n",
    "    print(x)\n",
    "    print(g(x))\n",
    " \n",
    "main()"
   ]
  }
 ],
 "metadata": {
  "kernelspec": {
   "display_name": "Python 2",
   "language": "python",
   "name": "python2"
  },
  "language_info": {
   "codemirror_mode": {
    "name": "ipython",
    "version": 2
   },
   "file_extension": ".py",
   "mimetype": "text/x-python",
   "name": "python",
   "nbconvert_exporter": "python",
   "pygments_lexer": "ipython2",
   "version": "2.7.16"
  }
 },
 "nbformat": 4,
 "nbformat_minor": 2
}
