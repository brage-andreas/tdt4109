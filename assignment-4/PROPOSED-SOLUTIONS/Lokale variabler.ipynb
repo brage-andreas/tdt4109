{
 "cells": [
  {
   "cell_type": "markdown",
   "metadata": {},
   "source": [
    "a) Kodesnutt 3 vil kjøre uten å krasje siden cakes-funksjonen som inneholder feilen aldri kalles. Dvs. at koden med feilen aldri blir prøvd kjørt, og dermed krasjer heller ikke programmet.\n",
    "\n",
    "Feilen i kodesnutt 1: cake-variabelen i cakes-funksjonen blir definert etter at programmet har prøvd å kjøre kode som bruker den.\n",
    "\n",
    "Feilen i kodesnutt 2: cakes-funksjonen prøver å bruke den lokale variabelen cupcake i cupcakes-funksjonen.\n",
    "\n",
    "Feilen i kodesnutt 3: cake-variabelen blir aldri definert.\n",
    "\n",
    "b)"
   ]
  },
  {
   "cell_type": "code",
   "execution_count": null,
   "metadata": {},
   "outputs": [],
   "source": [
    "def divide(x,y):\n",
    "    num = x//y\n",
    "    print(\"Heltallsdivisjon av\",x,\"over\",y,\"gir\",num)\n",
    " \n",
    "def square(x):\n",
    "    num = x**2\n",
    "    print(\"Kvadratet av\",x,\"er\",num)"
   ]
  },
  {
   "cell_type": "markdown",
   "metadata": {},
   "source": [
    "c) Det vil ikke ha noen innvirkning på koden, siden begge num-variablene er lokale variabler i hver sin funksjon, og vil dermed ikke ha noen innvirkning på hverandre."
   ]
  }
 ],
 "metadata": {
  "kernelspec": {
   "display_name": "Python 2",
   "language": "python",
   "name": "python2"
  },
  "language_info": {
   "codemirror_mode": {
    "name": "ipython",
    "version": 2
   },
   "file_extension": ".py",
   "mimetype": "text/x-python",
   "name": "python",
   "nbconvert_exporter": "python",
   "pygments_lexer": "ipython2",
   "version": "2.7.16"
  }
 },
 "nbformat": 4,
 "nbformat_minor": 2
}
