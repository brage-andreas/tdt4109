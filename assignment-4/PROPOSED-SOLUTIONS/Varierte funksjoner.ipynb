{
 "cells": [
  {
   "cell_type": "markdown",
   "metadata": {},
   "source": [
    "a) absoluttverdi"
   ]
  },
  {
   "cell_type": "code",
   "execution_count": null,
   "metadata": {},
   "outputs": [],
   "source": [
    "# Skriv funksjonen din her\n",
    "def absol(x):\n",
    "   if x >= 0:\n",
    "      svar = x\n",
    "   else:\n",
    "      svar = -x\n",
    "   return svar\n",
    "  \n",
    "# skript for å teste funksjonen:\n",
    "print(\"Absoluttverdien til 5 er\", absol(5))\n",
    "print(\"Absoluttverdien til -3 er\", absol(-3))\n",
    "print(\"Absoluttverdien til 0 er\", absol(0))"
   ]
  },
  {
   "cell_type": "markdown",
   "metadata": {},
   "source": [
    "* Alternativt kan man også skrive return x og return -x direkte på if og else-alternativene.\n",
    "\n",
    "b) knop til km/t"
   ]
  },
  {
   "cell_type": "code",
   "execution_count": null,
   "metadata": {},
   "outputs": [],
   "source": [
    "# skriv funksjonen din her\n",
    "def knop_til_kmt(knop):\n",
    "    m_sek = knop / 1.9438444924406\n",
    "    km_t = m_sek * 3.6\n",
    "    return km_t\n",
    " \n",
    "# skript\n",
    "knop = float(input(\"Oppgi fart i knop: \"))\n",
    "km_t = knop_til_kmt(knop)\n",
    "print(\"Det blir\", round(km_t, 2), \"km/t\")"
   ]
  },
  {
   "cell_type": "markdown",
   "metadata": {},
   "source": [
    "c) Imperial til cm"
   ]
  },
  {
   "cell_type": "code",
   "execution_count": null,
   "metadata": {},
   "outputs": [],
   "source": [
    "# skriv funksjonen din her\n",
    "def imp2cm(ft, inch):\n",
    "    inch = inch + ft * 12\n",
    "    cm = inch * 2.54\n",
    "    return round(cm)\n",
    " \n",
    "# skript\n",
    "fot = int(input(\"Oppgi antall fot: \"))\n",
    "tommer = int(input(\"Oppgi antall tommer: \"))\n",
    "cm = imp2cm(fot, tommer)\n",
    "print(\"Det blir\", cm, \"cm\")"
   ]
  },
  {
   "cell_type": "markdown",
   "metadata": {},
   "source": [
    "d) CMYK til RGB"
   ]
  },
  {
   "cell_type": "code",
   "execution_count": null,
   "metadata": {},
   "outputs": [],
   "source": [
    "# skriv funksjonen din her\n",
    "def CMYK2RGB(C, M, Y, K):\n",
    "    R = round(255 * (1-C) * (1-K))\n",
    "    G = round(255 * (1-M) * (1-K))\n",
    "    B = round(255 * (1-Y) * (1-K))\n",
    "    return R, G, B\n",
    "  \n",
    "print(\"Oppgi farge i CMYK og få det konvertert til RGB.\")\n",
    "C = float(input(\"C: \"))\n",
    "M = float(input(\"M: \"))\n",
    "Y = float(input(\"Y: \"))\n",
    "K = float(input(\"K: \"))\n",
    "R, G, B = cmyk2rgb(C, M, Y, K)\n",
    "print(\"Som RGB:\", R, G, B)\n",
    "  \n",
    "# viser fargen på skjermen:\n",
    "from turtle import colormode, bgcolor\n",
    "colormode(255)\n",
    "bgcolor(R, G, B)"
   ]
  },
  {
   "cell_type": "markdown",
   "metadata": {},
   "source": [
    "Denne løsningen kan gjøres litt penere ved å dele inn i flere funksjoner:"
   ]
  },
  {
   "cell_type": "code",
   "execution_count": null,
   "metadata": {},
   "outputs": [],
   "source": [
    "def CMYK2RGB(C, M, Y, K):\n",
    "    R = round(255 * (1-C) * (1-K))\n",
    "    G = round(255 * (1-M) * (1-K))\n",
    "    B = round(255 * (1-Y) * (1-K))\n",
    "    return R, G, B\n",
    " \n",
    "def les_inn_CMYK():\n",
    "    print(\"Oppgi farge i CMYK og få det konvertert til RGB.\")\n",
    "    C = float(input(\"C: \"))\n",
    "    M = float(input(\"M: \"))\n",
    "    Y = float(input(\"Y: \"))\n",
    "    K = float(input(\"K: \"))\n",
    "    return C, M, Y, K\n",
    "  \n",
    "def vis_farge(R, G, B):\n",
    "    from turtle import colormode, bgcolor\n",
    "    colormode(255)\n",
    "    bgcolor(R, G, B)\n",
    "  \n",
    "def main():\n",
    "    C, M, Y, K = les_inn_CMYK()\n",
    "    R, G, B = cmyk2rgb(C, M, Y, K)\n",
    "    print(\"Som RGB:\", R, G, B)\n",
    "    vis_farge(R, G, B)\n",
    "  \n",
    "main()"
   ]
  }
 ],
 "metadata": {
  "kernelspec": {
   "display_name": "Python 2",
   "language": "python",
   "name": "python2"
  },
  "language_info": {
   "codemirror_mode": {
    "name": "ipython",
    "version": 2
   },
   "file_extension": ".py",
   "mimetype": "text/x-python",
   "name": "python",
   "nbconvert_exporter": "python",
   "pygments_lexer": "ipython2",
   "version": "2.7.16"
  }
 },
 "nbformat": 4,
 "nbformat_minor": 2
}
