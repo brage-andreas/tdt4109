{
 "cells": [
  {
   "cell_type": "markdown",
   "metadata": {},
   "source": [
    "a)"
   ]
  },
  {
   "cell_type": "code",
   "execution_count": null,
   "metadata": {},
   "outputs": [],
   "source": [
    "def siksak():\n",
    "     print()\n",
    "     print(\"**  **  **  **  **  **  **  **  **\")\n",
    "     print(\"  **  **  **  **  **  **  **  **\")\n",
    "     print() \n",
    "  \n",
    "print(\"Data fra spørreundersøkelse\")\n",
    "siksak()\n",
    "print(\"Del 1: ... div. data her, ikke vist\")\n",
    "siksak()\n",
    "print(\"Del 2: ... mer data ...\")\n",
    "siksak()\n",
    "print(\"Del 3: ... enda mer data ...\")\n",
    "siksak()\n",
    "print(\"Del 4: ... ytterligere data ...\")"
   ]
  },
  {
   "cell_type": "markdown",
   "metadata": {},
   "source": [
    "b) Løsningen her er definisjonen av superlativ() samt bruken av dette i en print midtveis, samt i kodefragmentet nederst. Disse tre er markert med ###"
   ]
  },
  {
   "cell_type": "code",
   "execution_count": null,
   "metadata": {},
   "outputs": [],
   "source": [
    "def komparativ(adj):\n",
    "    # GROVT FORENKLET; BLIR MINST 20 LINJER\n",
    "    if len(adj) >= 8: # unøyaktig\n",
    "        svar = \"mer \" + adj\n",
    "    else:\n",
    "        svar = adj + \"ere\"\n",
    "    return svar\n",
    " \n",
    "def superlativ(adj):    ###\n",
    "    if len(adj) >= 8:\n",
    "        svar = \"mest \" + adj\n",
    "    else:\n",
    "        svar = adj + \"est\"\n",
    "    return svar\n",
    " \n",
    "#DEL AV KODEN HVOR SYSTEMET DISSER BRUKEREN\n",
    "adj = input(\"Beskriv deg selv med et adjektiv: \")\n",
    "print(\"Hah! Jeg er mye\", komparativ(adj), \"!\")\n",
    "print(\"Jeg er faktisk\", superlativ(adj), \"i hele verden!\") ###\n",
    " \n",
    "# DEL AV KODEN HVOR BRUKEREN TRENER PÅ Å GRADBØYE\n",
    "adj = input(\"Skriv inn et adjektiv: \")\n",
    "svar = input(\"Hva er komparativ for\", adj, \"? \")\n",
    "fasit = komparativ(adj)\n",
    "if svar == fasit:\n",
    "    print(\"Korrekt!\")\n",
    "else:\n",
    "    print(\"Feil, det var\", fasit)\n",
    " \n",
    "svar = input(\"Hva er superlativ for\", adj, \"? \") ### og videre nedover:\n",
    "fasit = superlativ(adj)\n",
    "if svar == fasit:\n",
    "    print(\"Korrekt!\")\n",
    "else:\n",
    "    print(\"Feil, det var\", fasit)"
   ]
  },
  {
   "cell_type": "markdown",
   "metadata": {},
   "source": [
    "EKSTRAOPPGAVE: Gitt likheten i if-else delene for komparativ og superlativ, lager vi en funksjon tilbakemelding() som dekker begge disse.\n",
    "\n",
    "Som man kan se, benytter denne funksjonen seg av print() som tutorial sa ofte ikke er lurt. Her er det dog greit, siden hovedpoenget med funksjonen tilbakemelding() nettopp er å kommunisere med brukeren."
   ]
  },
  {
   "cell_type": "code",
   "execution_count": null,
   "metadata": {},
   "outputs": [],
   "source": [
    "def komparativ(adj):\n",
    "    # GROVT FORENKLET; BLIR MINST 20 LINJER\n",
    "    if len(adj) >= 8: # unøyaktig\n",
    "        svar = \"mer \" + adj\n",
    "    else:\n",
    "        svar = adj + \"ere\"\n",
    "    return svar\n",
    " \n",
    "def superlativ(adj):\n",
    "    if len(adj) >= 8:\n",
    "        svar = \"mest \" + adj\n",
    "    else:\n",
    "        svar = adj + \"est\"\n",
    "    return svar\n",
    " \n",
    "def tilbakemelding(svar, fasit):\n",
    "    if svar == fasit:\n",
    "        print(\"Korrekt!\")\n",
    "    else:\n",
    "        print(\"Feil, det var\", fasit)\n",
    " \n",
    "#DEL AV KODEN HVOR SYSTEMET DISSER BRUKEREN\n",
    "adj = input(\"Beskriv deg selv med et adjektiv: \")\n",
    "print(\"Hah! Jeg er mye\", komparativ(adj), \"!\")\n",
    "print(\"Jeg er faktisk\", superlativ(adj), \"i hele verden!\")\n",
    " \n",
    "# DEL AV KODEN HVOR BRUKEREN TRENER PÅ Å GRADBØYE\n",
    "adj = input(\"Skriv inn et adjektiv: \")\n",
    "svar = input(\"Hva er komparativ for\", adj, \"? \")\n",
    "tilbakemelding(adj, komparativ(adj))\n",
    "svar = input(\"Hva er superlativ for\", adj, \"? \")\n",
    "tilbakemelding(adj, superlativ(adj))"
   ]
  },
  {
   "cell_type": "markdown",
   "metadata": {},
   "source": [
    "d)"
   ]
  },
  {
   "cell_type": "code",
   "execution_count": null,
   "metadata": {},
   "outputs": [],
   "source": [
    "def komparativ(adj):\n",
    "    # GROVT FORENKLET; BLIR MINST 20 LINJER\n",
    "    if len(adj) >= 8: # unøyaktig\n",
    "        svar = \"mer \" + adj\n",
    "    else:\n",
    "        svar = adj + \"ere\"\n",
    "    return svar\n",
    " \n",
    "def superlativ(adj):\n",
    "    if len(adj) >= 8:\n",
    "        svar = \"mest \" + adj\n",
    "    else:\n",
    "        svar = adj + \"est\"\n",
    "    return svar\n",
    " \n",
    "def tilbakemelding(svar, fasit):\n",
    "    if svar == fasit:\n",
    "        print(\"Korrekt!\")\n",
    "    else:\n",
    "        print(\"Feil, det var\", fasit)\n",
    " \n",
    "def main():\n",
    "    #DEL AV KODEN HVOR SYSTEMET DISSER BRUKEREN\n",
    "    adj = input(\"Beskriv deg selv med et adjektiv: \")\n",
    "    print(\"Hah! Jeg er mye\", komparativ(adj), \"!\")\n",
    "    print(\"Jeg er faktisk\", superlativ(adj), \"i hele verden!\")\n",
    "    # DEL AV KODEN HVOR BRUKEREN TRENER PÅ Å GRADBØYE\n",
    "    adj = input(\"Skriv inn et adjektiv: \")\n",
    "    svar = input(\"Hva er komparativ for\", adj, \"? \")\n",
    "    tilbakemelding(adj, komparativ(adj))\n",
    "    svar = input(\"Hva er superlativ for\", adj, \"? \")\n",
    "    tilbakemelding(adj, superlativ(adj))\n",
    " \n",
    "main()"
   ]
  }
 ],
 "metadata": {
  "kernelspec": {
   "display_name": "Python 2",
   "language": "python",
   "name": "python2"
  },
  "language_info": {
   "codemirror_mode": {
    "name": "ipython",
    "version": 2
   },
   "file_extension": ".py",
   "mimetype": "text/x-python",
   "name": "python",
   "nbconvert_exporter": "python",
   "pygments_lexer": "ipython2",
   "version": "2.7.16"
  }
 },
 "nbformat": 4,
 "nbformat_minor": 2
}
