{
 "cells": [
  {
   "cell_type": "code",
   "execution_count": null,
   "metadata": {},
   "outputs": [],
   "source": [
    "#######\n",
    "# Del A\n",
    "#######\n",
    "  \n",
    "GRAVITY = 9.81\n",
    " \n",
    "def get_fall_time(distance):\n",
    "  return math.sqrt(2 * distance / GRAVITY)\n",
    " \n",
    "def main():\n",
    "  distance = int(input('Antallet meter objektet skal ramle: '))\n",
    "  time = get_fall_time(distance)\n",
    "  print('Det tar', time, 'sekunder å ramle', distance, 'meter')\n",
    " \n",
    "if __name__ == \"__main__\":\n",
    "  main()\n",
    " \n",
    " \n",
    "#######\n",
    "# Del B\n",
    "#######\n",
    "  \n",
    "# Angående den gitte løsningen på problemet, står en liten diskusjon angående dette i tutorialen på toppen av siden.\n",
    "  \n",
    "# Endre funksjonen i forrige oppgave til noe som ligner dette\n",
    "  \n",
    "def get_fall_time(distance, gravity=GRAVITY):\n",
    "  return math.sqrt(2 * distance / gravity)"
   ]
  }
 ],
 "metadata": {
  "kernelspec": {
   "display_name": "Python 2",
   "language": "python",
   "name": "python2"
  },
  "language_info": {
   "codemirror_mode": {
    "name": "ipython",
    "version": 2
   },
   "file_extension": ".py",
   "mimetype": "text/x-python",
   "name": "python",
   "nbconvert_exporter": "python",
   "pygments_lexer": "ipython2",
   "version": "2.7.16"
  }
 },
 "nbformat": 4,
 "nbformat_minor": 2
}
