{
 "cells": [
  {
   "cell_type": "markdown",
   "metadata": {},
   "source": [
    "a)"
   ]
  },
  {
   "cell_type": "code",
   "execution_count": null,
   "metadata": {},
   "outputs": [],
   "source": [
    "def is_leap_year(year):\n",
    "    if year % 400 == 0:\n",
    "        return True\n",
    "    elif year % 100 == 0:\n",
    "        return False\n",
    "    elif year % 4 == 0:\n",
    "        return True\n",
    "    return False\n",
    "  \n",
    "def weekday_newyear(year):\n",
    "    weekday = 0 # Mandag\n",
    "    for i in range(1900, year):\n",
    "        days_in_year = is_leap_year(i) and 366 or 365\n",
    "        weekday = (weekday + days_in_year) % 7\n",
    "    return weekday\n",
    " \n",
    "ukedager = [\" man\", \"tir\", \"ons\", \"tor\", \"fre\", \"lør\", \"søn \"]\n",
    " \n",
    "for i in range(1900 ,1920):\n",
    "    print(i, ukedager[weekday_newyear(i)])\n",
    "     \n",
    "    #Kodesnutten under er en annen måte å løse utskriftsoppgaven på\n",
    "    #print(i, [\" man\", \"tir\", \"ons\", \"tor\", \"fre\", \"lør\", \"søn \"][weekday_newyear(i)])"
   ]
  },
  {
   "cell_type": "markdown",
   "metadata": {},
   "source": [
    "b)"
   ]
  },
  {
   "cell_type": "code",
   "execution_count": null,
   "metadata": {},
   "outputs": [],
   "source": [
    "def is_workday ( weekday ):\n",
    "    return 0 <= weekday < 5"
   ]
  },
  {
   "cell_type": "markdown",
   "metadata": {},
   "source": [
    "c)"
   ]
  },
  {
   "cell_type": "code",
   "execution_count": null,
   "metadata": {},
   "outputs": [],
   "source": [
    "def workdays_in_year ( year ):\n",
    "    weekday = weekday_newyear ( year )\n",
    "    days_in_year = is_leap_year ( year ) and 366 or 365\n",
    "    workdays = 0\n",
    "    for i in range ( days_in_year ):\n",
    "        if is_workday ( weekday ):\n",
    "            workdays += 1\n",
    "        weekday = ( weekday + 1) % 7\n",
    "    return workdays\n",
    "     \n",
    "for i in range (1900 , 1920 ):\n",
    "    print (i, \" har\", workdays_in_year (i), \" arbeidsdager \")"
   ]
  }
 ],
 "metadata": {
  "kernelspec": {
   "display_name": "Python 2",
   "language": "python",
   "name": "python2"
  },
  "language_info": {
   "codemirror_mode": {
    "name": "ipython",
    "version": 2
   },
   "file_extension": ".py",
   "mimetype": "text/x-python",
   "name": "python",
   "nbconvert_exporter": "python",
   "pygments_lexer": "ipython2",
   "version": "2.7.16"
  }
 },
 "nbformat": 4,
 "nbformat_minor": 2
}
