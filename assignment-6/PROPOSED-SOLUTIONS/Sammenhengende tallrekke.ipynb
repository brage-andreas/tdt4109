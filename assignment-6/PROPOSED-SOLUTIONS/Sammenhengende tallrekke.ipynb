{
 "cells": [
  {
   "cell_type": "code",
   "execution_count": null,
   "metadata": {},
   "outputs": [],
   "source": [
    "#a)\n",
    "\n",
    "def randList(lenght,a,b):\n",
    "    import random\n",
    "    return [random.randint(a,b) for x in range(0,length)]\n",
    "\n",
    "#b)\n",
    "\n",
    " def compareLists(listA, listB):\n",
    "     common = []\n",
    "     for a in listA:\n",
    "         if a in listB and a not in common:\n",
    "             common.append(a)\n",
    "     return common\n",
    "  \n",
    "# alternativ løsning vha. set:\n",
    "def compareLists1(listA, listB):\n",
    "    return list(set(listA).intersection(set(listB)))\n",
    "\n",
    "#c)\n",
    "\n",
    "def multiCompList(lists):\n",
    "    common = compareLists(lists[0], lists[1])\n",
    "    for r in range(2,len(lists)):\n",
    "        common = compareLists(common, lists[r])\n",
    "    return common\n",
    "\n",
    "#d)\n",
    "\n",
    "def longestEven(list):\n",
    "    ant = 0\n",
    "    tempAnt = 0\n",
    "    index = 0\n",
    "    tempIndex = 0\n",
    "    tempEven = 0\n",
    "    for i in range(len(liste)):\n",
    "            if (liste[i] % 2 == 0):\n",
    "                    if tempAnt == 0:\n",
    "                            tempIndex = i\n",
    "                    tempAnt +=1\n",
    "                    tempEven +=1\n",
    "            else:\n",
    "                    if tempAnt > ant:\n",
    "                            ant = tempAnt\n",
    "                            index = tempIndex\n",
    "                    tempAnt = 0\n",
    "    if tempEven == len(liste):\n",
    "        ant = len(liste)\n",
    "    return index, ant"
   ]
  }
 ],
 "metadata": {
  "kernelspec": {
   "display_name": "Python 2",
   "language": "python",
   "name": "python2"
  },
  "language_info": {
   "codemirror_mode": {
    "name": "ipython",
    "version": 2
   },
   "file_extension": ".py",
   "mimetype": "text/x-python",
   "name": "python",
   "nbconvert_exporter": "python",
   "pygments_lexer": "ipython2",
   "version": "2.7.16"
  }
 },
 "nbformat": 4,
 "nbformat_minor": 2
}
