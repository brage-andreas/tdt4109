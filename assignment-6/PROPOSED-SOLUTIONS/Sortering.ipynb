{
 "cells": [
  {
   "cell_type": "code",
   "execution_count": null,
   "metadata": {},
   "outputs": [],
   "source": [
    "#a)\n",
    "\n",
    "def bubbleSort(liste):\n",
    "    unsorted = 1\n",
    "    while unsorted:\n",
    "        unsorted = 0\n",
    "        for x in range(0, len(liste)-1):\n",
    "            if (liste[x] > liste[x+1]):\n",
    "                liste[x], liste[x+1] = liste[x+1], liste[x]\n",
    "                unsorted = 1\n",
    "    return liste\n",
    "  \n",
    "liste = [9,1,34,7,2,3,45,6,78,56,36,65,33,21,23,34,45,6]\n",
    "print(bubbleSort(liste))\n",
    "\n",
    "#b)\n",
    "\n",
    "def selectionSort(unSorted):\n",
    "    sorted = [0 for x in range(0,len(unSorted))]\n",
    "    for x in range(1, len(unSorted)+1):\n",
    "        pos = unSorted.index(max(unSorted))\n",
    "        sorted[-x] = unSorted[pos]\n",
    "        unSorted.pop(pos)\n",
    "    return sorted\n",
    " \n",
    " \n",
    "liste = [9,1,34,7,2,3,45,6,78,56,36,65,33,21,23,34,45,6]\n",
    "print(selectionSort(liste))\n",
    "\n",
    "#c\n",
    "#Selectionsort er best. Den utfører gjennomsnittlig færre operasjoner enn bubblesort selv om de er asymptotisk like gode."
   ]
  }
 ],
 "metadata": {
  "kernelspec": {
   "display_name": "Python 2",
   "language": "python",
   "name": "python2"
  },
  "language_info": {
   "codemirror_mode": {
    "name": "ipython",
    "version": 2
   },
   "file_extension": ".py",
   "mimetype": "text/x-python",
   "name": "python",
   "nbconvert_exporter": "python",
   "pygments_lexer": "ipython2",
   "version": "2.7.16"
  }
 },
 "nbformat": 4,
 "nbformat_minor": 2
}
