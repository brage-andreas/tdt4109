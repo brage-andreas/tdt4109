{
 "cells": [
  {
   "cell_type": "code",
   "execution_count": null,
   "metadata": {},
   "outputs": [],
   "source": [
    "#Oppgave a\n",
    "def func(s):\n",
    "    return s.upper().strip()\n",
    " \n",
    "#Oppgave b\n",
    "def func(s, c):\n",
    "    return s.split(c)\n",
    " \n",
    "#Oppgave d\n",
    "def zZz():\n",
    "    for i in range(1,8):\n",
    "        print('Z'*i)\n",
    "    for i in range(8,0,-1):\n",
    "        print('Z'*i)\n",
    "        \n",
    "#c) The more you weigh, the harder you are to kidnap. Stay safe. Eat cake."
   ]
  }
 ],
 "metadata": {
  "kernelspec": {
   "display_name": "Python 2",
   "language": "python",
   "name": "python2"
  },
  "language_info": {
   "codemirror_mode": {
    "name": "ipython",
    "version": 2
   },
   "file_extension": ".py",
   "mimetype": "text/x-python",
   "name": "python",
   "nbconvert_exporter": "python",
   "pygments_lexer": "ipython2",
   "version": "2.7.16"
  }
 },
 "nbformat": 4,
 "nbformat_minor": 2
}
