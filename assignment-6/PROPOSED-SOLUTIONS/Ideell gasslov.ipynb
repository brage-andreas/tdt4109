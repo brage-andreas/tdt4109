{
 "cells": [
  {
   "cell_type": "code",
   "execution_count": null,
   "metadata": {},
   "outputs": [],
   "source": [
    "#Oppgave a\n",
    "def p_ig(t, v, n, rgas=8.31452):\n",
    "    p = (n*rgas*t)/v\n",
    "    return p\n",
    " \n",
    " \n",
    "#Oppgave b\n",
    "def p_ig_pptable(vols,temps, n):\n",
    "    tab = []\n",
    "    for i in range(len(vols)):\n",
    "        vol = vols[i]\n",
    "        tab.append([vol])\n",
    "        for j in range(len(temps)):\n",
    "            temp = temps[j]\n",
    "            p = p_ig(temp, vol, n)\n",
    "            tab[i].append(p)\n",
    "    return tab\n",
    " \n",
    " \n",
    "#Oppgave c\n",
    "nv = 10     # number of volumes (rows) [-]\n",
    "nt = 3      # number of temperatures (columns) [-]\n",
    " \n",
    "n = 10      # [mol]\n",
    "t = [100 + float(j)*200 for j in range(nt)]     # [K]\n",
    "v = [10**(-float(i)/nv) for i in range(1, nv+1)]\n",
    " \n",
    "table = p_ig_pptable(v,t,n)\n",
    " \n",
    "print(\"| Volum (m^3)\".ljust(21),\"|\",(\"Temp. = \"+str(t[0])+\"K\").ljust(19),\"|\",(\"Temp. = \"+str(t[1])+\"K\").ljust(19),\"|\",(\"Temp. = \"+str(t[2])+\"K\").ljust(19),\"|\")\n",
    "print(\"-\"*89)\n",
    " \n",
    "#SKRIV DIN KODE HER\n",
    "for lst in table:\n",
    "    print('|',end=' ')\n",
    "    for el in lst:\n",
    "        print(str(el).ljust(19),\"|\",end =' ')\n",
    "    print(\"\\n\")"
   ]
  }
 ],
 "metadata": {
  "kernelspec": {
   "display_name": "Python 2",
   "language": "python",
   "name": "python2"
  },
  "language_info": {
   "codemirror_mode": {
    "name": "ipython",
    "version": 2
   },
   "file_extension": ".py",
   "mimetype": "text/x-python",
   "name": "python",
   "nbconvert_exporter": "python",
   "pygments_lexer": "ipython2",
   "version": "2.7.16"
  }
 },
 "nbformat": 4,
 "nbformat_minor": 2
}
