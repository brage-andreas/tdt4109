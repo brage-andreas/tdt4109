{
 "cells": [
  {
   "cell_type": "code",
   "execution_count": null,
   "metadata": {},
   "outputs": [],
   "source": [
    "#a)\n",
    "\n",
    "def add_data(str):\n",
    "    user = str.split()\n",
    "    user[2] = int(user[2])\n",
    "    return user\n",
    "\n",
    "#b)\n",
    "\n",
    "def get_person(given_name, facebook):\n",
    "    people = []\n",
    "    for person in facebook:\n",
    "        if person[0] == given_name:\n",
    "            people.append(person)\n",
    "    return people\n",
    "\n",
    "#c)\n",
    "\n",
    "def main():\n",
    "    facebook = []\n",
    "    user = ''\n",
    "    name = ''\n",
    "    print('Hello, welcometo Facebook. Add a new user by writing \"given_name surname age gender relationship_status\"')\n",
    "     \n",
    "    while True:\n",
    "        user = input('Add a new user: ')\n",
    "        if user == 'done':\n",
    "            break\n",
    "        facebook.append(add_data(user))\n",
    "    print('Ok')\n",
    "    while True:\n",
    "        name = input('Search for a user: ')\n",
    "        if name == 'done':\n",
    "            break\n",
    "        print(get_person(name, facebook))\n",
    "main()"
   ]
  }
 ],
 "metadata": {
  "kernelspec": {
   "display_name": "Python 2",
   "language": "python",
   "name": "python2"
  },
  "language_info": {
   "codemirror_mode": {
    "name": "ipython",
    "version": 2
   },
   "file_extension": ".py",
   "mimetype": "text/x-python",
   "name": "python",
   "nbconvert_exporter": "python",
   "pygments_lexer": "ipython2",
   "version": "2.7.16"
  }
 },
 "nbformat": 4,
 "nbformat_minor": 2
}
