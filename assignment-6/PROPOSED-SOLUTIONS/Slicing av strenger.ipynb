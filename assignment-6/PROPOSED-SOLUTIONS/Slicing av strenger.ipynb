{
 "cells": [
  {
   "cell_type": "code",
   "execution_count": 1,
   "metadata": {},
   "outputs": [],
   "source": [
    "#Oppgave a\n",
    "def newString(streng):\n",
    "    return streng[::4]\n",
    " \n",
    "#Oppgave b\n",
    "def newString(liste):\n",
    "    s = \"\"\n",
    "    for st in liste:\n",
    "        s += st[-2:]\n",
    "    return s"
   ]
  },
  {
   "cell_type": "markdown",
   "metadata": {},
   "source": [
    "c) Kodesnutt 2 er korrekt, og vil skrive ut 'Cake'. Dette fordi man kan bruke negative verdier for å vise til plassering i en streng. I tillegg, selv om 100 er mye større enn lengden av strengen, vil Python bruke lengden til strengen som end istedet for å utløse et unntak.\n",
    "\n",
    "Feilen i kodesnutt 1: streng[7:] = \"Cupcake\"\n",
    "Prøver her å endre på strengen, noe som ikke er mulig siden strenger er ikke-muterbare.\n",
    "\n",
    "Feilen i kodesnutt 3: streng = streng[ ]\n",
    "Dette vil gi syntaksfeil."
   ]
  }
 ],
 "metadata": {
  "kernelspec": {
   "display_name": "Python 2",
   "language": "python",
   "name": "python2"
  },
  "language_info": {
   "codemirror_mode": {
    "name": "ipython",
    "version": 2
   },
   "file_extension": ".py",
   "mimetype": "text/x-python",
   "name": "python",
   "nbconvert_exporter": "python",
   "pygments_lexer": "ipython2",
   "version": "2.7.16"
  }
 },
 "nbformat": 4,
 "nbformat_minor": 2
}
