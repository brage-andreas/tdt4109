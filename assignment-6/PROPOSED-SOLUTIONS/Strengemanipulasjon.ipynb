{
 "cells": [
  {
   "cell_type": "code",
   "execution_count": null,
   "metadata": {},
   "outputs": [],
   "source": [
    "#Oppgave a\n",
    "def substrings(str1,str2):\n",
    "    inds = []\n",
    "    i = 0\n",
    "    str3 = str2\n",
    "    while str3.lower().find(str1.lower())>-1:\n",
    "        i += str3.lower().find(str1.lower())\n",
    "        inds.append(i)\n",
    "        str3 = str2[i+1:]\n",
    "        i += 1\n",
    "    return inds\n",
    " \n",
    " \n",
    "#Oppgave b\n",
    "def change_substrings(str1,str2,str3):\n",
    "    indexes = substrings(str1,str2)\n",
    "    newString = \"\"\n",
    "    l = len(str1)\n",
    "    i = 0\n",
    "    for ind in indexes:\n",
    "        ind -= i\n",
    "        if ind<0:\n",
    "            newString += str2[:ind+l-1]+str3\n",
    "        else:\n",
    "            newString += str2[:ind]+str3\n",
    "        str2 = str2[ind+l:]\n",
    "        i += l+ind\n",
    "    return newString+str2"
   ]
  }
 ],
 "metadata": {
  "kernelspec": {
   "display_name": "Python 2",
   "language": "python",
   "name": "python2"
  },
  "language_info": {
   "codemirror_mode": {
    "name": "ipython",
    "version": 2
   },
   "file_extension": ".py",
   "mimetype": "text/x-python",
   "name": "python",
   "nbconvert_exporter": "python",
   "pygments_lexer": "ipython2",
   "version": "2.7.16"
  }
 },
 "nbformat": 4,
 "nbformat_minor": 2
}
