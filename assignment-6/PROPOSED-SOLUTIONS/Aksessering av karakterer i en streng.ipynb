{
 "cells": [
  {
   "cell_type": "code",
   "execution_count": null,
   "metadata": {},
   "outputs": [],
   "source": [
    "#Oppgave a\n",
    "def letters(s):\n",
    "    for ch in s:\n",
    "        print(ch)\n",
    " \n",
    "#Oppgave b\n",
    "def third_letter(s):\n",
    "    if len(s)<3:\n",
    "        return 'q'\n",
    "    return s[2]\n",
    " \n",
    "#Oppgave c\n",
    "def length(s):\n",
    "    return len(s)-1"
   ]
  }
 ],
 "metadata": {
  "kernelspec": {
   "display_name": "Python 2",
   "language": "python",
   "name": "python2"
  },
  "language_info": {
   "codemirror_mode": {
    "name": "ipython",
    "version": 2
   },
   "file_extension": ".py",
   "mimetype": "text/x-python",
   "name": "python",
   "nbconvert_exporter": "python",
   "pygments_lexer": "ipython2",
   "version": "2.7.16"
  }
 },
 "nbformat": 4,
 "nbformat_minor": 2
}
