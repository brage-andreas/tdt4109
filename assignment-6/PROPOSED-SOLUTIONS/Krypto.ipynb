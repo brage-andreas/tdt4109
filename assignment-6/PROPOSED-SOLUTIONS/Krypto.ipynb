{
 "cells": [
  {
   "cell_type": "code",
   "execution_count": null,
   "metadata": {},
   "outputs": [],
   "source": [
    "import binascii\n",
    "import random\n",
    " \n",
    "def toHex(word):\n",
    "    return int(str(binascii.hexlify(word), 'ascii'), 16)\n",
    "  \n",
    "def toString(word):\n",
    "    return str(binascii.unhexlify(hex(word)[2:]), 'ascii')\n",
    " \n",
    "def encrypt(message,key):\n",
    "    message = bytes(message, encoding = 'ascii')\n",
    "    key = bytes(key, encoding = 'ascii')\n",
    "    msg = toHex(message)\n",
    "    key = toHex(key)\n",
    "    code = msg ^ key\n",
    "    return code\n",
    " \n",
    "def decrypt(code,key):\n",
    "    key = bytes(key, encoding = 'ascii')\n",
    "    key = toHex(key)\n",
    "    msg = code ^ key\n",
    "    return toString(msg)\n",
    " \n",
    "def main():\n",
    "    key = 'abc'\n",
    "    msg = 'hei'\n",
    "    # Oppgave a\n",
    "    code = encrypt(msg, key)\n",
    "    print ('Krypto:', code)\n",
    "    # Oppgave b\n",
    "    message = decrypt(code, key)\n",
    "    print('Melding:', message)\n",
    "    # --------------------\n",
    "    # Oppgave c\n",
    "    msg = input('Hva er meldingen? ')\n",
    "    key = ''\n",
    "    \"\"\"for ch in msg:               #Eventuell måte å få tilfeldig nøkkel på\n",
    "        k = random.randint(65,90)\n",
    "        k = toString(k)\n",
    "        key += k\"\"\"\n",
    "    charlst = list(msg)\n",
    "    random.shuffle(charlst)\n",
    "    key = ''.join(charlst)\n",
    "    code = encrypt(msg,key)\n",
    "    print(\"Krypto:\",code)\n",
    "    msg = decrypt(code,key)\n",
    "    print(\"Melding:\",msg)\n",
    " \n",
    "main()"
   ]
  },
  {
   "cell_type": "markdown",
   "metadata": {},
   "source": [
    "d) Sjekk \"Reused Key Attack\": https://en.wikipedia.org/wiki/Stream_cipher_attack\n",
    "\n",
    "[Ved å ta XOR på to meldinger M1 = A XOR C og M2 = B XOR C som er kryptert med samme nøkkel C finner man D = A XOR B.](https://en.wikipedia.org/wiki/Stream_cipher_attack)\n",
    "\n",
    "Deretter kan man ved hjelp av en ordbok teste alle mulige kombinasjoner av tilsvarende lange ord, hvilke to ord som sammen gir D. Med moderne datamaskiner er dette gjort på få sekunder. \n",
    "\n"
   ]
  }
 ],
 "metadata": {
  "kernelspec": {
   "display_name": "Python 2",
   "language": "python",
   "name": "python2"
  },
  "language_info": {
   "codemirror_mode": {
    "name": "ipython",
    "version": 2
   },
   "file_extension": ".py",
   "mimetype": "text/x-python",
   "name": "python",
   "nbconvert_exporter": "python",
   "pygments_lexer": "ipython2",
   "version": "2.7.16"
  }
 },
 "nbformat": 4,
 "nbformat_minor": 2
}
