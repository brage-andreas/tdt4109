{
 "cells": [
  {
   "cell_type": "code",
   "execution_count": null,
   "metadata": {},
   "outputs": [],
   "source": [
    "# a)\n",
    "def check_equal(str1, str2):\n",
    "    if len(str1) == len(str2):\n",
    "        for i in range(len(str1)):\n",
    "            if str1[i] != str2[i]:\n",
    "                return False\n",
    "        return True\n",
    "    return False\n",
    " \n",
    "#alternativ a)\n",
    "def check_equal(str1, str2):\n",
    "    return str1 == str2\n",
    "  \n",
    "# b)\n",
    "def reversed_word(string):\n",
    "    reversed = ''\n",
    "    for i in range(len(string) - 1, -1, -1):\n",
    "        reversed += string[i]\n",
    "    return reversed\n",
    " \n",
    "# c)\n",
    "def check_palindrome(string):\n",
    "    return string == reversed_word(string)\n",
    "  \n",
    "#alternativ c)\n",
    "def check_palindrome(string):\n",
    "    return check_equal(string,reversed_word(string))\n",
    " \n",
    "# d)\n",
    "def contains_string(str1, str2):\n",
    "    ind = -1\n",
    "    for x in range(len(str1)):\n",
    "        if str1[x:(len(str2) + x)] == str2:\n",
    "            ind = x\n",
    "    return ind\n",
    "  \n",
    "#alternativ d)\n",
    "def contains_string(str1,str2):\n",
    "    return str1.find(str2)"
   ]
  }
 ],
 "metadata": {
  "kernelspec": {
   "display_name": "Python 2",
   "language": "python",
   "name": "python2"
  },
  "language_info": {
   "codemirror_mode": {
    "name": "ipython",
    "version": 2
   },
   "file_extension": ".py",
   "mimetype": "text/x-python",
   "name": "python",
   "nbconvert_exporter": "python",
   "pygments_lexer": "ipython2",
   "version": "2.7.16"
  }
 },
 "nbformat": 4,
 "nbformat_minor": 2
}
