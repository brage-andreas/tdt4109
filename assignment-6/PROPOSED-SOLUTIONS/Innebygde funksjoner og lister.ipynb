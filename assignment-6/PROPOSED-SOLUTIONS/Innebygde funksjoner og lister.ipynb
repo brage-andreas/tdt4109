{
 "cells": [
  {
   "cell_type": "code",
   "execution_count": null,
   "metadata": {},
   "outputs": [],
   "source": [
    "# a)\n",
    "import random\n",
    "random_numbers = [random.randint(1,10) for i in range(100)]\n",
    " \n",
    "# b)\n",
    "print('Number of 2s:', random_numbers.count(2))\n",
    " \n",
    " \n",
    "# c)\n",
    "print('Sum of numbers:', sum(random_numbers))\n",
    " \n",
    " \n",
    "# d)\n",
    "random_numbers.sort()\n",
    "print('Numbers sorted:', random_numbers)\n",
    " \n",
    " \n",
    "# e)\n",
    "count = 0\n",
    "most = -1\n",
    "for i in range(1,11):\n",
    "    if random_numbers.count(i) > count:\n",
    "        count = random_numbers.count(i)\n",
    "        most = i\n",
    "print ('There are most of number:', most)\n",
    " \n",
    " \n",
    "# f)\n",
    "random_numbers.reverse()\n",
    "print('Numbers reversed:', random_numbers)"
   ]
  }
 ],
 "metadata": {
  "kernelspec": {
   "display_name": "Python 2",
   "language": "python",
   "name": "python2"
  },
  "language_info": {
   "codemirror_mode": {
    "name": "ipython",
    "version": 2
   },
   "file_extension": ".py",
   "mimetype": "text/x-python",
   "name": "python",
   "nbconvert_exporter": "python",
   "pygments_lexer": "ipython2",
   "version": "2.7.16"
  }
 },
 "nbformat": 4,
 "nbformat_minor": 2
}
