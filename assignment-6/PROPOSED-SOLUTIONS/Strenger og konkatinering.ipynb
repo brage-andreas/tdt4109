{
 "cells": [
  {
   "cell_type": "code",
   "execution_count": null,
   "metadata": {},
   "outputs": [],
   "source": [
    "#Oppgave a\n",
    "def konkatinering(s1,s2):\n",
    "    return s1 + ' ' + s2\n",
    " \n",
    "#Oppgave b\n",
    "def list2string(liste):\n",
    "    st = \"\"\n",
    "    for s in liste:\n",
    "        st += s\n",
    "    return st\n",
    " \n",
    "#Oppgave c\n",
    "def firstLetter(liste):\n",
    "    for s in liste:\n",
    "        print(s[0])\n",
    "        \n",
    "#oppgave d\n",
    "#Kodesnutten vil skrive ut: bobbob"
   ]
  }
 ],
 "metadata": {
  "kernelspec": {
   "display_name": "Python 2",
   "language": "python",
   "name": "python2"
  },
  "language_info": {
   "codemirror_mode": {
    "name": "ipython",
    "version": 2
   },
   "file_extension": ".py",
   "mimetype": "text/x-python",
   "name": "python",
   "nbconvert_exporter": "python",
   "pygments_lexer": "ipython2",
   "version": "2.7.16"
  }
 },
 "nbformat": 4,
 "nbformat_minor": 2
}
