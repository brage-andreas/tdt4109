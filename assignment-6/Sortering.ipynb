{
 "cells": [
  {
   "cell_type": "markdown",
   "metadata": {
    "deletable": false,
    "editable": false,
    "run_control": {
     "frozen": true
    }
   },
   "source": [
    "<nav class=\"navbar navbar-default\">\n",
    "  <div class=\"container-fluid\">\n",
    "    <div class=\"navbar-header\">\n",
    "      <a class=\"navbar-brand\" href=\"_Oving6.ipynb\">Øving 6</a>\n",
    "    </div>\n",
    "    <ul class=\"nav navbar-nav\">\n",
    "    <li ><a href=\"Aksessering.ipynb\">Aksessering av karakter</a></li>\n",
    "    <li ><a href=\"Strenger%20og%20konkatinering.ipynb\">Konkatinering</a></li>\n",
    "    <li ><a href=\"Slicing.ipynb\">Slicing</a></li>\n",
    "    <li ><a href=\"Tekstbehandling.ipynb\">Tekstbehandling</a></li>\n",
    "    <li ><a href=\"Strenghandtering.ipynb\">Strenghåndtering</a></li>\n",
    "    <li ><a href=\"Innebygde%20funksjoner.ipynb\">Innebygde funksjoner og lister</a></li>\n",
    "    <li ><a href=\"Fjesboka.ipynb\">Fjesboka</a></li>\n",
    "    <li ><a href=\"Akkorder%20og%20toner.ipynb\">Akkorder og toner</a></li>\n",
    "    <li ><a href=\"Ideel%20gasslov.ipynb\">Ideel Gasslov</a></li>\n",
    "    <li><a href=\"Sammenhengende%20tallrekke.ipynb\">Sammenhengende Tallrekke</a></li>\n",
    "    <li  class=\"active\"><a href=\"Sortering.ipynb\">Sortering</a></li>\n",
    "    <li ><a href=\"Strengmanipulasjon.ipynb\">Strengmanipulasjon</a></li>\n",
    "    <li ><a href=\"Kryptering.ipynb\">Kryptering</a></li>\n",
    "    <li ><a href=\"Litt%20sjakk.ipynb\">Litt Sjakk</a></li>\n",
    "    </ul>\n",
    "  </div>\n",
    "</nav>\n",
    "\n",
    "# Sortering\n",
    "\n",
    "**Læringsmål:**\n",
    "\n",
    "* Lister\n",
    "* Sortering\n",
    "\n",
    "**Starting Out with Python:**\n",
    "\n",
    "* Kap. 7: Lists and Tuples\n",
    "\n",
    "Sortering av tall er en vanlig aktivitet i dataverden. Det er derfor utviklet mange mer eller mindre avanserte algoritmer for å gjøre dette effektivt (få antall beregninger). \n",
    "\n",
    "I denne oppgaven skal vi implementere to enkle sorteringsalgoritmer: [Bubble Sort](https://en.wikipedia.org/wiki/Bubble_sort) og [Selection Sort](https://en.wikipedia.org/wiki/Selection_sort). "
   ]
  },
  {
   "cell_type": "markdown",
   "metadata": {
    "deletable": false,
    "editable": false,
    "run_control": {
     "frozen": true
    }
   },
   "source": [
    "### a)"
   ]
  },
  {
   "cell_type": "markdown",
   "metadata": {
    "deletable": false,
    "editable": false,
    "run_control": {
     "frozen": true
    }
   },
   "source": [
    "Skriv funksjonen bubble_sort(list), forklart under.\n",
    "\n",
    "* Så lenge listen er usortert:\n",
    " * Gå gjennom hele listen\n",
    "   * Hvis elementet på plass i er større enn elementet på plass i+1\n",
    "     * Bytt plass på de to elementene\n",
    "     \n",
    "Funksjonen skal returnere den sorterte listen.\n",
    "\n",
    "**Eksempel på kjøring:**\n",
    "```python\n",
    "liste = [9,1,34,7,2,3,45,6,78,56,36,65,33,21,23,34,45,6]\n",
    "print(bubble_sort(liste))\n",
    "# Output blir:\n",
    "# [1, 2, 3, 6, 6, 7, 9, 21, 23, 33, 34, 34, 36, 45, 45, 56, 65, 78]\n",
    "```\n",
    "\n",
    "***Skriv koden din i kodeblokken under:***"
   ]
  },
  {
   "cell_type": "markdown",
   "metadata": {},
   "source": [
    "Skriv funksjonen bubble_sort(list), forklart under.\n",
    "\n",
    "* Så lenge listen er usortert:\n",
    " * Gå gjennom hele listen\n",
    "   * Hvis elementet på plass i er større enn elementet på plass i+1\n",
    "     * Bytt plass på de to elementene\n",
    "     \n",
    "Funksjonen skal returnere den sorterte listen.\n",
    "\n",
    "**Eksempel på kjøring:**\n",
    "```python\n",
    "liste = [9,1,34,7,2,3,45,6,78,56,36,65,33,21,23,34,45,6]\n",
    "print(bubble_sort(liste))\n",
    "# Output blir:\n",
    "# [1, 2, 3, 6, 6, 7, 9, 21, 23, 33, 34, 34, 36, 45, 45, 56, 65, 78]\n",
    "```\n",
    "\n",
    "***Skriv koden din i kodeblokken under:***"
   ]
  },
  {
   "cell_type": "code",
   "execution_count": null,
   "metadata": {},
   "outputs": [],
   "source": [
    "def swap_elements(list: list, index_a: int, index_b: int) -> list:\n",
    "    list[index_a], list[index_b] = list[index_b], list[index_a]\n",
    "\n",
    "    return list\n",
    "\n",
    "\n",
    "def bubble_sort(list: list[int]) -> list[int]:\n",
    "    mutable_list = list\n",
    "    sorted_last_iteration = True\n",
    "\n",
    "    while sorted_last_iteration:\n",
    "        sorted_last_iteration = False\n",
    "        \n",
    "        for index in range(0, len(list) - 1):\n",
    "            if list[index] <= list[index + 1]:\n",
    "                continue\n",
    "\n",
    "            mutable_list = swap_elements(mutable_list, index, index + 1)\n",
    "            sorted_last_iteration = True\n",
    "\n",
    "    return mutable_list\n"
   ]
  },
  {
   "cell_type": "markdown",
   "metadata": {
    "deletable": false,
    "editable": false,
    "run_control": {
     "frozen": true
    }
   },
   "source": [
    "**Testkode**"
   ]
  },
  {
   "cell_type": "code",
   "execution_count": null,
   "metadata": {},
   "outputs": [],
   "source": [
    "liste = [9,1,34,7,2,3,45,6,78,56,36,65,33,21,23,34,45,6]\n",
    "print(bubble_sort(liste))"
   ]
  },
  {
   "cell_type": "markdown",
   "metadata": {
    "deletable": false,
    "editable": false,
    "run_control": {
     "frozen": true
    }
   },
   "source": [
    "### b)"
   ]
  },
  {
   "cell_type": "markdown",
   "metadata": {
    "deletable": false,
    "editable": false,
    "run_control": {
     "frozen": true
    }
   },
   "source": [
    "Skriv funksjonen `selection_sort(list)`, forklart under.\n",
    "\n",
    "* Lag en ny liste \n",
    "* Gå gjennom hele den usorterte listen\n",
    " * Finn det største tallet i den usorterte listen\n",
    "   * Legg dette inn fremst i den nye listen\n",
    "   * Fjern elementet fra den usorterte listen\n",
    "   \n",
    "Funksjonen skal returnere den sorterte listen.\n",
    "\n",
    "**Eksempel på kjøring:**\n",
    "```python\n",
    "liste = [9,1,34,7,2,3,45,6,78,56,36,65,33,21,23,34,45,6]\n",
    "print(selection_sort(liste))\n",
    "# Output blir:\n",
    "# [1, 2, 3, 6, 6, 7, 9, 21, 23, 33, 34, 34, 36, 45, 45, 56, 65, 78]\n",
    "```\n",
    "\n",
    "**Skriv koden din i kodeblokken under:**"
   ]
  },
  {
   "cell_type": "code",
   "execution_count": null,
   "metadata": {},
   "outputs": [],
   "source": [
    "def selection_sort(list: list[int]) -> list[int]:\n",
    "    mutable_list = list\n",
    "    sorted_list = []\n",
    "\n",
    "    while len(mutable_list) > 0:\n",
    "        minimum = (0, mutable_list[0])\n",
    "\n",
    "        for index in range(0, len(mutable_list)):\n",
    "            if mutable_list[index] < minimum[1]:\n",
    "                minimum = (index, mutable_list[index])\n",
    "\n",
    "        sorted_list.append(minimum[1])\n",
    "        del mutable_list[minimum[0]]\n",
    "\n",
    "    return sorted_list\n"
   ]
  },
  {
   "cell_type": "markdown",
   "metadata": {
    "deletable": false,
    "editable": false,
    "run_control": {
     "frozen": true
    }
   },
   "source": [
    "**Testkode**"
   ]
  },
  {
   "cell_type": "code",
   "execution_count": null,
   "metadata": {},
   "outputs": [],
   "source": [
    "liste = [9,1,34,7,2,3,45,6,78,56,36,65,33,21,23,34,45,6]\n",
    "print(selection_sort(liste))"
   ]
  },
  {
   "cell_type": "markdown",
   "metadata": {
    "deletable": false,
    "editable": false,
    "run_control": {
     "frozen": true
    }
   },
   "source": [
    "### c) (Frivillig)"
   ]
  },
  {
   "cell_type": "markdown",
   "metadata": {
    "deletable": false,
    "editable": false,
    "run_control": {
     "frozen": true
    }
   },
   "source": [
    "Hvilken av de to algoritmene er \"best\"/raskest til å sortere? Her kan det være lurt å lese seg opp på \"store O\"."
   ]
  },
  {
   "cell_type": "markdown",
   "metadata": {},
   "source": [
    "**Svar:** Begge har worst-case O(n^2) comparisons, men selection sort har O(n) som worst-case swaps siden den vil bare swappe hver index én gang,\n",
    "mens bubble sort har O(n^2) som worst-case swaps siden den kan ende med å måtte flytte alle indexer gjennom alle indexer. "
   ]
  }
 ],
 "metadata": {
  "kernelspec": {
   "display_name": "Python 3",
   "language": "python",
   "name": "python3"
  },
  "language_info": {
   "codemirror_mode": {
    "name": "ipython",
    "version": 3
   },
   "file_extension": ".py",
   "mimetype": "text/x-python",
   "name": "python",
   "nbconvert_exporter": "python",
   "pygments_lexer": "ipython3",
   "version": "3.11.3"
  },
  "toc": {
   "base_numbering": 1,
   "nav_menu": {},
   "number_sections": false,
   "sideBar": true,
   "skip_h1_title": false,
   "title_cell": "Table of Contents",
   "title_sidebar": "Contents",
   "toc_cell": false,
   "toc_position": {},
   "toc_section_display": true,
   "toc_window_display": false
  }
 },
 "nbformat": 4,
 "nbformat_minor": 2
}
