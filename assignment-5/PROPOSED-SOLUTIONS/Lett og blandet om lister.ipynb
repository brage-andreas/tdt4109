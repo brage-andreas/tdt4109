{
 "cells": [
  {
   "cell_type": "code",
   "execution_count": null,
   "metadata": {},
   "outputs": [],
   "source": [
    "#a)\n",
    "\n",
    "def isSixAtEdge(lst):\n",
    "    return (lst[0] == 6 or lst[-1] == 6)\n",
    " \n",
    "\n",
    "#b)\n",
    "\n",
    "def average(lst):\n",
    "    return sum(lst)/len(lst)\n",
    " \n",
    "\n",
    "\n",
    "#c)\n",
    "\n",
    "def median(lst):\n",
    "    lst.sort()\n",
    "    medianIndex = int((len(lst)-1)/2)\n",
    "    return lst[medianIndex]"
   ]
  }
 ],
 "metadata": {
  "kernelspec": {
   "display_name": "Python 2",
   "language": "python",
   "name": "python2"
  },
  "language_info": {
   "codemirror_mode": {
    "name": "ipython",
    "version": 2
   },
   "file_extension": ".py",
   "mimetype": "text/x-python",
   "name": "python",
   "nbconvert_exporter": "python",
   "pygments_lexer": "ipython2",
   "version": "2.7.16"
  }
 },
 "nbformat": 4,
 "nbformat_minor": 2
}
