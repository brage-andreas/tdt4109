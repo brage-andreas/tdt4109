{
 "cells": [
  {
   "cell_type": "code",
   "execution_count": null,
   "metadata": {},
   "outputs": [],
   "source": [
    "tenner = [95,103,71,99,114,64,95,53,97,114,109,11,2,21,45,2,26,81,54,14,118,108,117,27,115,43,70,58,107]\n",
    "mynter_20 = 0\n",
    "mynter_10 = 0\n",
    "mynter_5 = 0\n",
    "mynter_1 = 0\n",
    "li = []\n",
    "for tann in tenner :\n",
    "  while tann > 0:\n",
    "    if tann >= 20:\n",
    "      tann -= 20\n",
    "      mynter_20 += 1\n",
    "    elif tann >= 10:\n",
    "      tann -= 10\n",
    "      mynter_10 += 1\n",
    "    elif tann >= 5:\n",
    "      tann -= 5\n",
    "      mynter_5 += 1\n",
    "    else:\n",
    "      tann -= 1\n",
    "      mynter_1 += 1\n",
    "  print (\"20:\", mynter_20 , \", 10:\", mynter_10 , \", 5:\", mynter_5 , \", 1:\",mynter_1)\n",
    "  li.append([mynter_20,mynter_10,mynter_5,mynter_1])\n",
    "  mynter_20 = 0\n",
    "  mynter_10 = 0\n",
    "  mynter_5 = 0\n",
    "  mynter_1 = 0\n",
    "print(li)\n",
    "\n",
    "\n",
    "#Alternativ løsning:\n",
    "\n",
    "tenner = [95,103,71,99,114,64,95,53,97,114,109,11,2,21,45,2,26,81,54,14,118,108,117,27,115,43,70,58,107]\n",
    " \n",
    "li = []\n",
    "mynter = [20,10,5,1]\n",
    "for tann in tenner :\n",
    "    li2 = []\n",
    "    for mynt in mynter:\n",
    "        li2.append(tann//mynt)\n",
    "        tann -= mynt*(tann//mynt)       #evt. tann = tann%mynt\n",
    "    print (\"20:\", li2[0], \", 10:\", li2[1], \", 5:\", li2[2], \", 1:\", li2[3])\n",
    "    li.append(li2)\n",
    "print(li)"
   ]
  }
 ],
 "metadata": {
  "kernelspec": {
   "display_name": "Python 2",
   "language": "python",
   "name": "python2"
  },
  "language_info": {
   "codemirror_mode": {
    "name": "ipython",
    "version": 2
   },
   "file_extension": ".py",
   "mimetype": "text/x-python",
   "name": "python",
   "nbconvert_exporter": "python",
   "pygments_lexer": "ipython2",
   "version": "2.7.16"
  }
 },
 "nbformat": 4,
 "nbformat_minor": 2
}
