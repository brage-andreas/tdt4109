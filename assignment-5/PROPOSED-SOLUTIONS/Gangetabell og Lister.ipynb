{
 "cells": [
  {
   "cell_type": "code",
   "execution_count": null,
   "metadata": {},
   "outputs": [],
   "source": [
    "#a) \n",
    "\n",
    "def separate(numbers, threshold):\n",
    "    list1 = []\n",
    "    list2 = []\n",
    "    for i in numbers :\n",
    "        if i < threshold :\n",
    "            list1 . append (i)\n",
    "        else:\n",
    "            list2 . append (i)\n",
    "    return list1 , list2\n",
    "\n",
    "#b) \n",
    "\n",
    "def multiplication_table(n):\n",
    "    multiplication_table = []\n",
    "    for y in range (1, n + 1):\n",
    "        row = []\n",
    "        for x in range (1, n + 1):\n",
    "            row.append(x * y)\n",
    "        multiplication_table.append(row)\n",
    "    return multiplication_table\n",
    " \n",
    "print (multiplication_table(4))"
   ]
  }
 ],
 "metadata": {
  "kernelspec": {
   "display_name": "Python 2",
   "language": "python",
   "name": "python2"
  },
  "language_info": {
   "codemirror_mode": {
    "name": "ipython",
    "version": 2
   },
   "file_extension": ".py",
   "mimetype": "text/x-python",
   "name": "python",
   "nbconvert_exporter": "python",
   "pygments_lexer": "ipython2",
   "version": "2.7.16"
  }
 },
 "nbformat": 4,
 "nbformat_minor": 2
}
