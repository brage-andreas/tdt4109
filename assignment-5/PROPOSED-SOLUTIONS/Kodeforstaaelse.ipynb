{
 "cells": [
  {
   "cell_type": "markdown",
   "metadata": {},
   "source": [
    "a) [9, 7, 5, 3, 2, 1]\n",
    "\n",
    "Koden reverserer listen\n",
    "\n",
    " \n",
    "\n",
    "b) [2, 3, 4, 7, 1, 5, 9, 8, 6, 10]\n",
    "\n",
    "Koden randomiserer plasseringen av tallene 1-10 i en liste\n",
    "\n",
    " \n",
    "\n",
    "c) [7]\n",
    "\n",
    " \n",
    "\n",
    "d) \n",
    "\n",
    "Riktig kode:"
   ]
  },
  {
   "cell_type": "code",
   "execution_count": null,
   "metadata": {},
   "outputs": [],
   "source": [
    "navn = ['Carina', 'erik', 'Magnus', 'Miriam']\n",
    "navn[1] = 'Erik'\n",
    "print(navn)"
   ]
  },
  {
   "cell_type": "markdown",
   "metadata": {},
   "source": [
    "Det var vanlige parenteser og ikke hakeparenteser, altså var navn en tuppel (som er en ikke-muterbar sekvens).\n",
    "\n",
    "En alternativ løsning er å bruke navn = list(navn) for å endre tuppelen navn til en liste navn:"
   ]
  },
  {
   "cell_type": "code",
   "execution_count": null,
   "metadata": {},
   "outputs": [],
   "source": [
    "navn = ('Carina', 'erik', 'Magnus', 'Miriam')\n",
    "navn = list(navn)\n",
    "navn[1] = 'Erik'\n",
    "print(navn)"
   ]
  },
  {
   "cell_type": "markdown",
   "metadata": {},
   "source": [
    "e) [10, 9, 8, 7, 6, 5, 4, 3, 2]"
   ]
  }
 ],
 "metadata": {
  "kernelspec": {
   "display_name": "Python 2",
   "language": "python",
   "name": "python2"
  },
  "language_info": {
   "codemirror_mode": {
    "name": "ipython",
    "version": 2
   },
   "file_extension": ".py",
   "mimetype": "text/x-python",
   "name": "python",
   "nbconvert_exporter": "python",
   "pygments_lexer": "ipython2",
   "version": "2.7.16"
  }
 },
 "nbformat": 4,
 "nbformat_minor": 2
}
