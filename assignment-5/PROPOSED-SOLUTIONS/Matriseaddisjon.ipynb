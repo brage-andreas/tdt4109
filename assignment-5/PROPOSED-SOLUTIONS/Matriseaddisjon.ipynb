{
 "cells": [
  {
   "cell_type": "code",
   "execution_count": null,
   "metadata": {},
   "outputs": [],
   "source": [
    "import random\n",
    "def random_matrise(bredde, høyde):\n",
    "    matrise = [[random.randint(0,9) for j in range(bredde)] for i in range(høyde)]\n",
    "    return matrise\n",
    " \n",
    " \n",
    "def print_matrise(matrise, navn):\n",
    "    print(navn+'=[')\n",
    "    for rad in matrise:\n",
    "        print((len(navn)+1)*' ',rad)\n",
    "    print(len(navn)*' ',']')\n",
    " \n",
    "def matrise_addisjon(a, b):\n",
    "    if len(a)==len(b) and len(a[0])==len(b[0]):\n",
    "        matrise = [[0 for j in range(len(a[0]))] for i in range(len(a))]\n",
    "        for x in range(len(matrise)):\n",
    "            for y in range(len(matrise[0])):\n",
    "                matrise[x][y] = a[x][y] + b[x][y]\n",
    "        return matrise\n",
    "    else:\n",
    "        print(\"Matrisene er ikke av samme dimensjon\")\n",
    "  \n",
    "def main():\n",
    "    A = random_matrise(4,3)\n",
    "    print_matrise(A, 'A')\n",
    "    B = random_matrise(3,4)\n",
    "    print_matrise(B, 'B')\n",
    "    C = random_matrise(3,4)\n",
    "    print_matrise(C, 'C')\n",
    "    D = matrise_addisjon(A,B)\n",
    "    E = matrise_addisjon(B,C)\n",
    "    print_matrise(E, 'B+C' )\n",
    "     \n",
    "                    \n",
    "main()"
   ]
  }
 ],
 "metadata": {
  "kernelspec": {
   "display_name": "Python 2",
   "language": "python",
   "name": "python2"
  },
  "language_info": {
   "codemirror_mode": {
    "name": "ipython",
    "version": 2
   },
   "file_extension": ".py",
   "mimetype": "text/x-python",
   "name": "python",
   "nbconvert_exporter": "python",
   "pygments_lexer": "ipython2",
   "version": "2.7.16"
  }
 },
 "nbformat": 4,
 "nbformat_minor": 2
}
