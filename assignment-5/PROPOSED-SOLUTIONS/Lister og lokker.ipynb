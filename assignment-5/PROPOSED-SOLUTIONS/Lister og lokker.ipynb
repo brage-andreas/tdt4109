{
 "cells": [
  {
   "cell_type": "code",
   "execution_count": null,
   "metadata": {},
   "outputs": [],
   "source": [
    "#a)\n",
    "\n",
    "number_list = [i for i in range(100)]\n",
    " \n",
    "\n",
    "#b)\n",
    "\n",
    "sum = 0\n",
    "for number in number_list:\n",
    "    if number % 3 == 0 or number % 10 == 0:\n",
    "        sum += number\n",
    "print(sum)\n",
    " \n",
    "\n",
    "#c)\n",
    "\n",
    "for i in range(0, len(number_list)-1,2):\n",
    "    number_list[i], number_list[i+1] = number_list[i+1], number_list[i]\n",
    "print(number_list)\n",
    "\n",
    "#d)\n",
    "\n",
    "reversed_list = []\n",
    "for i in range(len(number_list)):\n",
    "    reversed_list.append(number_list[99-i])\n",
    "print(reversed_list)\n",
    "\n",
    "\n",
    "#Alternativ løsning oppgave d)\n",
    "reversed_list = []\n",
    "for i in range(len(number_list)-1,-1,-1):\n",
    "    reversed_list.append(number_list[i])\n",
    "print(reversed_list)"
   ]
  }
 ],
 "metadata": {
  "kernelspec": {
   "display_name": "Python 2",
   "language": "python",
   "name": "python2"
  },
  "language_info": {
   "codemirror_mode": {
    "name": "ipython",
    "version": 2
   },
   "file_extension": ".py",
   "mimetype": "text/x-python",
   "name": "python",
   "nbconvert_exporter": "python",
   "pygments_lexer": "ipython2",
   "version": "2.7.16"
  }
 },
 "nbformat": 4,
 "nbformat_minor": 2
}
