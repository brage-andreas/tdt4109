{
 "cells": [
  {
   "cell_type": "code",
   "execution_count": null,
   "metadata": {},
   "outputs": [],
   "source": [
    "#a)\n",
    "\n",
    "import random\n",
    "def make_vec():\n",
    "    vec = []\n",
    "    for i in range(3):\n",
    "        vec.append(random.randint(-10,10))\n",
    "    return vec\n",
    "#b)\n",
    "\n",
    "def vec_print(liste, name):\n",
    "    print(name,\"=\",liste)\n",
    "#c)\n",
    "\n",
    "def vec_mult(liste, num):\n",
    "    liste2 = []\n",
    "    for el in liste:\n",
    "        liste2 += [el*num]\n",
    "    return liste2\n",
    "#d)\n",
    "\n",
    "def vec_len(vec):\n",
    "    v_len = 0\n",
    "    for el in vec:\n",
    "        v_len += el**2\n",
    "    v_len = v_len**0.5\n",
    "    return v_len\n",
    "#e)\n",
    "\n",
    "def vector_dot_product(vec1,vec2):\n",
    "    innerprod = 0\n",
    "    for i in range(len(vec1)):\n",
    "        innerprod += vec1[i]*vec2[i]\n",
    "    return innerprod\n",
    "#f)\n",
    "\n",
    "def main():\n",
    "    vec1 = make_vec()\n",
    "    vec_print(vec1,\"vec1\")\n",
    "    num = eval(input(\"Skriv inn en skalar: \"))\n",
    "    vec2 = vec_mult(vec1, num)\n",
    "    v1_len = vec_len(vec1)\n",
    "    v2_len = vec_len(vec2)\n",
    "    print(\"Lengden før skalering er: %.2f\"%v1_len)\n",
    "    print(\"Lengden etter skalering er: %.2f\"%v2_len)\n",
    "    print(\"Forholdet mellom lengden før og etter skalering er:\",end=\" \")\n",
    "    if v1_len==0:\n",
    "        print(\"udefinert\")\n",
    "    else:\n",
    "        print(v2_len/v1_len)\n",
    "    print(\"Prikkproduktet av\",vec1,\"og\",vec2,\"er:\",vector_dot_product(vec1,vec2))"
   ]
  }
 ],
 "metadata": {
  "kernelspec": {
   "display_name": "Python 2",
   "language": "python",
   "name": "python2"
  },
  "language_info": {
   "codemirror_mode": {
    "name": "ipython",
    "version": 2
   },
   "file_extension": ".py",
   "mimetype": "text/x-python",
   "name": "python",
   "nbconvert_exporter": "python",
   "pygments_lexer": "ipython2",
   "version": "2.7.16"
  }
 },
 "nbformat": 4,
 "nbformat_minor": 2
}
