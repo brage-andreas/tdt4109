{
 "cells": [
  {
   "cell_type": "markdown",
   "metadata": {
    "deletable": false,
    "editable": false,
    "run_control": {
     "frozen": true
    }
   },
   "source": [
    "<nav class=\"navbar navbar-default\">\n",
    "  <div class=\"container-fluid\">\n",
    "    <div class=\"navbar-header\">\n",
    "      <a class=\"navbar-brand\" href=\"_Oving5.ipynb\">Øving 5</a>\n",
    "    </div>\n",
    "    <ul class=\"nav navbar-nav\">\n",
    "      <li ><a href=\"Generelt%20om%20lister.ipynb\">Generelt om lister</a></li>\n",
    "    <li ><a href=\"Lett%20og%20blandet.ipynb\">Lett og blandet</a></li>\n",
    "    <li ><a href=\"Kodeforstaelse.ipynb\">Kodeforståelse</a></li>\n",
    "    <li ><a href=\"Vektorer.ipynb\">Vektorer</a></li>\n",
    "    <li ><a href=\"Lister%20og%20lokker.ipynb\">Lister og løkker</a></li>\n",
    "    <li ><a href=\"Teoridelen%20paa%20eksamen.ipynb\">Teoridelen på eksamen</a></li>\n",
    "    <li ><a href=\"Gangetabell%20og%20lister.ipynb\">Gangetabell og lister</a></li>\n",
    "    <li ><a href=\"Lotto.ipynb\">Lotto</a></li>\n",
    "    <li ><a href=\"Tannfeen.ipynb\">Tannfeen</a></li>\n",
    "        <li ><a href=\"Chattebot.ipynb\">Chattebot</a></li>\n",
    "    <li class=\"active\"><a href=\"Matriseaddisjon.ipynb\">Matriseaddisjon</a></li>\n",
    "    </ul>\n",
    "  </div>\n",
    "</nav>\n",
    "\n",
    "# Matriseaddisjon\n",
    "\n",
    "**Læringsmål:**\n",
    "\n",
    "* Lister av flere dimensjoner\n",
    "\n",
    "**Starting Out with Python:**\n",
    "\n",
    "* Kap. 7.8\n",
    "\n",
    "I denne oppgaven skal du implementere noen funksjoner slik at to matriser blir skrevet ut på et fint format og addert med hverandre. \n",
    "\n",
    "En matrise er et godt eksempel på en todimensjonal liste av tall som har et bestemt antall rader x og et bestemt antall kolonner y. Du kan tenke på en matrise som en liste med x antall elementer, hvor hvert element er en liste av størrelse y. I denne oppgaven skal vi se på matriseaddisjon. I denne oppgaven definerer vi addisjon av to matriser på samme måte som med vektoraddisjon: dersom vi skal summere matrise a med b og kaller den nye matrisen for c, vil *c[x][y]* være *a[x][y]* + *b[x][y]*, hvor *c[x][y]* er elementet i matrisen c som befinner seg på rad *x* og kolonne *y*.\n",
    "\n",
    "Du får gitt en main-funksjon med følgende kode:"
   ]
  },
  {
   "cell_type": "code",
   "execution_count": null,
   "metadata": {
    "ExecuteTime": {
     "end_time": "2019-07-03T11:03:43.356638Z",
     "start_time": "2019-07-03T11:03:43.345161Z"
    }
   },
   "outputs": [],
   "source": [
    "def main():\n",
    "    A = random_matrise(4,3)\n",
    "    print_matrise(A, 'A')\n",
    "    B = random_matrise(3,4)\n",
    "    print_matrise(B, 'B')\n",
    "    C = random_matrise(3,4)\n",
    "    print_matrise(C, 'C')\n",
    "    D = matrise_addisjon(A,B)\n",
    "    E = matrise_addisjon(B,C)\n",
    "    print_matrise(E, 'B+C' )"
   ]
  },
  {
   "cell_type": "markdown",
   "metadata": {
    "ExecuteTime": {
     "end_time": "2019-07-03T11:03:58.395784Z",
     "start_time": "2019-07-03T11:03:58.385979Z"
    },
    "deletable": false,
    "editable": false,
    "run_control": {
     "frozen": true
    }
   },
   "source": [
    "som, etter at du har gjort oppgaven, skal gi følgende utskrift:\n",
    "\n",
    "```python\n",
    "A=[\n",
    "   [1, 8, 4, 3]\n",
    "   [5, 1, 5, 8]\n",
    "   [9, 5, 8, 0]\n",
    "  ]\n",
    "B=[\n",
    "   [7, 3, 3]\n",
    "   [2, 1, 7]\n",
    "   [2, 2, 3]\n",
    "   [3, 5, 9]\n",
    "  ]\n",
    "C=[\n",
    "   [4, 4, 6]\n",
    "   [1, 9, 0]\n",
    "   [9, 8, 5]\n",
    "   [2, 9, 5]\n",
    "  ]\n",
    "Matrisene er ikke av samme dimensjon # A og B har ulike dimensjoner (ulikt antall rader og kolonner)\n",
    "B+C=[\n",
    "     [11, 7, 9]\n",
    "     [3, 10, 7]\n",
    "     [11, 10, 8]\n",
    "     [5, 14, 14]\n",
    "    ]\n",
    "```\n",
    "    \n",
    "    \n",
    "**Din oppgave**\n",
    "\n",
    "Implementer funksjonene `random_matrise(bredde, høyde)`, `print_matrise(matrise, navn)` og `matrise_addisjon(a, b)` slik at utskriften av `main()` gir utskriften over.\n",
    "\n",
    "1. Funksjonen `random_matrise(bredde, høyde)` skal returnere en matrise med *høyde* antall rader og *bredde* antall kolonner. Matrisen skal være fylt med tilfeldige tall fra og med 0 til 10. Bruk random-biblioteket.\n",
    "2. `print_matrise(matrise, navn)` skal printe ut matrisene på samme format som vist i utskriften over. \n",
    "3. `matrise_addisjon(a, b)` skal ta inn to matriser og returnere en matrise som er summen av a og b. Dersom to matriser er av ulik størrelse er det umulig å addere matrisene og \"Matrisene er ikke av samme dimensjon\" skal skrives ut. \n",
    "\n",
    "***Skriv koden din i boksen under.***"
   ]
  },
  {
   "cell_type": "code",
   "execution_count": 11,
   "metadata": {},
   "outputs": [],
   "source": [
    "from random import randint\n",
    "\n",
    "Matrix = list[list[int]]\n",
    "\n",
    "\n",
    "def flatten_matrix(data: Matrix) -> list[int]:\n",
    "    return [x for y in data for x in y]\n",
    "\n",
    "\n",
    "def create_matrix(width: int, height: int, data: list[int]) -> Matrix:\n",
    "    return [[data[x + width * y] for x in range(width)] for y in range(height)]\n",
    "\n",
    "\n",
    "def random_matrise(bredde: int, høyde: int) -> Matrix:\n",
    "    data = list(randint(0, 10) for _ in range(bredde * høyde))\n",
    "\n",
    "    return create_matrix(bredde, høyde, data)\n",
    "\n",
    "\n",
    "def print_matrise(matrise: Matrix, navn: str) -> None:\n",
    "    indent = \" \" * (len(navn) + 1)\n",
    "\n",
    "    print(\n",
    "        f\"{navn}=[\",\n",
    "        \"\\n\".join([f\"{indent} {line}\" for line in matrise]),\n",
    "        f\"{indent}]\",\n",
    "        sep=\"\\n\",\n",
    "    )\n",
    "\n",
    "\n",
    "def matrise_addisjon(a: Matrix, b: Matrix) -> Matrix | None:\n",
    "    a_height = len(a)\n",
    "    b_height = len(b)\n",
    "    a_width = len(a[0])\n",
    "    b_width = len(b[0])\n",
    "\n",
    "    if a_height != b_height or a_width != b_width:\n",
    "        print(\"Matrisene er ikke av samme dimensjon\")\n",
    "\n",
    "        return\n",
    "\n",
    "    flat_a = flatten_matrix(a)\n",
    "    flat_b = flatten_matrix(b)\n",
    "\n",
    "    new_data = [a + b for a, b in zip(flat_a, flat_b)]\n",
    "\n",
    "    return create_matrix(a_width, a_height, new_data)\n"
   ]
  },
  {
   "cell_type": "code",
   "execution_count": 18,
   "metadata": {},
   "outputs": [
    {
     "name": "stdout",
     "output_type": "stream",
     "text": [
      "A=[\n",
      "   [1, 7, 9, 5]\n",
      "   [9, 10, 1, 8]\n",
      "   [7, 7, 8, 9]\n",
      "  ]\n",
      "B=[\n",
      "   [4, 10, 2]\n",
      "   [3, 0, 1]\n",
      "   [4, 3, 7]\n",
      "   [9, 8, 7]\n",
      "  ]\n",
      "C=[\n",
      "   [2, 10, 10]\n",
      "   [6, 3, 7]\n",
      "   [10, 4, 1]\n",
      "   [5, 5, 1]\n",
      "  ]\n",
      "Matrisene er ikke av samme dimensjon\n",
      "B+C=[\n",
      "     [6, 20, 12]\n",
      "     [9, 3, 8]\n",
      "     [14, 7, 8]\n",
      "     [14, 13, 8]\n",
      "    ]\n"
     ]
    }
   ],
   "source": [
    "A = random_matrise(4, 3)\n",
    "print_matrise(A, \"A\")\n",
    "B = random_matrise(3, 4)\n",
    "print_matrise(B, \"B\")\n",
    "C = random_matrise(3, 4)\n",
    "print_matrise(C, \"C\")\n",
    "D = matrise_addisjon(A, B)\n",
    "E = matrise_addisjon(B, C)\n",
    "if E:\n",
    "    print_matrise(E, \"B+C\")\n"
   ]
  },
  {
   "cell_type": "markdown",
   "metadata": {
    "deletable": false,
    "editable": false,
    "heading_collapsed": true,
    "run_control": {
     "frozen": true
    }
   },
   "source": [
    "#### Hint"
   ]
  },
  {
   "cell_type": "markdown",
   "metadata": {
    "deletable": false,
    "editable": false,
    "hidden": true,
    "run_control": {
     "frozen": true
    }
   },
   "source": [
    "For å sjekke om to matriser er av samme dimensjon må du sjekke om de både har samme antall rader og samme antall kolonner. len(matrise) returnerer antall rader en matrise har, og len(matrise[0]) returnerer antall kolonner i matrisen."
   ]
  }
 ],
 "metadata": {
  "kernelspec": {
   "display_name": "Python 3.10.6 64-bit ('3.10.6')",
   "language": "python",
   "name": "python3"
  },
  "language_info": {
   "codemirror_mode": {
    "name": "ipython",
    "version": 3
   },
   "file_extension": ".py",
   "mimetype": "text/x-python",
   "name": "python",
   "nbconvert_exporter": "python",
   "pygments_lexer": "ipython3",
   "version": "3.11.3"
  },
  "toc": {
   "base_numbering": 1,
   "nav_menu": {},
   "number_sections": false,
   "sideBar": true,
   "skip_h1_title": false,
   "title_cell": "Table of Contents",
   "title_sidebar": "Contents",
   "toc_cell": false,
   "toc_position": {},
   "toc_section_display": true,
   "toc_window_display": false
  },
  "vscode": {
   "interpreter": {
    "hash": "2c877203e8632c6e2d4790853429b86cabbca6081d90aad438c7a69fd7b8dd5d"
   }
  }
 },
 "nbformat": 4,
 "nbformat_minor": 2
}
