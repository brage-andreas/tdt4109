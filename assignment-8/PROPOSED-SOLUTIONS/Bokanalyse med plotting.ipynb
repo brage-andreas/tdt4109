{
 "cells": [
  {
   "cell_type": "code",
   "execution_count": null,
   "metadata": {},
   "outputs": [],
   "source": [
    "# oppgave a\n",
    "def get_chapters(filename, chapter_delimiter):\n",
    "    f = open(filename)\n",
    "    text = f.read()\n",
    "    f.close()\n",
    "    \n",
    "    chapters = text.split(chapter_delimiter)\n",
    "    del chapters[0]\n",
    "    return chapters\n",
    "\n",
    "\n",
    "# oppgave b\n",
    "def count_words(string_list, word):\n",
    "    word = word.lower()\n",
    "    word_counts = []\n",
    "    for string in string_list:\n",
    "        word_counts.append(string.lower().count(word))\n",
    "    return word_counts\n",
    "\n",
    "\n",
    "# oppgave c\n",
    "def create_numbers_to(number):\n",
    "    return list(range(1, number+1))\n",
    "\n",
    "\n",
    "# oppgave d\n",
    "import matplotlib.pyplot as plt\n",
    "%matplotlib inline\n",
    "\n",
    "def analyze_book(filename, chapter_delimiter, word):\n",
    "    chapters = get_chapters(filename, chapter_delimiter)\n",
    "    word_counts = count_words(chapters, word)\n",
    "    chapter_numbers = create_numbers_to(len(word_counts))\n",
    "    \n",
    "    plt.plot(chapter_numbers, word_counts)\n",
    "    plt.title('Antall ganger \"' + word + '\" dukker opp per kapittel i \"' + filename + '\"')\n",
    "    plt.xlabel('Kapittel')\n",
    "    plt.ylabel('Antall \"' + word + '\"')\n",
    "    plt.axis([1, len(chapters), 0, max(word_counts) + 3])\n",
    "    plt.show()\n",
    "\n",
    "\n",
    "# oppgave e\n",
    "def analyze_words(filename, chapter_delimiter, words):\n",
    "    for word in words:\n",
    "        analyze_book(filename, chapter_delimiter, word)\n",
    "\n",
    "        \n",
    "# testkode til oppgave e (denne er oppgitt)\n",
    "words = ['rabbit', 'caterpillar', 'sister', 'cat', 'queen', 'turtle', 'hatter']\n",
    "analyze_words('alice_in_wonderland.txt', 'CHAPTER', words)\n",
    "\n",
    "\n",
    "# eksempel oppgave f\n",
    "words = ['peter', 'peter pan', 'captain', 'crocodile', 'noodler', 'Tinker Bell', 'Queen Mab']\n",
    "analyze_words('peter_pan.txt', 'Chapter', words)"
   ]
  }
 ],
 "metadata": {
  "kernelspec": {
   "display_name": "Python 3",
   "language": "python",
   "name": "python3"
  },
  "language_info": {
   "codemirror_mode": {
    "name": "ipython",
    "version": 3
   },
   "file_extension": ".py",
   "mimetype": "text/x-python",
   "name": "python",
   "nbconvert_exporter": "python",
   "pygments_lexer": "ipython3",
   "version": "3.7.4"
  }
 },
 "nbformat": 4,
 "nbformat_minor": 2
}
