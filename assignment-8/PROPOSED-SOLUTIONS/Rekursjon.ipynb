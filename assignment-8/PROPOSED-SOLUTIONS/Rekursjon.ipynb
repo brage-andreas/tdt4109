{
 "cells": [
  {
   "cell_type": "markdown",
   "metadata": {},
   "source": [
    "a)"
   ]
  },
  {
   "cell_type": "code",
   "execution_count": 1,
   "metadata": {},
   "outputs": [],
   "source": [
    "def recursive_sum(n):\n",
    "    if n == 1:\n",
    "        return 1\n",
    "    return n + recursive_sum(n - 1)"
   ]
  },
  {
   "cell_type": "markdown",
   "metadata": {},
   "source": [
    "b)"
   ]
  },
  {
   "cell_type": "code",
   "execution_count": 8,
   "metadata": {},
   "outputs": [],
   "source": [
    "def merge_sum(liste):\n",
    "    if len(liste)==1:\n",
    "        return liste[0]\n",
    "    mid = len(liste)//2\n",
    "    return merge_sum(liste[:mid])+merge_sum(liste[mid:])"
   ]
  },
  {
   "cell_type": "markdown",
   "metadata": {},
   "source": [
    "c)"
   ]
  },
  {
   "cell_type": "code",
   "execution_count": 10,
   "metadata": {},
   "outputs": [],
   "source": [
    "def find_smallest_element(liste, mini = float('inf')):\n",
    "    if (liste[0] <= mini):\n",
    "        mini = liste[0]\n",
    "    if (len(liste) <2):\n",
    "        return mini\n",
    "    else:\n",
    "        return(find_smallest_element(liste[1:len(liste)],mini))\n",
    "  \n",
    "#alternativt\n",
    "def find_smallest_element(liste):\n",
    "    if len(liste) == 1:\n",
    "        return liste[0]\n",
    "    else:\n",
    "        min = find_smallest_element(liste[1:])\n",
    "        if liste[0] < min:\n",
    "            return liste[0]\n",
    "        else:\n",
    "            return min"
   ]
  },
  {
   "cell_type": "markdown",
   "metadata": {},
   "source": [
    "d)"
   ]
  },
  {
   "cell_type": "code",
   "execution_count": null,
   "metadata": {},
   "outputs": [],
   "source": [
    "def binary_search(numbers, element):\n",
    "    if len(numbers) == 1 and element != numbers[0]:\n",
    "            return -float('inf')\n",
    "    middle_index = int(len(numbers)/2)\n",
    "    middle_element = numbers[middle_index]\n",
    "     \n",
    "    if element == middle_element:\n",
    "        return middle_index\n",
    "    elif element > middle_element:\n",
    "        return binary_search(numbers[middle_index:], element) + middle_index\n",
    "    else:\n",
    "        return binary_search(numbers[:middle_index], element)\n",
    "    \n",
    "#alternativt\n",
    "\n",
    "def binary_search(liste, verdi, imin, imax):\n",
    "    if(imax < imin):\n",
    "        return False\n",
    "    else:\n",
    "        imid = (imin+imax)//2 # Midtpunktet\n",
    "        if (verdi<liste[imid]):\n",
    "            return binary_search(liste,verdi,imin,imid-1)\n",
    "        elif (verdi>liste[imid]):\n",
    "            return binary_search(liste,verdi,imid+1,imax)\n",
    "        else:\n",
    "            return imid"
   ]
  }
 ],
 "metadata": {
  "kernelspec": {
   "display_name": "Python 2",
   "language": "python",
   "name": "python2"
  },
  "language_info": {
   "codemirror_mode": {
    "name": "ipython",
    "version": 2
   },
   "file_extension": ".py",
   "mimetype": "text/x-python",
   "name": "python",
   "nbconvert_exporter": "python",
   "pygments_lexer": "ipython2",
   "version": "2.7.16"
  }
 },
 "nbformat": 4,
 "nbformat_minor": 2
}
