{
 "cells": [
  {
   "cell_type": "code",
   "execution_count": null,
   "metadata": {},
   "outputs": [],
   "source": [
    "from matplotlib import pyplot as plt\n",
    "%matplotlib inline\n",
    "import math\n",
    "\n",
    "print(\"Oppgave a:\\n\")\n",
    "x_verdier = []\n",
    "for i in range(0, 301):\n",
    "    x_verdier.append(i/10)\n",
    "print(x_verdier)\n",
    "\n",
    "print(\"\\nOppgave b:\\n\")\n",
    "y_verdier = []\n",
    "for x in x_verdier:\n",
    "    y_verdier.append(math.sin(x))\n",
    "print (y_verdier)\n",
    "# Kunne også skrevet: y_verdier = [math.sin(x) for x in x_verdier]\n",
    "\n",
    "print(\"\\nOppgave c:\\n\")\n",
    "plt.plot(x_verdier, y_verdier, 'r-')\n",
    "plt.show()"
   ]
  }
 ],
 "metadata": {
  "kernelspec": {
   "display_name": "Python 3",
   "language": "python",
   "name": "python3"
  },
  "language_info": {
   "codemirror_mode": {
    "name": "ipython",
    "version": 3
   },
   "file_extension": ".py",
   "mimetype": "text/x-python",
   "name": "python",
   "nbconvert_exporter": "python",
   "pygments_lexer": "ipython3",
   "version": "3.7.4"
  }
 },
 "nbformat": 4,
 "nbformat_minor": 2
}
