{
 "cells": [
  {
   "cell_type": "markdown",
   "metadata": {},
   "source": [
    "## Løsningsforslag"
   ]
  },
  {
   "cell_type": "code",
   "execution_count": null,
   "metadata": {},
   "outputs": [],
   "source": [
    "import matplotlib.pyplot as plt\n",
    "%matplotlib inline\n",
    "import numpy as np\n",
    "\n",
    "# Oppgave a\n",
    "array = np.arange(0.0, 30.0, 0.1)\n",
    "sin_array = np.sin(array)\n",
    "plt.plot(array, sin_array)\n",
    "plt.show()\n",
    "\n",
    "\n",
    "# Oppgave b\n",
    "import matplotlib.pyplot as plt\n",
    "%matplotlib inline\n",
    "\n",
    "def double_sine_plot(freq_mult):\n",
    "    array = np.arange(0.0, 15.0, 0.1)\n",
    "    sin_array = np.sin(array)\n",
    "    other_sin_array = np.sin(array*freq_mult)\n",
    "    \n",
    "    plt.plot(array, array*0, \"k-\")\n",
    "    plt.plot(array, sin_array, \"c:\")\n",
    "    plt.plot(array, other_sin_array, \"y:\")\n",
    "    plt.plot(array, sin_array + other_sin_array, \"r-\")\n",
    "    plt.title('To sinus-kurver plusset sammen')\n",
    "    plt.show()\n",
    "    \n",
    "double_sine_plot(2)\n",
    "\n",
    "def double_sine_plot(freq_mult, amp_mult):\n",
    "    array = np.arange(0.0, 15.0, 0.1)\n",
    "    sin_array = np.sin(array)\n",
    "    other_sin_array = np.sin(array*freq_mult) * amp_mult\n",
    "    \n",
    "    plt.plot(array, array*0, \"k-\")\n",
    "    plt.plot(array, sin_array, \"c:\")\n",
    "    plt.plot(array, other_sin_array, \"y:\")\n",
    "    plt.plot(array, sin_array + other_sin_array, \"r-\")\n",
    "    plt.title('To sinus-kurver plusset sammen')\n",
    "    plt.show()\n",
    "    \n",
    "double_sine_plot(12,0.3)"
   ]
  }
 ],
 "metadata": {
  "kernelspec": {
   "display_name": "Python 3",
   "language": "python",
   "name": "python3"
  },
  "language_info": {
   "codemirror_mode": {
    "name": "ipython",
    "version": 3
   },
   "file_extension": ".py",
   "mimetype": "text/x-python",
   "name": "python",
   "nbconvert_exporter": "python",
   "pygments_lexer": "ipython3",
   "version": "3.7.4"
  },
  "toc": {
   "base_numbering": 1,
   "nav_menu": {},
   "number_sections": false,
   "sideBar": true,
   "skip_h1_title": false,
   "title_cell": "Table of Contents",
   "title_sidebar": "Contents",
   "toc_cell": false,
   "toc_position": {},
   "toc_section_display": true,
   "toc_window_display": false
  }
 },
 "nbformat": 4,
 "nbformat_minor": 2
}
