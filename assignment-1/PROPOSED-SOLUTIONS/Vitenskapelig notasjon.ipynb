{
 "cells": [
  {
   "cell_type": "markdown",
   "metadata": {},
   "source": [
    "a)"
   ]
  },
  {
   "cell_type": "code",
   "execution_count": null,
   "metadata": {},
   "outputs": [],
   "source": [
    "stoff = input(\"Si et stoff du er i besittelse av: \")\n",
    "molvekt = float(input(\"Hva er molvekt i gram for \"+stoff+\"? \"))\n",
    "gram = float(input(\"Hvor mange gram har du? \"))\n",
    "mol = gram/molvekt\n",
    "antall = mol*6.022e+23\n",
    "print(\"Du har\", format(antall, '.1e'), \"molekyler \"+stoff)"
   ]
  },
  {
   "cell_type": "markdown",
   "metadata": {},
   "source": [
    "b)"
   ]
  },
  {
   "cell_type": "code",
   "execution_count": null,
   "metadata": {},
   "outputs": [],
   "source": [
    "antallHørt = int(input(\"Antall ulike 10-toners melodilinjer du har hørt? \"))\n",
    "prosent = antallHørt/8.25e+19*100\n",
    "print(\"Du har hørt\", format(prosent, '.15e'), \"av melodier som er mulig\")"
   ]
  }
 ],
 "metadata": {
  "kernelspec": {
   "display_name": "Python 3",
   "language": "python",
   "name": "python3"
  },
  "language_info": {
   "codemirror_mode": {
    "name": "ipython",
    "version": 3
   },
   "file_extension": ".py",
   "mimetype": "text/x-python",
   "name": "python",
   "nbconvert_exporter": "python",
   "pygments_lexer": "ipython3",
   "version": "3.7.3"
  }
 },
 "nbformat": 4,
 "nbformat_minor": 2
}
