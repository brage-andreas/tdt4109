{
 "cells": [
  {
   "cell_type": "markdown",
   "metadata": {},
   "source": [
    "a)"
   ]
  },
  {
   "cell_type": "code",
   "execution_count": null,
   "metadata": {},
   "outputs": [],
   "source": [
    "print('1+2(−3) =', 1+2*(-3))\n",
    "print('[(3+5·2) +1]:2 =', ((3+5*2)+1)/2)\n",
    "print('-3^2 + 5*3 - 7 =', -3**2+5*3-7)\n",
    "#1)\n",
    "print('5:2-4 =', 5/2 -4)\n",
    "#2)\n",
    "print('5·12+6-1 =', 5*12 + 6 - 1)\n",
    "#3)\n",
    "print('3(5+2) =', 3*(5+2))\n",
    "#4)\n",
    "print('4[(5+3):2 +7] =', 4*((5+3)/2+7))\n",
    "#5)\n",
    "print('(−4)^(-3)+5·(3−7:2) =', (-4)**(-3)+5*(3-7/2))"
   ]
  },
  {
   "cell_type": "markdown",
   "metadata": {},
   "source": [
    "b)"
   ]
  },
  {
   "cell_type": "code",
   "execution_count": null,
   "metadata": {},
   "outputs": [],
   "source": [
    "print(355, \"minutt blir\", 355 // 60, \"timer og\", 355 % 60, \"minutt.\")\n",
    "print(403, \"sekund blir\", 403 // 60, \"minutt og\", 403 % 60, \"sekund.\")\n",
    "print(67, \"dager blir\", 67 // 7, \"uker og\", 67 % 7, \"dager.\")\n",
    "print(100, \"timer blir\", 100 // 24, \"døgn og\", 100 % 24, \"timer.\")"
   ]
  },
  {
   "cell_type": "markdown",
   "metadata": {},
   "source": [
    "c)"
   ]
  },
  {
   "cell_type": "code",
   "execution_count": null,
   "metadata": {},
   "outputs": [],
   "source": [
    "import math\n",
    "# importerer fra math-biblioteket\n",
    "print(\"|-8|, dvs. absoluttverdien til -8, er\", abs(-8))\n",
    "print(2.544, \"avrundet til helt tall er\", round(2.544))\n",
    "print(\"Funksjonen int() derimot bare kutter vekk desimalene:\", int(2.544) )\n",
    "print(2.544, \"avrundet til to desimaler er\", round(2.544, 2))\n",
    "print(\"Kvadratroten til\", 10, \"er\", math.sqrt(10) )\n",
    "print(\"En sirkel med radius 7 har omkrets\", math.tau * 7)\n",
    "print(\"En sirkel med radius 7 har areal\", math.pi * 7**2)"
   ]
  }
 ],
 "metadata": {
  "kernelspec": {
   "display_name": "Python 3",
   "language": "python",
   "name": "python3"
  },
  "language_info": {
   "codemirror_mode": {
    "name": "ipython",
    "version": 3
   },
   "file_extension": ".py",
   "mimetype": "text/x-python",
   "name": "python",
   "nbconvert_exporter": "python",
   "pygments_lexer": "ipython3",
   "version": "3.7.3"
  }
 },
 "nbformat": 4,
 "nbformat_minor": 2
}
