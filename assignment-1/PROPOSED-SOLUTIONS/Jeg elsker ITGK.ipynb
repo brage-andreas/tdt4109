{
 "cells": [
  {
   "cell_type": "markdown",
   "metadata": {},
   "source": [
    "a)"
   ]
  },
  {
   "cell_type": "code",
   "execution_count": null,
   "metadata": {},
   "outputs": [],
   "source": [
    "print(\"Jeg elsker ITGK!\")"
   ]
  },
  {
   "cell_type": "markdown",
   "metadata": {},
   "source": [
    "b)"
   ]
  },
  {
   "cell_type": "code",
   "execution_count": null,
   "metadata": {},
   "outputs": [],
   "source": [
    "print('Norge')\n",
    "print()\n",
    "print('Areal (kv.km):', 385180)\n",
    "print('Folketall (mill.):', 5.3)"
   ]
  },
  {
   "cell_type": "markdown",
   "metadata": {},
   "source": [
    "c)"
   ]
  },
  {
   "cell_type": "code",
   "execution_count": null,
   "metadata": {},
   "outputs": [],
   "source": [
    "print('\"Jeg elsker ITGK!\" ropte studenten da 1c funket.')\n",
    "#tatt enkle fnutter rundt strengen slik at de doble fnuttene printes ut"
   ]
  },
  {
   "cell_type": "markdown",
   "metadata": {},
   "source": [
    "d)"
   ]
  },
  {
   "cell_type": "code",
   "execution_count": null,
   "metadata": {},
   "outputs": [],
   "source": [
    "print(\"Noen barn sto og hang ved lekeplassen.\")\n",
    "print(\"Diskusjonstemaet deres var noe uventet.\")\n",
    "print('''- Hvorfor heter'e \"Python\"?''')\n",
    "print(\"- Var'e slanger som laget det? - Nei, Guido van Rossum.\")\n",
    "print('- Likte slanger kanskje da? - Nei, digga \"Monty Python\".')\n",
    "print(\"- Hva er det? Et fjell?\")\n",
    "print(\"- Nei, engelsk komigruppe. Begynte i '69.\"\n",
    "print(\"- Wow! Var'e fremdeles dinosaurer da?\")\n",
    "  \n",
    "# alternativt kan oppgaven løses med en enkelt print-setning,\n",
    "# med triple fnutter rundt hele den 8-linjers teksten"
   ]
  },
  {
   "cell_type": "markdown",
   "metadata": {},
   "source": [
    "e)"
   ]
  },
  {
   "cell_type": "code",
   "execution_count": null,
   "metadata": {},
   "outputs": [],
   "source": [
    "# i oppgave b tok jeg enkle fnutter rundt strengen slik at de doble fnuttene kunne printes ut\n",
    "# i oppgave c tok jeg tre enkle/doble fnutter rundt strengen ettersom strengen inneholdt både en enkel fnutt og doble fnutter\n",
    "#print('Hei\")"
   ]
  },
  {
   "cell_type": "markdown",
   "metadata": {},
   "source": [
    "f)"
   ]
  },
  {
   "cell_type": "code",
   "execution_count": null,
   "metadata": {},
   "outputs": [],
   "source": [
    "print(\"Heihei, jeg vil visst ikke kompilere jeg :(\")  #evt. med enkle fnutter rundt hele strengen.\n",
    "print('Halla, så \"bra\" du ser ut i dag')              #dersom det skal være doble fnutter rundt bra, må det være enkle fnutter rundt strengen.\n",
    "print(\"Hei på deg\")                                   #sette på fnutter rundt strengen.\n",
    "print(\"Er ikke dette gøy?\")                           #sette på parentes på starten."
   ]
  }
 ],
 "metadata": {
  "kernelspec": {
   "display_name": "Python 3",
   "language": "python",
   "name": "python3"
  },
  "language_info": {
   "codemirror_mode": {
    "name": "ipython",
    "version": 3
   },
   "file_extension": ".py",
   "mimetype": "text/x-python",
   "name": "python",
   "nbconvert_exporter": "python",
   "pygments_lexer": "ipython3",
   "version": "3.7.3"
  }
 },
 "nbformat": 4,
 "nbformat_minor": 2
}
