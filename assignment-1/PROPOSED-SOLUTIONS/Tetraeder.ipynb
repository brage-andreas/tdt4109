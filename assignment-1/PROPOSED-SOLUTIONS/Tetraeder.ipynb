{
 "cells": [
  {
   "cell_type": "markdown",
   "metadata": {},
   "source": [
    "a)"
   ]
  },
  {
   "cell_type": "code",
   "execution_count": null,
   "metadata": {},
   "outputs": [],
   "source": [
    "import math\n",
    "h = 3\n",
    "a = 3/math.sqrt(6)*h\n",
    "areal = math.sqrt(3)*pow(a,2)\n",
    "print(\"Et tetraeder med høyde\",h,\"har areal\",areal)"
   ]
  },
  {
   "cell_type": "markdown",
   "metadata": {},
   "source": [
    "b)"
   ]
  },
  {
   "cell_type": "code",
   "execution_count": null,
   "metadata": {},
   "outputs": [],
   "source": [
    "import math\n",
    "h = 3\n",
    "a = 3/math.sqrt(6)*h\n",
    "volum = 1/12*math.sqrt(2)*pow(a,3)\n",
    "print(\"Et tetraeder med høyde\",h,\"har volum\",volum)"
   ]
  },
  {
   "cell_type": "markdown",
   "metadata": {},
   "source": [
    "c)"
   ]
  },
  {
   "cell_type": "code",
   "execution_count": null,
   "metadata": {},
   "outputs": [],
   "source": [
    "import math\n",
    "h = float(input(\"Skriv inn en høyde: \"))\n",
    "a = 3/math.sqrt(6)*h\n",
    "areal = math.sqrt(3)*pow(a,2)\n",
    "volum = 1/12*math.sqrt(2)*pow(a,3)\n",
    "print(\"Et tetraheder med høyde\",h,\"har volum\",round(volum,2),\"og areal\",round(areal,2),\".\")"
   ]
  }
 ],
 "metadata": {
  "kernelspec": {
   "display_name": "Python 3",
   "language": "python",
   "name": "python3"
  },
  "language_info": {
   "codemirror_mode": {
    "name": "ipython",
    "version": 3
   },
   "file_extension": ".py",
   "mimetype": "text/x-python",
   "name": "python",
   "nbconvert_exporter": "python",
   "pygments_lexer": "ipython3",
   "version": "3.7.3"
  }
 },
 "nbformat": 4,
 "nbformat_minor": 2
}
