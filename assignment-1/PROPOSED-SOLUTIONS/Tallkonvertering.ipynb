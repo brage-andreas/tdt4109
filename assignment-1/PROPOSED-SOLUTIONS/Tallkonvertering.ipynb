{
 "cells": [
  {
   "cell_type": "markdown",
   "metadata": {},
   "source": [
    "a)"
   ]
  },
  {
   "cell_type": "code",
   "execution_count": null,
   "metadata": {},
   "outputs": [],
   "source": [
    "flyt1 = float(input(\"Skriv inn et flyttall: \"))\n",
    "flyt2 = float(input(\"Skriv inn enda et flyttall: \"))\n",
    "flyt3 = float(input(\"Skriv inn et siste flyttall: \"))\n",
    " \n",
    "print(\"Konvertert til heltall blir det\", int(flyt1),int(flyt2),int(flyt3))\n",
    " \n",
    "int1 = int(input(\"Skriv inn et heltall: \"))\n",
    "print(\"Konvertert til flyttall blir det:\",float(int1))"
   ]
  },
  {
   "cell_type": "markdown",
   "metadata": {},
   "source": [
    "b)"
   ]
  },
  {
   "cell_type": "code",
   "execution_count": null,
   "metadata": {},
   "outputs": [],
   "source": [
    "navn = input(\"Skriv ditt navn: \")\n",
    "alder = int(input(\"Hei, \" + navn + \", hvor gammel er du? \"))\n",
    "alderProgStart = int(input(\"Hvor gammel var du da du startet å programmere? \"))\n",
    "progTid = alder - alderProgStart\n",
    "print(\"Da har du programmert i\", progTid, \"år.\")\n",
    "svar = input(\"Syns du de \" + str(progTid) + \" årene har vært givende?\" )\n",
    "print(\"Takk for svar,\" , navn)"
   ]
  },
  {
   "cell_type": "markdown",
   "metadata": {},
   "source": [
    "c)"
   ]
  },
  {
   "cell_type": "code",
   "execution_count": null,
   "metadata": {},
   "outputs": [],
   "source": [
    "print(\"Vennligst gi inn et flyttall med minst 5 siffer både før og etter .\")\n",
    "tall = float(input(\"Hva er tallet ditt? \")\n",
    "heltall = int(tall)\n",
    "print(\"Konvertert til heltall med int():\", heltall)\n",
    "print(\"Avrundet til nærmeste heltall:\", round(tall))\n",
    "print(\"Avrundet til to desimaler:\", round(tall, 2))\n",
    "print(\"Avrundet til fire desimaler:\", round(tall, 4))\n",
    "print(\"Avrundet til nærmeste tusen:\", round(tall, -3))\n",
    "print(\"Heltall fra int() konvertert tilbake til flyttall:\", float(heltall))"
   ]
  },
  {
   "cell_type": "markdown",
   "metadata": {},
   "source": [
    "d)"
   ]
  },
  {
   "cell_type": "code",
   "execution_count": null,
   "metadata": {},
   "outputs": [],
   "source": [
    "flyttall = float(input(\"Skriv et flyttall: \"))\n",
    "antallDesimaler = int(input(\"Hvor mange deismaler er ønskelig? \"))\n",
    "print(\"Tallet du skrev var\",flyttall, \"og med\",antallDesimaler,\n",
    "      \"desimaler blir det til\", round(flyttall, antallDesimaler))"
   ]
  }
 ],
 "metadata": {
  "kernelspec": {
   "display_name": "Python 3",
   "language": "python",
   "name": "python3"
  },
  "language_info": {
   "codemirror_mode": {
    "name": "ipython",
    "version": 3
   },
   "file_extension": ".py",
   "mimetype": "text/x-python",
   "name": "python",
   "nbconvert_exporter": "python",
   "pygments_lexer": "ipython3",
   "version": "3.7.3"
  }
 },
 "nbformat": 4,
 "nbformat_minor": 2
}
