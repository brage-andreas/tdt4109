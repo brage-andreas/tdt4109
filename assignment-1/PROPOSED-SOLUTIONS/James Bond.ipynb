{
 "cells": [
  {
   "cell_type": "markdown",
   "metadata": {},
   "source": [
    "a)\n",
    "\n",
    "Denne løsningen klarer seg med det som er pensum som er undervist før øvingen, men har en liten skjønnhetsfeil (det kommer .0 bak tall som skal være heltall)"
   ]
  },
  {
   "cell_type": "code",
   "execution_count": null,
   "metadata": {},
   "outputs": [],
   "source": [
    "tall = float(input(\"Tallet som skal avrundes: \"))\n",
    "d = int(input(\"Ønsket antall desimaler: \"))\n",
    "faktor = 10 ** d\n",
    "resultat = int(tall * faktor + 0.5) / faktor\n",
    "print(\"Avrundet til\", d, \"desimaler:\", resultat)"
   ]
  },
  {
   "cell_type": "markdown",
   "metadata": {},
   "source": [
    "For å få vekk skjønnhetsfeilen er det mest hensiktsmessig å bruke en if-setning:"
   ]
  },
  {
   "cell_type": "code",
   "execution_count": null,
   "metadata": {},
   "outputs": [],
   "source": [
    "tall = float(input(\"Tallet som skal avrundes: \"))\n",
    "d = int(input(\"Ønsket antall desimaler: \"))\n",
    "resultat = int(tall + 0.5)\n",
    "faktor = 10 ** d\n",
    "resultat = int(tall * faktor + 0.5) / faktor\n",
    "if d <= 0:  # skal ende med et heltall\n",
    "    resultat = int(resultat)      \n",
    "print(\"Avrundet til\", d, \"desimaler:\", resultat)"
   ]
  },
  {
   "cell_type": "markdown",
   "metadata": {},
   "source": [
    "b) Ideen her er å sette sammen heltallsdel og desimaldel til ett heltall og gjøre avrundingen på det (siden heltall alltid lar seg representere eksakt), da kan vi bruke round() med negativt antall desimaler for å kvitte oss med passende mange desimaler. Hvor mange kan regnes ut som differansen mellom antall desimaler vi har (lengden av desimalstrengen) og antallet vi ønsker. De overflødige desimalene kuttes vekk med heltallsdivisjon og til slutt må punktumet settes tilbake på rett plass (ved hjelp av heltallsdivisjon og modulo)."
   ]
  },
  {
   "cell_type": "code",
   "execution_count": null,
   "metadata": {},
   "outputs": [],
   "source": [
    "hel = input(\"Oppgi heltallsdelen av tallet (det foran punktum): \")\n",
    "des = input(\"Oppgi desimaldelen av tallet (det bak punktum): \")\n",
    "inn_des = len(des) #lengden av strengen, dvs antall desimaler nå\n",
    "tall = int(hel + des)\n",
    "ant = int(input(\"Oppgi ønsket antall desimaler i avrunding: \"))\n",
    "kuttes = max(inn_des - ant, 0) #hvor mange desimaler skal kuttes\n",
    "avr = round(tall, -kuttes)\n",
    "# bruker heltallsdivisjon for å finne sifrene som er heltallet\n",
    "nytt_heltall = avr // 10 ** inn_des\n",
    "hel_ut = str(nytt_heltall)\n",
    "# bruker modulo for å finne sifrene som er desimaler\n",
    "# og deretter heltallsdivisjon for å kutte desimaler som skal bort\n",
    "nytt_destall = (avr % 10**inn_des) // 10**kuttes\n",
    "# setter sammen tallet, \".\" tilbake på riktig plass\n",
    "# bool(ant) blir False hvis ant er 0, da tom streng for desimaldel\n",
    "tall_ut = str(nytt_heltall) + (\".\" + str(nytt_destall)) * bool(ant)\n",
    "d = \"desimal\" + \"er\" * bool(ant-1)\n",
    "print(hel + \".\" + des, \"avrundet til\", ant, d, \"blir\", tall_ut)"
   ]
  },
  {
   "cell_type": "markdown",
   "metadata": {},
   "source": [
    "c) Denne kan løses på mange måter. En mulighet er å bruke for-løkke og if-setning som vist under."
   ]
  },
  {
   "cell_type": "code",
   "execution_count": null,
   "metadata": {},
   "outputs": [],
   "source": [
    "navn= input(\"Jeg heter: \")\n",
    "sist = len(navn)\n",
    "start = sist\n",
    "for i in range(len(navn)):\n",
    "    if navn[i]==\" \":\n",
    "        start = i + 1\n",
    "         \n",
    "print(\"The name is\", navn[start:sist]+\", \" + navn)"
   ]
  },
  {
   "cell_type": "markdown",
   "metadata": {},
   "source": [
    "En annen mulighet er å bruke strengmetoden split():"
   ]
  },
  {
   "cell_type": "code",
   "execution_count": null,
   "metadata": {},
   "outputs": [],
   "source": [
    "navn = input(\"Jeg heter: \")\n",
    "liste = navn.split()\n",
    "print(\"The name is\", liste[-1] + \",\", navn)"
   ]
  },
  {
   "cell_type": "markdown",
   "metadata": {},
   "source": [
    "Forklaring av denne løsningen: Linje 2, split() gir en oppdeling av tekststrengen der det er mellomrom, med navn \"Grace Murray Hopper\" vil vi få liste med ordene \"Grace\", \"Murray\", \"Hopper\".\n",
    "\n",
    "Linje 3: liste[-1] vil være bakerste element i variabelen liste, altså \"Hopper\" med eksemplet gitt ovenfor.\n",
    "\n",
    " \n",
    "\n",
    "Begge de ovenstående løsningene vil imidlertid få problemer med navn med påheng som Jr, Sr, d.y., III osv., såvel som med navn med preposisjoner som Von, De, ... Hvis man skal ta høyde for dette, blir løsningen noe mer innfløkt, nedenfor en mulighet som en videreutvikling av løsningen med split() ovenfor.\n",
    "\n",
    "Det fins selvsagt flere mulige elementer man kunne ha lagt til både i PREP og EXT. Løsningen tar ikke høyde for at noen kan ha flere tillegg bak navnet (f.eks. både Jr og III i samme navn), eller navn hvor det fins flere enn ett mellomord som skal være del av etternavnet (f.eks. Alan van der Aalst).\n",
    "\n",
    "Dette kunne f.eks. ha vært taklet ved å kjøre både sjekken vs. EXT og sjekken vs. PREP i while-løkker heller enn som engangstester, koden ville da ha blitt noe mer komplisert enn den er nå."
   ]
  },
  {
   "cell_type": "code",
   "execution_count": null,
   "metadata": {},
   "outputs": [],
   "source": [
    "PREP = {\"De\", \"de\", \"Di\", \"di\", \"von\", \"Von\", \"van\", \"Van\", \"St\", \"Saint\"}\n",
    "EXT = {\"Jr\", \"jr\", \"Sr\", \"sr\", \"d.e.\", \"d.y.\",\n",
    "       \"I\", \"II\", \"III\", \"IV\", \"V\", \"VI\", \"VII\", \"VIII\", \"IX\"}\n",
    " \n",
    "navn = input(\"Jeg heter: \")\n",
    "liste = navn.split() # får ei liste med alle delnavn i navnet\n",
    " \n",
    "if liste[-1] in EXT: #bakerste ord er ikke et navn\n",
    "    i_enavn = -2 # etternavnet da nest bakerst i lista\n",
    "else:\n",
    "    i_enavn = -1 # etternavnet er bakerst i lista\n",
    "etternavn = liste[i_enavn]\n",
    " \n",
    "if len(liste) > abs(i_enavn - 1): # det fins mellomnavn\n",
    "    mellom = liste[i_enavn - 1] # mellomnavnet er like foran etternavn\n",
    "    if mellom in PREP: # mellomnavn skal inngå i etternavnet\n",
    "        etternavn = mellom + \" \" + etternavn # putter mellomnavn foran\n",
    " \n",
    "print(\"The name is\", etternavn + \",\", navn)"
   ]
  }
 ],
 "metadata": {
  "kernelspec": {
   "display_name": "Python 3",
   "language": "python",
   "name": "python3"
  },
  "language_info": {
   "codemirror_mode": {
    "name": "ipython",
    "version": 3
   },
   "file_extension": ".py",
   "mimetype": "text/x-python",
   "name": "python",
   "nbconvert_exporter": "python",
   "pygments_lexer": "ipython3",
   "version": "3.7.3"
  }
 },
 "nbformat": 4,
 "nbformat_minor": 2
}
