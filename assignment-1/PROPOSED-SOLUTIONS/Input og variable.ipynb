{
 "cells": [
  {
   "cell_type": "markdown",
   "metadata": {},
   "source": [
    "a)"
   ]
  },
  {
   "cell_type": "code",
   "execution_count": null,
   "metadata": {},
   "outputs": [],
   "source": [
    "print(input(\"Navn? \"), \"- fint navn!\")\n",
    "print(input(\"Favorittfag? \"), \"- interessant!\")"
   ]
  },
  {
   "cell_type": "markdown",
   "metadata": {},
   "source": [
    "b)"
   ]
  },
  {
   "cell_type": "code",
   "execution_count": null,
   "metadata": {},
   "outputs": [],
   "source": [
    "navn = input(\"Navn? \")\n",
    "print(\"Hei,\", navn)\n",
    "fag = input(\"Favorittfag? \")\n",
    "print(fag, \"- interessant!\")\n",
    "print(\"Ha en fin dag,\", navn)\n",
    "print(\"- og lykke til med\", fag)"
   ]
  },
  {
   "cell_type": "markdown",
   "metadata": {},
   "source": [
    "c)"
   ]
  },
  {
   "cell_type": "code",
   "execution_count": null,
   "metadata": {},
   "outputs": [],
   "source": [
    "import math\n",
    "   \n",
    "r = 5.4\n",
    "h = 7.9\n",
    "print(\"Har en sirkel med radius\", r, \"som er grunnflate i en sylinder med høyde\", h)\n",
    "omkrets = math.tau * r\n",
    "print(\"Omkrets av sirkelen:\", omkrets)  #tau er det samme som 2 pi\n",
    "areal_sirkel = math.pi * r**2\n",
    "print(\"Areal av sirkelen:\", areal_sirkel)\n",
    "areal_sylinder = omkrets * h + 2 * areal_sirkel\n",
    "print(\"Areal av sylinderen:\", areal_sylinder)"
   ]
  },
  {
   "cell_type": "markdown",
   "metadata": {},
   "source": [
    "d)"
   ]
  },
  {
   "cell_type": "code",
   "execution_count": null,
   "metadata": {},
   "outputs": [],
   "source": [
    "fornavn = \"Per\"\n",
    "ideal_alder = 42\n",
    "kundensAlder = 37\n",
    "differanse = ideal_alder - kundensAlder\n",
    "print(fornavn, \"er\", differanse, \"år unna idealalderen\")"
   ]
  }
 ],
 "metadata": {
  "kernelspec": {
   "display_name": "Python 3",
   "language": "python",
   "name": "python3"
  },
  "language_info": {
   "codemirror_mode": {
    "name": "ipython",
    "version": 3
   },
   "file_extension": ".py",
   "mimetype": "text/x-python",
   "name": "python",
   "nbconvert_exporter": "python",
   "pygments_lexer": "ipython3",
   "version": "3.7.3"
  }
 },
 "nbformat": 4,
 "nbformat_minor": 2
}
