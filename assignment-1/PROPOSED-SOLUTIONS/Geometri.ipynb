{
 "cells": [
  {
   "cell_type": "markdown",
   "metadata": {},
   "source": [
    "a) og b)"
   ]
  },
  {
   "cell_type": "code",
   "execution_count": null,
   "metadata": {},
   "outputs": [],
   "source": [
    "r = 5\n",
    "print(\"Vi har en sirkel med radius\", r)\n",
    "omkrets = 2 * 3.14 * r\n",
    "print(\"Omkretsen er\", omkrets)\n",
    "#b) print(\"Omkretsen er\", format(omkrets, '.2f'))\n",
    "areal = 3.14 * r**2\n",
    "print(\"Arealet er\", areal)\n",
    "h = 8\n",
    "volum = areal * h\n",
    "print(\"Sylinder med høyde\", h, \": Volumet er, volum\")"
   ]
  },
  {
   "cell_type": "markdown",
   "metadata": {},
   "source": [
    "c)  Det skyldes at flyttall ikke lagres nøyaktig i Python."
   ]
  }
 ],
 "metadata": {
  "kernelspec": {
   "display_name": "Python 3",
   "language": "python",
   "name": "python3"
  },
  "language_info": {
   "codemirror_mode": {
    "name": "ipython",
    "version": 3
   },
   "file_extension": ".py",
   "mimetype": "text/x-python",
   "name": "python",
   "nbconvert_exporter": "python",
   "pygments_lexer": "ipython3",
   "version": "3.7.3"
  }
 },
 "nbformat": 4,
 "nbformat_minor": 2
}
