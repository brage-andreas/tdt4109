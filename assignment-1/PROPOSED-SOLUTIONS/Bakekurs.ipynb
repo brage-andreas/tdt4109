{
 "cells": [
  {
   "cell_type": "markdown",
   "metadata": {},
   "source": [
    "a)"
   ]
  },
  {
   "cell_type": "code",
   "execution_count": null,
   "metadata": {},
   "outputs": [],
   "source": [
    "antallCookies = int(input(\"Hvor mange cookies ønsker du å bake? \"))\n",
    "gramSukker = antallCookies/48 * 400\n",
    "gramSmør = antallCookies/48 * 320\n",
    "gramSjokolade = antallCookies/48 * 500\n",
    "egg = antallCookies/48 * 2\n",
    "hvetemel = antallCookies/48 * 460\n",
    " \n",
    "print(\"Antall Cookies:\", antallCookies, \" \\nsukker(g):\", gramSukker,\n",
    "      \"\\nsmør(g):\", gramSmør, \"\\nsjokolade(g):\", gramSjokolade, \"\\negg:\", egg,\n",
    "      \"\\nhvetemel(g):\", hvetemel)"
   ]
  },
  {
   "cell_type": "markdown",
   "metadata": {},
   "source": [
    "b)"
   ]
  },
  {
   "cell_type": "code",
   "execution_count": null,
   "metadata": {},
   "outputs": [],
   "source": [
    "cookies1=int(input(\"Hvor mange cookies vil du lage? \"))\n",
    "cookies2=int(input(\"og hvor mange cookies vil du lage nå? \"))\n",
    "cookies3=int(input(\"og hvor mange cookies vil du lage til slutt? \"))\n",
    " \n",
    "sukker1=cookies1/48*400\n",
    "sukker2=cookies2/48*400\n",
    "sukker3=cookies3/48*400\n",
    "sjokolade1=cookies1/48*500\n",
    "sjokolade2=cookies2/48*500\n",
    "sjokolade3=cookies3/48*500\n",
    " \n",
    "print(\"Antall cookies: \\tsukker(g) \\tsjokolade(g)\" )          \n",
    "print(str(cookies1).ljust(17), str(sukker1).rjust(15), str(sjokolade1).rjust(17))\n",
    "print(str(cookies2).ljust(17), str(sukker2).rjust(15), str(sjokolade2).rjust(17))\n",
    "print(str(cookies3).ljust(17), str(sukker3).rjust(15), str(sjokolade3).rjust(17))"
   ]
  }
 ],
 "metadata": {
  "kernelspec": {
   "display_name": "Python 3",
   "language": "python",
   "name": "python3"
  },
  "language_info": {
   "codemirror_mode": {
    "name": "ipython",
    "version": 3
   },
   "file_extension": ".py",
   "mimetype": "text/x-python",
   "name": "python",
   "nbconvert_exporter": "python",
   "pygments_lexer": "ipython3",
   "version": "3.7.3"
  }
 },
 "nbformat": 4,
 "nbformat_minor": 2
}
