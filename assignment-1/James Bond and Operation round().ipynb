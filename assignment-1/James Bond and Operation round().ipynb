{
 "cells": [
  {
   "cell_type": "markdown",
   "metadata": {
    "deletable": false,
    "editable": false,
    "run_control": {
     "frozen": true
    }
   },
   "source": [
    "<nav class=\"navbar navbar-default\">\n",
    "  <div class=\"container-fluid\">\n",
    "    <div class=\"navbar-header\">\n",
    "      <a class=\"navbar-brand\" href=\"_Oving1.ipynb\">Øving 1</a>\n",
    "    </div>\n",
    "    <ul class=\"nav navbar-nav\">\n",
    "        <li><a href=\"Intro%20til%20jupyter.ipynb\">Intro til Jupyter</a></li>\n",
    "      <li ><a href=\"Jeg%20elsker%20ITGK!.ipynb\">Jeg elsker ITGK!</a></li>\n",
    "    <li ><a href=\"Kalkulasjoner.ipynb\">Kalkulasjoner</a></li>\n",
    "    <li><a href=\"Input%20og%20variable.ipynb\">Input og variable</a></li>\n",
    "    <li><a href=\"Tallkonvertering.ipynb\">Tallkonvertering</a></li>\n",
    "    <li ><a href=\"Peppes%20Pizza.ipynb\">Peppes Pizza</a></li>\n",
    "    <li ><a href=\"Geometri.ipynb\">Geometri</a></li>\n",
    "    <li ><a href=\"Vitenskapelig%20notasjon.ipynb\">Vitenskapelig notasjon</a></li>\n",
    "    <li ><a href=\"Tetraeder.ipynb\">Tetraeder</a></li>\n",
    "    <li ><a href=\"Bakekurs.ipynb\">Bakekurs</a></li>\n",
    "    <li class=\"active\"><a href=\"James%20Bond%20and%20Operation%20round().ipynb\">James Bond and Operation Round</a></li>\n",
    "    </ul>\n",
    "  </div>\n",
    "</nav>\n",
    "\n",
    "# James Bond and Operation round()\n",
    "\n",
    "**Læringsmål:**\n",
    "\n",
    "* Bruk av heltallsdivisjon og modulo, konvertering av data\n",
    "\n",
    "* Avrunding\n",
    "* (særlig c) Oppdeling / håndtering av strenger\n",
    "\n",
    "**Starting Out with Python:**\n",
    "\n",
    "* Kap. 2.3\n",
    "\n",
    "* Kap. 3.1\n",
    "\n",
    "* Kap. 4.2\n",
    "\n",
    "* Kap. 8.2"
   ]
  },
  {
   "cell_type": "markdown",
   "metadata": {
    "deletable": false,
    "editable": false,
    "run_control": {
     "frozen": true
    }
   },
   "source": [
    "## a) Kjøpmannsavrunding"
   ]
  },
  {
   "cell_type": "markdown",
   "metadata": {
    "deletable": false,
    "editable": false,
    "run_control": {
     "frozen": true
    }
   },
   "source": [
    "\"Kjøpmannsavrunding\" innebærer at man alltid runder opp når et tall er midt mellom to runde tall. F.eks. at 2.5 rundes til 3 og 3.5 til 4 hvis vi skal ha hele tall, og 2.25 likeledes rundes til 2.3 hvis vi skal ha en desimal. Som forklart i tutorial i oppgaven Tallkonvertering (tidligere i denne samme øvingen) bruker Pythons funksjon `round()` **ikke** kjøpmannsavrunding, men runder i stedet i partallsretning i situasjoner hvor tallet er midt mellom to alternativer. Dvs., 2.5 vil da rundes ned til 2 fordi 2 er partall, mens 3.5 rundes opp til 4. Det er fornuftige grunner til dette (unngå systematiske feil som man får hvis man alltid runder opp). I noen situasjoner - f.eks. hvis man er kjøpmann - kan det imidlertid være at man faktisk ønsker kjøpmannsavrunding.\n",
    "\n",
    "Oppgaven din her er å lage et program som får til kjøpmannsavrunding. Det skal be bruker om å skrive inn et desimaltall, samt ønsket antall desimaler det skal avrundes til - og så foreta denne avrundingen. Dette må da gjøres på annet vis enn å bruke Pythons `round()`-funksjon, siden du f.eks. skal runde 2.5 til 3 (hvis null desimaler) og 2.25 til 2.3 (hvis en desimal) mens `round()` ville runde nedover her. Et par eksempler på kjøring:\n",
    "\n",
    "  \n",
    "```python\n",
    "Gi inn et desimaltall: 2.5  \n",
    "Antall desimaler i avrunding: 0  \n",
    "Avrundet til 0 desimaler: 3\n",
    "```\n",
    "  \n",
    "```python\n",
    "Gi inn et desimaltall: 2.25  \n",
    "Antall desimaler i avrunding: 1  \n",
    "Avrundet til 1 desimal: 2.3\n",
    "```\n",
    "  \n",
    "```python\n",
    "Gi inn et desimaltall: 2500.0  \n",
    "Antall desimaler i avrunding: -3  \n",
    "Avrundet til -3 desimaler: 3000  \n",
    "```\n",
    "\n",
    "Som eksemplet viser skal det også være mulig å gi inn negativt antall desimaler for å få grovere avrunding enn nærmeste heltall. Også da med kjøpmannsavrunding (dvs. 2500 blir 3000, ikke 2000).\n",
    "\n",
    "***Skriv koden din i blokka under.***"
   ]
  },
  {
   "cell_type": "code",
   "execution_count": null,
   "metadata": {},
   "outputs": [],
   "source": [
    "def custom_round(number_to_round: float, desired_precision: int) -> float:\n",
    "    elevated_number = number_to_round * 10**desired_precision\n",
    "\n",
    "    to_add = 1 if 0.5 <= (elevated_number % 1) else 0\n",
    "\n",
    "    return (int(elevated_number) + to_add) / 10**desired_precision\n",
    "\n",
    "\n",
    "number = float(input(\"Gi inn et desimaltall: \"))\n",
    "desired_precision = int(input(\"Antall desimaler i avrunding: \"))\n",
    "\n",
    "print(\n",
    "    f\"Avrunder til {desired_precision} desimaler: {custom_round(number, desired_precision)}\"\n",
    ")\n"
   ]
  },
  {
   "cell_type": "markdown",
   "metadata": {
    "deletable": false,
    "editable": false,
    "run_control": {
     "frozen": true
    }
   },
   "source": [
    "## b) Avrunding som unngår unøyaktig tallrepresentasjon"
   ]
  },
  {
   "cell_type": "markdown",
   "metadata": {
    "deletable": false,
    "editable": false,
    "run_control": {
     "frozen": true
    }
   },
   "source": [
    "Selv hvis vi er fornøyde med IEEE-standarden for avrunding (heller enn kjøpmannsavrunding), kan `round()` av og til gi overraskende resultater. F.eks.\n",
    "\n",
    "* `round(2.50000000000000000001)` gir 2, selv om tallet er litt nærmere 3\n",
    "* `round(2.15, 1)` gir 2.1, selv om regelen om å gå mot partall skulle tilsi 2.2\n",
    "\n",
    "Begge disse og andre lignende tilfeller skyldes egentlig ikke noen feil ved `round()`-funksjonen, men problemer med selve representasjonen av tall i det binære systemet.\n",
    "\n",
    "2.50000000000000000001 lar seg ikke representere eksakt i maskinen, så den tar det nærmeste den får til, som her blir 2.5 - og dermed vipper `round()` ned.\n",
    "\n",
    "2.15 lar seg heller ikke representere eksakt (i det binære tallsystemet, selv om det kun trengs tre siffer i titallssystemet), det nærmeste maskinen får til er 2.14999999999999999999. Dermed ligger tallet ikke lenger midt imellom men litt nærmere 2.1, så avrunding vipper ned.\n",
    "\n",
    "Oppgaven her er å lage et program som klarer å avrunde korrekt selv med slike tall som dette. For å klare oss mest mulig med det som er undervist av pensum hittil, kan heltallsdelen og desimaldelen til tallet vi skal behandle, leses inn hver for seg. Eksempel på kjøring blir da:\n",
    "\n",
    "  \n",
    "```python\n",
    "Oppgi heltallsdelen av tallet (det foran punktum): 2\n",
    "Oppgi desimaldelen av tallet (det bak punktum): 5\n",
    "Oppgi ønsket antall desimaler i avrunding: 0\n",
    "2.5 avrundet til 0 desimaler blir 2\n",
    "\n",
    "Oppgi heltallsdelen av tallet (det foran punktum): 2\n",
    "Oppgi desimaldelen av tallet (det bak punktum): 15\n",
    "Oppgi ønsket antall desimaler i avrunding: 1\n",
    "2.15 avrundet til 1 desimal blir 2.2\n",
    "\n",
    "Oppgi heltallsdelen av tallet (det foran punktum): 2\n",
    "Oppgi desimaldelen av tallet (det bak punktum): 500000000000000000001\n",
    "Oppgi ønsket antall desimaler i avrunding: 0\n",
    "2.500000000000000000001 avrundet til 0 desimaler blir 3\n",
    "```\n",
    "\n",
    "Denne oppgaven går delvis utenfor det som undervist hittil i emnet.\n",
    "\n",
    "***Skriv koden din i blokka under.***"
   ]
  },
  {
   "cell_type": "code",
   "execution_count": null,
   "metadata": {},
   "outputs": [],
   "source": [
    "from decimal import Decimal, getcontext\n",
    "import re\n",
    "\n",
    "regex_zero_one = r\"0{7,}1$\"\n",
    "regex_nine_nine = r\"9{8,}$\"\n",
    "\n",
    "\n",
    "# fra https://stackoverflow.com/a/47849719\n",
    "def increment_last_digit(number: float, plus=True) -> float:\n",
    "    decimal = Decimal(number)\n",
    "    # endrer på antall desimalplasser\n",
    "    getcontext().prec = len(decimal.as_tuple().digits)\n",
    "\n",
    "    return float(decimal.next_plus() if plus else decimal.next_minus())\n",
    "\n",
    "\n",
    "def stabilize_number(number: float) -> float:\n",
    "    if re.search(regex_nine_nine, str(number)):\n",
    "        number = increment_last_digit(number)\n",
    "\n",
    "    elif re.search(regex_zero_one, str(number)):\n",
    "        number = increment_last_digit(number, False)\n",
    "\n",
    "    return number\n",
    "\n",
    "\n",
    "def custom_round(number: float, desired_precision: int) -> float:\n",
    "    stabilized_number = stabilize_number(number)\n",
    "    elevated_number = stabilized_number * 10**desired_precision\n",
    "\n",
    "    to_add = 1 if 0.5 <= (elevated_number % 1) else 0\n",
    "\n",
    "    return (int(elevated_number) + to_add) / 10**desired_precision\n",
    "\n",
    "\n",
    "number_to_round = float(input(\"Gi inn et desimaltall: \"))\n",
    "desired_precision = int(input(\"Antall desimaler i avrunding: \"))\n",
    "\n",
    "print(\n",
    "    f\"Avrunder til {desired_precision} desimaler: {custom_round(number_to_round, desired_precision)}\"\n",
    ")\n"
   ]
  },
  {
   "cell_type": "markdown",
   "metadata": {
    "deletable": false,
    "editable": false,
    "run_control": {
     "frozen": true
    }
   },
   "source": [
    "## c) Strenghåndtering"
   ]
  },
  {
   "cell_type": "markdown",
   "metadata": {
    "deletable": false,
    "editable": false,
    "run_control": {
     "frozen": true
    }
   },
   "source": [
    "Lag et program hvor brukeren skriver inn navnet sitt fra tastaturet etter ledeteksten \"Jeg heter:\", og la maskinen svare med setningen The name is... som vist i boksen under.\n",
    "\n",
    "  \n",
    "```\n",
    "Jeg heter: James Bond\n",
    "The name is Bond, James Bond\n",
    "```\n",
    "\n",
    "Her vil du mest sannsynlig måtte benytte deg av programmeringsmekanismer som ikke er forelest ennå, enten if-setninger, løkker og strengindeksering, eller strengmetoder som `split()` med tilhørende listebehandling. Hvis du vil gjøre det ekstra vanskelig for deg selv (**VALGFRITT**, ikke nødvendig for å få godkjent), prøv å lage et program som også funker for personer med flere enn to navn (f.eks. The name is Hopper, Grace Murray Hopper), men som tar hensyn til at preposisjoner som Von, Van, De, Di er del av etternavnet (f.eks. The name is Von Neumann, John Von Neumann; The name is De Morgan, Augustus De Morgan... dog likevel bare hvis dette kommer i midten, det må fortsatt bli The name is Morrison, Van Morrison). Dessuten, hvis et navn slutter med Jr, Sr eller romertall, er det ikke det siste ordet som er etternavnet men det nest siste: The name is Northug, Petter Northug Jr; The name is Huxtable, Henry Huxtable III.\n",
    "\n",
    "***Skriv koden din i blokka under.***"
   ]
  },
  {
   "cell_type": "code",
   "execution_count": null,
   "metadata": {},
   "outputs": [],
   "source": [
    "import re\n",
    "\n",
    "# regexp for romertall fra https://stackoverflow.com/a/267405\n",
    "suffixes = (\n",
    "    r\"(?:[js]r\\.?)|(^m{0,3}(?:c[md]|d?c{0,3})(?:x[cl]|l?x{0,3})(?:i[xv]|v?i{0,3})$)\"\n",
    ")\n",
    "prefixes = [\"von\", \"van\", \"den\", \"de\", \"di\"]\n",
    "\n",
    "\n",
    "def is_not_suffix(name: str) -> bool:\n",
    "    return not bool(re.search(suffixes, name.lower()))\n",
    "\n",
    "\n",
    "def is_prefix(name: str) -> bool:\n",
    "    return name.lower() in prefixes\n",
    "\n",
    "\n",
    "def get_last_name(full_name: str) -> str:\n",
    "    names = full_name.split(\" \")\n",
    "    filtered_names = list(filter(is_not_suffix, names))\n",
    "\n",
    "    if len(filtered_names) <= 2:\n",
    "        return filtered_names[-1]\n",
    "\n",
    "    if filtered_names[-2].lower() in prefixes:\n",
    "        if filtered_names[-3].lower() in prefixes:\n",
    "            return f\"{filtered_names[-3]} {filtered_names[-2]} {filtered_names[-1]}\"\n",
    "\n",
    "        return f\"{filtered_names[-2]} {filtered_names[-1]}\"\n",
    "\n",
    "    return filtered_names[-1]\n",
    "\n",
    "\n",
    "name = input(\"Jeg heter: \")\n",
    "\n",
    "print(f\"The name is {get_last_name(name)}, {name}\")\n"
   ]
  }
 ],
 "metadata": {
  "kernelspec": {
   "display_name": "Python 3",
   "language": "python",
   "name": "python3"
  },
  "language_info": {
   "codemirror_mode": {
    "name": "ipython",
    "version": 3
   },
   "file_extension": ".py",
   "mimetype": "text/x-python",
   "name": "python",
   "nbconvert_exporter": "python",
   "pygments_lexer": "ipython3",
   "version": "3.11.3"
  },
  "toc": {
   "base_numbering": 1,
   "nav_menu": {},
   "number_sections": false,
   "sideBar": true,
   "skip_h1_title": false,
   "title_cell": "Table of Contents",
   "title_sidebar": "Contents",
   "toc_cell": false,
   "toc_position": {},
   "toc_section_display": true,
   "toc_window_display": false
  }
 },
 "nbformat": 4,
 "nbformat_minor": 2
}
