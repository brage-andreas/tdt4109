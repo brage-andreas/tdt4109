{
 "cells": [
  {
   "cell_type": "code",
   "execution_count": null,
   "metadata": {},
   "outputs": [],
   "source": [
    "#a) \n",
    "\n",
    "#Alternativ 1\n",
    "def number_of_lines(filename):\n",
    "    fp = open ( filename , \"r\")\n",
    "    i = 1\n",
    "    for c in fp.read():\n",
    "        if c == \"\\n\":\n",
    "            i += 1\n",
    "    fp.close()\n",
    "    return i\n",
    "\n",
    "#Alternativ 2\n",
    "def number_of_lines2(filename):\n",
    "    fp = open(filename,'r')\n",
    "    i = 0\n",
    "    for line in fp. readlines ():\n",
    "        i+=1\n",
    "    fp.close()\n",
    "    return i\n",
    "\n",
    "#Alternativ 3\n",
    "def number_of_lines3(filename):\n",
    "   return len(open(filename).readlines())\n",
    "\n",
    "#b)\n",
    "\n",
    "def number_frequency ( filename ):\n",
    "    freq = {}\n",
    "    fp = open ( filename )\n",
    "    for line in fp. readlines ():\n",
    "        number = int ( line . strip ())\n",
    "        freq [ number ] = freq . get(number , 0) + 1\n",
    "    fp.close()\n",
    "    return freq\n",
    "\n",
    "#c)\n",
    "\n",
    "for num, value in number_frequency(\"numbers.txt\").items():\n",
    "    print(\"%d: %d\" % (num , value ))"
   ]
  }
 ],
 "metadata": {
  "kernelspec": {
   "display_name": "Python 2",
   "language": "python",
   "name": "python2"
  },
  "language_info": {
   "codemirror_mode": {
    "name": "ipython",
    "version": 2
   },
   "file_extension": ".py",
   "mimetype": "text/x-python",
   "name": "python",
   "nbconvert_exporter": "python",
   "pygments_lexer": "ipython2",
   "version": "2.7.16"
  }
 },
 "nbformat": 4,
 "nbformat_minor": 2
}
