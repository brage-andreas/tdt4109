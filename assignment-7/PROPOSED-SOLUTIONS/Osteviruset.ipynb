{
 "cells": [
  {
   "cell_type": "code",
   "execution_count": null,
   "metadata": {},
   "outputs": [],
   "source": [
    "#a)\n",
    "\n",
    "print(cheeses['port salut'])\n",
    "\n",
    "#b)\n",
    "\n",
    "infected_cheeses = []\n",
    "infected_shelves = ('A234', 'A235', 'B13', 'B14', 'B15', 'C31')\n",
    "for cheese, shelves in cheeses.items():\n",
    "    for shelf in shelves:\n",
    "        prefix = shelf.split(\"-\")[0]\n",
    "        if prefix in infected_shelves and cheese not in infected_cheeses:\n",
    "            infected_cheeses.append(cheese)\n",
    "  \n",
    "print('Potentially infected cheeses: ', infected_cheeses)\n",
    "\n",
    "#c)\n",
    "\n",
    "for cheese in cheeses.keys():\n",
    "    if cheese not in infected_cheeses:\n",
    "        for shelf in cheeses[cheese]:\n",
    "            print (shelf.ljust(10), cheese)"
   ]
  }
 ],
 "metadata": {
  "kernelspec": {
   "display_name": "Python 2",
   "language": "python",
   "name": "python2"
  },
  "language_info": {
   "codemirror_mode": {
    "name": "ipython",
    "version": 2
   },
   "file_extension": ".py",
   "mimetype": "text/x-python",
   "name": "python",
   "nbconvert_exporter": "python",
   "pygments_lexer": "ipython2",
   "version": "2.7.16"
  }
 },
 "nbformat": 4,
 "nbformat_minor": 2
}
