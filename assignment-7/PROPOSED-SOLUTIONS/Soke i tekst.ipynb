{
 "cells": [
  {
   "cell_type": "code",
   "execution_count": null,
   "metadata": {},
   "outputs": [],
   "source": [
    "#a)\n",
    "def read_from_file(filename):\n",
    "    file = open(filename, 'r')\n",
    "    text = file.read()\n",
    "    file.close()\n",
    "    return text\n",
    "#b)\n",
    "\n",
    "def remove_symbols(text):\n",
    "   text = text.lower()\n",
    "   return ''.join(letter for letter in text if letter.isalpha() or letter == ' ')\n",
    "#c)\n",
    "\n",
    "def countWords(filename):\n",
    "    text = read_from_file(filename)\n",
    "    clean_text = remove_symbols(text)\n",
    "    words = clean_text.split()\n",
    "    word_dict = {}\n",
    "    for i in range(len(words)):\n",
    "        if (words[i] in word_dict):\n",
    "            word_dict[words[i]] += 1\n",
    "        else:\n",
    "            word_dict[words[i]] = 1\n",
    "    return word_dict\n",
    "#d) \n",
    "\n",
    "alice_dict = countWords('Alice_in_wonderland.txt')\n",
    "for word, value in alice_dict.items():\n",
    "    print(word, value)"
   ]
  }
 ],
 "metadata": {
  "kernelspec": {
   "display_name": "Python 2",
   "language": "python",
   "name": "python2"
  },
  "language_info": {
   "codemirror_mode": {
    "name": "ipython",
    "version": 2
   },
   "file_extension": ".py",
   "mimetype": "text/x-python",
   "name": "python",
   "nbconvert_exporter": "python",
   "pygments_lexer": "ipython2",
   "version": "2.7.16"
  }
 },
 "nbformat": 4,
 "nbformat_minor": 2
}
