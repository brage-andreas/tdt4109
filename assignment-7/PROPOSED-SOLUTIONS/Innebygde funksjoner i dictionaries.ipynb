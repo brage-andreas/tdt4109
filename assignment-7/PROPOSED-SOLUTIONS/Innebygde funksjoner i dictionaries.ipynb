{
 "cells": [
  {
   "cell_type": "markdown",
   "metadata": {},
   "source": [
    "a)\n",
    "1. [88, 92, 100]\n",
    "2. 100"
   ]
  },
  {
   "cell_type": "code",
   "execution_count": 1,
   "metadata": {},
   "outputs": [],
   "source": [
    "#b)\n",
    "fruit = {}\n",
    "fruit['epler'] = 3\n",
    "fruit['pærer'] = 4\n",
    "fruit['appelsiner'] = 5"
   ]
  },
  {
   "cell_type": "code",
   "execution_count": null,
   "metadata": {},
   "outputs": [],
   "source": [
    "#c)\n",
    "fruit['bananer'] = 0\n",
    "fruit['druer'] = 1\n",
    "del fruit['epler']\n",
    "del fruit['pærer']\n",
    "del fruit['appelsiner']"
   ]
  },
  {
   "cell_type": "code",
   "execution_count": 2,
   "metadata": {},
   "outputs": [],
   "source": [
    "#d)\n",
    "for val in fruit.values():\n",
    "    print(val)"
   ]
  },
  {
   "cell_type": "code",
   "execution_count": null,
   "metadata": {},
   "outputs": [],
   "source": [
    "#e)\n",
    "if 'bananer' in fruit:\n",
    "    del fruit['bananer']"
   ]
  },
  {
   "cell_type": "code",
   "execution_count": null,
   "metadata": {},
   "outputs": [],
   "source": [
    "#f)\n",
    "fruit['jordbær'] = 6\n",
    "fruit['blåbær'] = 50\n",
    "  \n",
    "for key, value in fruit.items():\n",
    "    print(key, value)"
   ]
  }
 ],
 "metadata": {
  "kernelspec": {
   "display_name": "Python 2",
   "language": "python",
   "name": "python2"
  },
  "language_info": {
   "codemirror_mode": {
    "name": "ipython",
    "version": 2
   },
   "file_extension": ".py",
   "mimetype": "text/x-python",
   "name": "python",
   "nbconvert_exporter": "python",
   "pygments_lexer": "ipython2",
   "version": "2.7.16"
  }
 },
 "nbformat": 4,
 "nbformat_minor": 2
}
