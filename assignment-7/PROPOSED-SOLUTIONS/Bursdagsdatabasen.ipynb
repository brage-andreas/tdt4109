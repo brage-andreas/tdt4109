{
 "cells": [
  {
   "cell_type": "code",
   "execution_count": null,
   "metadata": {},
   "outputs": [],
   "source": [
    "birthdays = {\n",
    "\"22 nov\": [\"Bob Bernt\", \"Mathias\"],\n",
    "\"20 mar\": \"Simen\",\n",
    "\"31 okt\": [\"Aragusta\", \"Carina\"],\n",
    "\"12 jan\": \"Silje\",\n",
    "\"3 sep\": \"Tobias\",\n",
    "\"5 jul\": [\"Martin\", \"Øystein\"],\n",
    "\"11 mar\": \"Miriam\"\n",
    "}\n",
    "def add_birthday_to_date(date , name ):\n",
    "    try :\n",
    "        birthdays[date].append(name)\n",
    "    except KeyError :\n",
    "        birthdays[date] = name\n",
    "    except AttributeError :\n",
    "        birthdays[date] = [birthdays[date], name]\n",
    " \n",
    "add_birthday_to_date(\"12 jan\", \"Sindre\")\n",
    "add_birthday_to_date(\"9 feb\", \"Lillian\")\n",
    "print(birthdays)"
   ]
  }
 ],
 "metadata": {
  "kernelspec": {
   "display_name": "Python 2",
   "language": "python",
   "name": "python2"
  },
  "language_info": {
   "codemirror_mode": {
    "name": "ipython",
    "version": 2
   },
   "file_extension": ".py",
   "mimetype": "text/x-python",
   "name": "python",
   "nbconvert_exporter": "python",
   "pygments_lexer": "ipython2",
   "version": "2.7.16"
  }
 },
 "nbformat": 4,
 "nbformat_minor": 2
}
