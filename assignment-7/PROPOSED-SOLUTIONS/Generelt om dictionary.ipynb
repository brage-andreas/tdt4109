{
 "cells": [
  {
   "cell_type": "code",
   "execution_count": null,
   "metadata": {},
   "outputs": [],
   "source": [
    "#a)\n",
    "my_family = {}\n",
    " \n",
    "#b)\n",
    "def add_family_member(role, name):\n",
    "    my_family[role] = name\n",
    "#c) \n",
    "\n",
    "my_family = {}\n",
    " \n",
    "def add_family_member(role, name):\n",
    "    if role not in my_family.keys():\n",
    "        my_family[role] = [name]\n",
    "    else:\n",
    "        my_family[role].append(name)"
   ]
  }
 ],
 "metadata": {
  "kernelspec": {
   "display_name": "Python 2",
   "language": "python",
   "name": "python2"
  },
  "language_info": {
   "codemirror_mode": {
    "name": "ipython",
    "version": 2
   },
   "file_extension": ".py",
   "mimetype": "text/x-python",
   "name": "python",
   "nbconvert_exporter": "python",
   "pygments_lexer": "ipython2",
   "version": "2.7.16"
  }
 },
 "nbformat": 4,
 "nbformat_minor": 2
}
