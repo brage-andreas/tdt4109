{
 "cells": [
  {
   "cell_type": "code",
   "execution_count": null,
   "metadata": {},
   "outputs": [],
   "source": [
    "#a)\n",
    "\n",
    "  \n",
    "def write_to_file(data):\n",
    "    f = open('my_file.txt','w')\n",
    "    f.write(data)\n",
    "    f.close()\n",
    "    \n",
    "#b)\n",
    "\n",
    "def read_from_file(filename):\n",
    "    f = open(filename)\n",
    "    data = f.read()\n",
    "    print(data)\n",
    "    f.close()\n",
    "    \n",
    "#c)\n",
    "\n",
    "def main():\n",
    "    choice = ''\n",
    "    while choice != 'done':\n",
    "        choice = input('Do you want to read or write? ')\n",
    "        if choice == 'read':\n",
    "            try:\n",
    "                read_from_file('my_file')\n",
    "            except:\n",
    "                print('Oops, the file something went wrong when opening my_file.txt, try again')\n",
    "                main()\n",
    "        elif choice == 'write':\n",
    "            data = input('What do you want to write to file? ')\n",
    "            write_to_file(data)\n",
    "            print(data, 'was written to file.')\n",
    "    print('You are done.')\n",
    " \n",
    "main()"
   ]
  }
 ],
 "metadata": {
  "kernelspec": {
   "display_name": "Python 2",
   "language": "python",
   "name": "python2"
  },
  "language_info": {
   "codemirror_mode": {
    "name": "ipython",
    "version": 2
   },
   "file_extension": ".py",
   "mimetype": "text/x-python",
   "name": "python",
   "nbconvert_exporter": "python",
   "pygments_lexer": "ipython2",
   "version": "2.7.16"
  }
 },
 "nbformat": 4,
 "nbformat_minor": 2
}
