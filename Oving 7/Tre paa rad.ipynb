{
 "cells": [
  {
   "cell_type": "markdown",
   "metadata": {
    "deletable": false,
    "editable": false,
    "run_control": {
     "frozen": true
    }
   },
   "source": [
    "<nav class=\"navbar navbar-default\">\n",
    "  <div class=\"container-fluid\">\n",
    "    <div class=\"navbar-header\">\n",
    "      <a class=\"navbar-brand\" href=\"_Oving7.ipynb\">Øving 7</a>\n",
    "    </div>\n",
    "    <ul class=\"nav navbar-nav\">\n",
    "    <li ><a href=\"Generelt%20om%20dictionary.ipynb\">Generelt om dictionary</a></li>\n",
    "    <li ><a href=\"Innebygde%20funksjoner%20i%20dictionaries.ipynb\">Innebygde funksjoner</a></li>\n",
    "    <li ><a href=\"Generelt%20om%20sets.ipynb\">Generelt om sets</a></li>\n",
    "    <li ><a href=\"Generelt%20om%20filbehandling.ipynb\">Generelt om filbehandling</a></li>\n",
    "    <li ><a href=\"Osteviruset.ipynb\">Osteviruset</a></li>\n",
    "    <li ><a href=\"Bursdagsdatabasen.ipynb\">Bursdagsdatabasen</a></li>\n",
    "    <li ><a href=\"Tallak%20teller%20antall%20tall.ipynb\">Tallak teller antall tall</a></li>\n",
    "    <li ><a href=\"Opptaksgrenser.ipynb\">Opptaksgrenser</a></li>\n",
    "        <li ><a href=\"Soke%20i%20tekst.ipynb\">Søke i tekst</a></li>\n",
    "    <li class=\"active\"><a href=\"Tre%20paa%20rad.ipynb\">Tre på rad</a></li>\n",
    "    </ul>\n",
    "  </div>\n",
    "</nav>\n",
    "\n",
    "# Tre på rad\n",
    "\n",
    "**Læringsmål:**\n",
    "\n",
    "* Lister\n",
    "* Funksjoner \n",
    "* Betingelser\n",
    "* Strenger\n",
    " \n",
    "I denne oppgaven skal du implementere det populære spillet 3 på rad. Spillet er for to spillere; x og o, som plasserer brikker . En spiller vinner om den klarer å få 3 på rad, enten horisontalt, vertikalt eller diagonalt.\n",
    "\n",
    "\n",
    "**a)** Lag en funksjon som skriver ut brettet, det kan f.eks. se slikt ut om du vil:\n",
    "\n",
    "```\n",
    "    1   2   3\n",
    "  -------------\n",
    "1 |   |   |   |\n",
    "  -------------\n",
    "2 |   |   |   |\n",
    "  -------------\n",
    "3 |   |   |   |\n",
    "  -------------\n",
    "```"
   ]
  },
  {
   "cell_type": "code",
   "execution_count": null,
   "metadata": {},
   "outputs": [],
   "source": [
    "from math import ceil, floor\n",
    "\n",
    "FlatMatrix = list[str | None]\n",
    "Matrix = list[FlatMatrix]\n",
    "\n",
    "\n",
    "def transform_input(input: any) -> str | None:\n",
    "    if input is None:\n",
    "        return None\n",
    "\n",
    "    return str(input)\n",
    "\n",
    "\n",
    "# utgangspunkt fra `Matriseaddisjon.ipynb`\n",
    "def create_matrix(width: int, height: int, data: FlatMatrix) -> Matrix:\n",
    "    return [[transform_input(data[x + width * y]) for x in range(width)]\n",
    "            for y in range(height)]\n",
    "\n",
    "\n",
    "# fra `Matriseaddisjon.ipynb`\n",
    "def flatten_matrix(data: Matrix) -> FlatMatrix:\n",
    "    return [x for y in data for x in y]\n",
    "\n",
    "\n",
    "def pad(string: str, left: int = 1, right: int = 1) -> str:\n",
    "    padding_left = left\n",
    "    padding_right = right\n",
    "\n",
    "    return f\"{' ' * padding_left}{string}{' ' * padding_right}\"\n",
    "\n",
    "\n",
    "def center_string(string: str, width: int) -> str:\n",
    "    difference = width - len(string)\n",
    "    padding = difference // 2\n",
    "\n",
    "    return \" \" * padding + string + \" \" * (difference - padding)\n",
    "\n",
    "\n",
    "def pad_cells(matrix: Matrix) -> Matrix:\n",
    "    flat_matrix = flatten_matrix(matrix)\n",
    "\n",
    "    max_widths = []\n",
    "\n",
    "    for x in range(len(matrix[0])):\n",
    "        column_max_width = 0\n",
    "\n",
    "        for y in range(len(matrix)):\n",
    "            if matrix[y][x] is None:\n",
    "                continue\n",
    "\n",
    "            if len(matrix[y][x]) > column_max_width:\n",
    "                column_max_width = len(matrix[y][x])\n",
    "\n",
    "        max_widths.append(column_max_width)\n",
    "\n",
    "    cells = []\n",
    "\n",
    "    for i in range(0, len(flat_matrix)):\n",
    "        x = i % len(matrix[0])\n",
    "\n",
    "        to_append = \" \" if flat_matrix[i] is None else flat_matrix[i]\n",
    "        to_append = pad(to_append.ljust(max_widths[x], \" \"))\n",
    "\n",
    "        cells.append(to_append)\n",
    "\n",
    "    return create_matrix(len(matrix[0]), len(matrix), cells)\n",
    "\n",
    "\n",
    "def get_prefix(height) -> list[str]:\n",
    "    upper_bound_plus_one = len(str(height))\n",
    "    spacer = pad(\" \", upper_bound_plus_one - 1, 1)\n",
    "    prefix = [spacer, spacer]\n",
    "\n",
    "    for i in range(1, height + 1):\n",
    "        prefix.append(pad(str(i), upper_bound_plus_one - len(str(i)), 1))\n",
    "        prefix.append(spacer)\n",
    "\n",
    "    return prefix\n",
    "\n",
    "\n",
    "def print_matrix(matrix: Matrix) -> None:\n",
    "    height = len(matrix)\n",
    "    width = len(matrix[0])\n",
    "\n",
    "    prefix = get_prefix(height)\n",
    "    cells = pad_cells(matrix)\n",
    "\n",
    "    row_separator = \"+\"\n",
    "    for column in cells[0]:\n",
    "        row_separator += (\"-\" * len(column) + \"+\")\n",
    "\n",
    "    for i in range(0, height * 2 + 2):\n",
    "        print(prefix[i], end=\"\")\n",
    "\n",
    "        if i == 0:\n",
    "            for column_number in range(1, width + 1):\n",
    "                string = center_string(str(column_number), len(cells[0][column_number - 1]))\n",
    "\n",
    "                print(\" \" + string, end=\"\")\n",
    "\n",
    "            print(\"\")\n",
    "            continue\n",
    "\n",
    "        if i % 2 != 0:\n",
    "            print(row_separator)\n",
    "            continue\n",
    "\n",
    "        print(\"|\", end=\"\")\n",
    "\n",
    "        cell_index = ceil((i - 2) / 2)\n",
    "\n",
    "        for cell in cells[cell_index][:-1]:\n",
    "            print(f\"{cell}|\", end=\"\")\n",
    "\n",
    "        print(f\"{cells[cell_index][-1]}|\")\n",
    "\n",
    "\n",
    "board_example_1 = create_matrix(3, 2, [\"1234567890\"] + [None for _ in range(0, 3 * 2 - 1)])\n",
    "print_matrix(board_example_1)\n",
    "\n",
    "print(\"\\n\")\n",
    "\n",
    "board_example_2 = create_matrix(12, 10, [i**2 for i in range(1, 12 * 10 + 1)])\n",
    "print_matrix(board_example_2)\n",
    "\n",
    "print(\"\\n\")\n",
    "\n",
    "board = create_matrix(3, 3, [None for _ in range(0, 9)])\n",
    "print_matrix(board)\n"
   ]
  },
  {
   "cell_type": "markdown",
   "metadata": {
    "deletable": false,
    "editable": false,
    "run_control": {
     "frozen": true
    }
   },
   "source": [
    "**b)** Lag en funksjon som sjekker om en spiller har vunnet"
   ]
  },
  {
   "cell_type": "code",
   "execution_count": null,
   "metadata": {},
   "outputs": [],
   "source": []
  },
  {
   "cell_type": "markdown",
   "metadata": {
    "deletable": false,
    "editable": false,
    "run_control": {
     "frozen": true
    }
   },
   "source": [
    "**c)** Lag en funksjon som tar inn navnene til de to brukerne."
   ]
  },
  {
   "cell_type": "code",
   "execution_count": null,
   "metadata": {},
   "outputs": [],
   "source": []
  },
  {
   "cell_type": "markdown",
   "metadata": {
    "deletable": false,
    "editable": false,
    "run_control": {
     "frozen": true
    }
   },
   "source": [
    "**d)** Lag en funksjon som sjekker om et trekk er lovlig, altså at det ikke finnes andre brikker der."
   ]
  },
  {
   "cell_type": "code",
   "execution_count": null,
   "metadata": {},
   "outputs": [],
   "source": []
  },
  {
   "cell_type": "markdown",
   "metadata": {
    "deletable": false,
    "editable": false,
    "run_control": {
     "frozen": true
    }
   },
   "source": [
    "**e)** Lag en funksjon som sjekker at input fra brukeren er riktig, altså at man ikke skriver inn rare tegn, eller skriver inn koordinater utenfor spillebrettet."
   ]
  },
  {
   "cell_type": "code",
   "execution_count": null,
   "metadata": {},
   "outputs": [],
   "source": []
  },
  {
   "cell_type": "markdown",
   "metadata": {
    "deletable": false,
    "editable": false,
    "run_control": {
     "frozen": true
    }
   },
   "source": [
    "**f)** Sett dette sammen til et fullverdig 3 på rad spill!"
   ]
  },
  {
   "cell_type": "code",
   "execution_count": null,
   "metadata": {},
   "outputs": [],
   "source": []
  }
 ],
 "metadata": {
  "kernelspec": {
   "display_name": "Python 3",
   "language": "python",
   "name": "python3"
  },
  "language_info": {
   "codemirror_mode": {
    "name": "ipython",
    "version": 3
   },
   "file_extension": ".py",
   "mimetype": "text/x-python",
   "name": "python",
   "nbconvert_exporter": "python",
   "pygments_lexer": "ipython3",
   "version": "3.11.3"
  },
  "toc": {
   "base_numbering": 1,
   "nav_menu": {},
   "number_sections": false,
   "sideBar": true,
   "skip_h1_title": false,
   "title_cell": "Table of Contents",
   "title_sidebar": "Contents",
   "toc_cell": false,
   "toc_position": {},
   "toc_section_display": true,
   "toc_window_display": false
  }
 },
 "nbformat": 4,
 "nbformat_minor": 2
}
