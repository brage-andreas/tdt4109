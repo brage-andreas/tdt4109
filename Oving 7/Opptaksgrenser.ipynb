{
 "cells": [
  {
   "cell_type": "markdown",
   "metadata": {
    "deletable": false,
    "editable": false,
    "run_control": {
     "frozen": true
    }
   },
   "source": [
    "<nav class=\"navbar navbar-default\">\n",
    "  <div class=\"container-fluid\">\n",
    "    <div class=\"navbar-header\">\n",
    "      <a class=\"navbar-brand\" href=\"_Oving7.ipynb\">Øving 7</a>\n",
    "    </div>\n",
    "    <ul class=\"nav navbar-nav\">\n",
    "    <li ><a href=\"Generelt%20om%20dictionary.ipynb\">Generelt om dictionary</a></li>\n",
    "    <li ><a href=\"Innebygde%20funksjoner%20i%20dictionaries.ipynb\">Innebygde funksjoner</a></li>\n",
    "    <li ><a href=\"Generelt%20om%20sets.ipynb\">Generelt om sets</a></li>\n",
    "    <li ><a href=\"Generelt%20om%20filbehandling.ipynb\">Generelt om filbehandling</a></li>\n",
    "    <li ><a href=\"Osteviruset.ipynb\">Osteviruset</a></li>\n",
    "    <li ><a href=\"Bursdagsdatabasen.ipynb\">Bursdagsdatabasen</a></li>\n",
    "    <li ><a href=\"Tallak%20teller%20antall%20tall.ipynb\">Tallak teller antall tall</a></li>\n",
    "    <li class=\"active\"><a href=\"Opptaksgrenser.ipynb\">Opptaksgrenser</a></li>\n",
    "        <li ><a href=\"Soke%20i%20tekst.ipynb\">Søke i tekst</a></li>\n",
    "    <li ><a href=\"Tre%20paa%20rad.ipynb\">Tre på rad</a></li>\n",
    "    </ul>\n",
    "  </div>\n",
    "</nav>\n",
    "\n",
    "\n",
    "# Opptaksgrenser\n",
    "\n",
    "**Læringsmål:**\n",
    "\n",
    "* Lese fra filer\n",
    "* dictionaries\n",
    "\n",
    "**Starting Out with Python:**\n",
    "\n",
    "* Kap. 6: Files and Exceptions\n",
    "* Kap. 9.1 Dictionaries\n",
    "\n",
    "I denne oppgaven skal vi lese inn en fil med opptaksgrensene fra Samordna Opptak.\n",
    "\n",
    "Filen er på CSV-format (Comma Separated Values), noe som betyr at hver linje er en liste med felter separert med komma. Tekstfelter er omsluttet av fnutter (\").\n",
    "\n",
    "* Første felt er studiets navn\n",
    "* Andre felt er poenggrensen (enten et tall, eller \"Alle\" dersom alle kom inn)\n",
    "\n",
    "F.eks. linjen: **\"NTNU 194459 Antikkens kultur\",\"Alle\"** sier at alle som søkte kom inn på Dragvoll-studiet “Antikkens kultur” ved NTNU.\n",
    "\n",
    "Hver funksjon i de følgende deloppgavene tar data fra filen **poenggrenser_2011.csv** som input. Derfor er det veldig praktisk å lagre innholdet i en variabel, slik at du slipper å lese den på nytt hver gang."
   ]
  },
  {
   "cell_type": "markdown",
   "metadata": {
    "deletable": false,
    "editable": false,
    "run_control": {
     "frozen": true
    }
   },
   "source": [
    "### a)"
   ]
  },
  {
   "cell_type": "markdown",
   "metadata": {
    "deletable": false,
    "editable": false,
    "run_control": {
     "frozen": true
    }
   },
   "source": [
    "Les fra fila `poenggrenser_2011.csv` og lagre innholdet i en variabel.\n",
    "\n",
    "***Skriv koden din i boksen under.***"
   ]
  },
  {
   "cell_type": "code",
   "execution_count": 7,
   "metadata": {},
   "outputs": [],
   "source": [
    "import csv\n",
    "\n",
    "csv_data: dict[str, int | str] = dict()\n",
    "\n",
    "with open('poenggrenser_2011.csv', mode='r') as file:\n",
    "    reader = csv.reader(file)\n",
    "    \n",
    "    csv_data = {rows[0]:rows[1] for rows in reader}\n"
   ]
  },
  {
   "cell_type": "markdown",
   "metadata": {
    "deletable": false,
    "editable": false,
    "run_control": {
     "frozen": true
    }
   },
   "source": [
    "### b)"
   ]
  },
  {
   "cell_type": "markdown",
   "metadata": {
    "deletable": false,
    "editable": false,
    "run_control": {
     "frozen": true
    }
   },
   "source": [
    "Skriv en funksjon som finner ut hvor mange studier som tok inn alle søkere. \n",
    "\n",
    "***Husk at du nå i alle deloppgavene kan bruke variabelen du definerte i a så lenge du har kjørt den kodesnutten først!***\n",
    "\n",
    "*Eksempel på kjøring av kode:*\n",
    "```python\n",
    "Antall studier hvor alle kom inn: 590\n",
    "```\n",
    "***Skriv koden din i boksen under.***"
   ]
  },
  {
   "cell_type": "code",
   "execution_count": 8,
   "metadata": {},
   "outputs": [
    {
     "name": "stdout",
     "output_type": "stream",
     "text": [
      "{'ATH 255196 Kristendom religion og livssyn Ã¥rsstudium': 'Alle', 'ATH 255418 Interkulturell forstÃ¥else Ã¥rsstudium': 'Alle', 'ATH 255437 Musikk': 'Alle', 'ATH 255480 Teologi': 'Alle', 'ATH 255482 Kristendom religion og livssyn': 'Alle', 'ATH 255752 Psykologi Ã¥rsstudium': 'Alle', 'ATH 255777 Musikk Ã¥rsstudium': 'Alle', 'ATH 255869 Interkulturell forstÃ¥else': 'Alle', 'ATH 255876 Psykologi med religion og helse': 'Alle', 'ATH 255936 Praktisk teologi': 'Alle', 'AHO 189030 Arkitekt': '12.3', 'AHO 189343 Industridesign': '11.7', 'BDH 250050 Sykepleierutdanning': '45.5', 'MF 190196 Kristendom/RLE': 'Alle', 'MF 190242 Samfunnsfag': 'Alle', 'MF 190418 Interkulturell kommunikasjon': 'Alle', 'MF 190480 Teologi profesjonsstudium': 'Alle', 'MF 190482 Religion kultur og samfunn': 'Alle', 'MF 190927 Ungdom kultur og tro': 'Alle', 'MF 190934 Lektor- og adjunktprogram': 'Alle', 'MF 190936 Teologi': 'Alle', 'DHS 251050 Sykepleierutdanning Oslo': '48.3', 'DHS 251060 Vernepleierutdanning Rogaland': '41.8', 'DHS 251080 Sosialt arbeid Oslo': '49.1', 'DHS 251081 Sosialt arbeid deltid Oslo': '42.4', 'DHS 251700 Ergoterapeututdanning Rogaland': '32.6', 'DMMH 253130 FÃ¸rskolelÃ¦rerutdanning': '36.3', 'DMMH 253131 FÃ¸rskolelÃ¦rer estetisk linje': '39.1', 'DMMH 253132 FÃ¸rskolelÃ¦rer natur- og friluftslinje.': '44', 'DMMH 253133 FÃ¸rskolelÃ¦rer deltid': '46.2', 'DMMH 253529 FÃ¸rskolelÃ¦rer interkulturell linje': 'Alle', 'FIH 258480 Teologi og misjon': 'Alle', 'FIH 258626 Kristendom religion- og livssynskunnskap': 'Alle', 'FIH 258777 Musikk': 'Alle', 'HDH 252050 Sykepleierutdanning': '46.1', 'HIAK 202050 Sykepleierutdanning': '45.3', 'HIAK 202060 Vernepleierutdanning': '47.4', 'HIAK 202061 Vernepleierutdanning deltid': '39.3', 'HIAK 202063 Vernepleierutdanning deltid BÃ¦rum': '39.9', 'HIAK 202082 YrkesfaglÃ¦rerutd. i medier og kommunikasjon': 'Alle', 'HIAK 202105 YrkesfaglÃ¦rerutd. i service og samferdsel': 'Alle', 'HIAK 202106 YrkesfaglÃ¦rerutd. i helse- og sosialfag deltid': 'Alle', 'HIAK 202108 YrkesfaglÃ¦rerutd. i design-og hÃ¥ndverksfag deltid': 'Alle', 'HIAK 202109 YrkesfaglÃ¦rerutd. i bygg og anleggsteknikk': 'Alle', 'HIAK 202123 YrkesfaglÃ¦rerutd. i helse- og sosialfag': 'Alle', 'HIAK 202124 YrkesfaglÃ¦rerutd. i restaurant- og matfag': 'Alle', 'HIAK 202126 YrkesfaglÃ¦rerutd. i design-og hÃ¥ndverksfag': 'Alle', 'HIAK 202127 YrkesfaglÃ¦rerutd. i elektrofag': 'Alle', 'HIAK 202129 YrkesfaglÃ¦rerutd. i teknikk og industriell prod.': 'Alle', 'HIAK 202405 Produktdesign': 'Alle', 'HIAK 202408 SamfunnsernÃ¦ring': '49.7', 'HIAK 202696 TrafikklÃ¦rerutdanning': 'Alle', 'HIAK 202876 LÃ¦ringspsykologi med vekt pÃ¥ adferdsanalyse': '48.4', 'HIAK 202896 HusÃ¸konomi og serviceledelse': 'Alle', 'HIAK 202897 KostÃ¸konomi ernÃ¦ring og ledelse': 'Alle', 'HIB 203003 IngeniÃ¸r bygg': 'Alle', 'HIB 203004 IngeniÃ¸r data': 'Alle', 'HIB 203006 IngeniÃ¸r elkraftteknikk': 'Alle', 'HIB 203009 IngeniÃ¸r kjemi': 'Alle', 'HIB 203011 IngeniÃ¸r marinteknikk': '43.8', 'HIB 203012 IngeniÃ¸r maskinteknikk': '39.8', 'HIB 203017 IngeniÃ¸r automatisering': 'Alle', 'HIB 203024 IngeniÃ¸r elektronikk': 'Alle', 'HIB 203028 IngeniÃ¸r kommunikasjonssystemer': 'Alle', 'HIB 203045 IngeniÃ¸r produksjonsteknikk': 'Alle', 'HIB 203050 Sykepleierutdanning': '41.2', 'HIB 203060 Vernepleierutdanning': '38.2', 'HIB 203080 Sosialt arbeid': '45.8', 'HIB 203096 IngeniÃ¸r undervannsteknologi': '44.8', 'HIB 203130 FÃ¸rskolelÃ¦rerutdanning': 'Alle', 'HIB 203132 FÃ¸rskolelÃ¦rerutd. med vekt pÃ¥ kunstfag': 'Alle', 'HIB 203133 FÃ¸rskolelÃ¦rerutd m/vekt pÃ¥ natur og friluftsliv': '34.8', 'HIB 203203 Folkehelsearbeid': '45.5', 'HIB 203369 Ã˜konomi og administrasjon': '46.6', 'HIB 203395 Informasjonsteknologi': 'Alle', 'HIB 203440 Idrett faglÃ¦rerutdanning': '44.7', 'HIB 203466 TegnsprÃ¥k og tolking': 'Alle', 'HIB 203547 GrunnskolelÃ¦rer 1.-7. trinn m/kroppsÃ¸ving': '40.5', 'HIB 203548 GrunnskolelÃ¦rer 1.-7. trinn med musikk': 'Alle', 'HIB 203550 GrunnskolelÃ¦rer 1.-7. trinn m/samfunnsfag': 'Alle', 'HIB 203551 GrunnskolelÃ¦rer 1.-7. trinn med engelsk': 'Alle', 'HIB 203557 GrunnskolelÃ¦rer 1.-7. trinn m/naturfag': 'Alle', 'HIB 203559 GrunnskolelÃ¦rer 1.-7. trinn med RLE': 'Alle', 'HIB 203599 GrunnskolelÃ¦rer 1.-7. trinn med mat og helse': '44.3', 'HIB 203618 Drama': '39.2', 'HIB 203655 GrunnskolelÃ¦rer 5.-10. trinn med matematikk': '43.8', 'HIB 203657 GrunnskolelÃ¦rer 5.-10. trinn med samfunnsfag': '44.7', 'HIB 203658 GrunnskolelÃ¦rer 5.-10. trinn med norsk': '40.4', 'HIB 203659 GrunnskolelÃ¦rer 5.-10. trinn med mat og helse': '43.5', 'HIB 203660 GrunnskolelÃ¦rer 5.-10. trinn med musikk': 'Alle', 'HIB 203667 Musikk': '46.3', 'HIB 203700 Ergoterapeututdanning': '42.5', 'HIB 203701 Radiografutdanning': '36.2', 'HIB 203702 BioingeniÃ¸rutdanning': '42.3', 'HIB 203703 Fysioterapeututdanning': '49.7', 'HIB 203753 LandmÃ¥ling og eiendomsdesign': '35.6', 'HIB 203822 IngeniÃ¸r energiteknologi': '45.5', 'HIBU 205004 IngeniÃ¸r data  Kongsberg': 'Alle', 'HIBU 205005 IngeniÃ¸r elektro Kongsberg': 'Alle', 'HIBU 205012 IngeniÃ¸r maskin Kongsberg': 'Alle', 'HIBU 205050 Sykepleier Drammen': '30.4', 'HIBU 205155 Lysdesign Drammen': 'Alle', 'HIBU 205160 Ã˜konomi og administrasjon1-Ã¥rig Kongsberg': 'Alle', 'HIBU 205162 Ã˜konomi og administrasjon 1-Ã¥rig HÃ¸nefoss.': 'Alle', 'HIBU 205246 Juss Ã¥rsstudium HÃ¸nefoss': '43.8', 'HIBU 205251 Visuell kommunikasjon Drammen': '43.8', 'HIBU 205291 Ã˜konomi og ledelse - sivilÃ¸konom Kongsberg': 'Alle', 'HIBU 205317 Reiselivsledelse HÃ¸nefoss': 'Alle', 'HIBU 205345 Ã˜konomi og ledelse - sivilÃ¸konom HÃ¸nefoss': 'Alle', 'HIBU 205370 Dynamisk webdesign HÃ¸nefoss': 'Alle', 'HIBU 205395 IT og informasjonssystemer HÃ¸nefoss': 'Alle', 'HIBU 205404 Ã˜konomi og administrasjon Kongsberg': '29.1', 'HIBU 205414 Ã˜konomi og administrasjon HÃ¸nefoss': 'Alle', 'HIBU 205526 Juss HÃ¸nefoss': '45.2', 'HIBU 205547 GrunnskolelÃ¦rer 1.-7. trinn Drammen': 'Alle', 'HIBU 205620 IT og informasjonssystemer 1-Ã¥rig HÃ¸nefoss': 'Alle', 'HIBU 205623 Engelsk HÃ¸nefoss': 'Alle', 'HIBU 205651 GrunnskolelÃ¦rer 5.-10. trinn med sprÃ¥kfag Drammen': 'Alle', 'HIBU 205655 GrunnskolelÃ¦rer 5.-10. trinn med realfag Drammen': 'Alle', 'HIBU 205657 GrunnskolelÃ¦rer 5.-10. trinn med samfunnsfag Dr.': 'Alle', 'HIBU 205672 Norsk HÃ¸nefoss': 'Alle', 'HIBU 205701 Radiograf Drammen': '30.8', 'HIBU 205867 Juss og ledelse HÃ¸nefoss': '41.8', 'HIBU 205881 Statsvitenskap  Drammen': '36.5', 'HIBU 205894 Optometri Kongsberg': 'Alle', 'HIG 207003 IngeniÃ¸r bygg': 'Alle', 'HIG 207004 IngeniÃ¸r data': 'Alle', 'HIG 207005 IngeniÃ¸r elektro': 'Alle', 'HIG 207012 IngeniÃ¸r maskin': 'Alle', 'HIG 207046 Medieteknologi': 'Alle', 'HIG 207050 Sykepleierutdanning': '30.7', 'HIG 207051 Sykepleierutdanning deltid': 'Alle', 'HIG 207052 Sykepleierutdanning deltid Gudbrandsdal': 'Alle', 'HIG 207053 Sykepleierutdanning deltid Valdres': 'Alle', 'HIG 207054 Sykepleierutdanning deltid Hadeland': 'Alle', 'HIG 207098 Teknologidesign Ã¥rsstudium deltid': 'Alle', 'HIG 207099 LandmÃ¥ling Ã¥rsstudium fleksibel': 'Alle', 'HIG 207102 Geografiske informasjonssystemer (GIS) Ã¥rs fleks': 'Alle', 'HIG 207136 Mediemanagement Ã¥rsstudium': 'Alle', 'HIG 207149 Mediedesign': '42', 'HIG 207160 Ã˜konomi og ledelse Ã¥rsstudium': 'Alle', 'HIG 207188 Medie- og informasjonsteknologi Ã¥rsstudium': 'Alle', 'HIG 207248 LandmÃ¥ling Ã¥rsstudium': 'Alle', 'HIG 207264 Medieproduksjon': 'Alle', 'HIG 207369 Ã˜konomi og ledelse': 'Alle', 'HIG 207374 Drift av nettverk og datasystemer': 'Alle', 'HIG 207395 Programvareutvikling': 'Alle', 'HIG 207396 Geografiske informasjonssystemer (GIS) Ã¥rsstudium': 'Alle', 'HIG 207404 Ã˜konomi og ledelse fleksibel': 'Alle', 'HIG 207406 Geomatikk': 'Alle', 'HIG 207429 Informasjonssikkerhet': 'Alle', 'HIG 207602 Teknologidesign Ã¥rsstudium': 'Alle', 'HIG 207604 Medieproduksjon Ã¥rsstudium': 'Alle', 'HIG 207673 Spillprogrammering': 'Alle', 'HIG 207701 Radiografutdanning': 'Alle', 'HIG 207824 Teknologidesign og ledelse': 'Alle', 'HIG 207838 Mediemanagement': 'Alle', 'HIH 208035 Ã˜konomi og ledelse': 'Alle', 'HIH 208050 Sykepleierutdanning': '38.2', 'HIH 208051 Sykepleierutdanning deltid': 'Alle', 'HIH 208060 Vernepleierutdanning': 'Alle', 'HIH 208070 Barnevernspedagogutdanning': '35.2', 'HIH 208071 Barnevernspedagogutdanning deltid - TromsÃ¸': '40.7', 'HIH 208164 Ã˜konomi og ledelse Ã¥rsstudium': 'Alle', 'HIH 208318 Regnskap og revisjon': 'Alle', 'HIH 208350 Handel service og logistikk': 'Alle', 'HIM 211050 Sykepleierutdanning studiegruppe Molde': '30.3', 'HIM 211056 Sykepleierutdanning studiegruppe Kristiansund': 'Alle', 'HIM 211060 Vernepleierutdanning': '42.4', 'HIM 211164 BedriftsÃ¸konomi': 'Alle', 'HIM 211185 Idrett': '39.6', 'HIM 211189 Informasjonsbehandling': 'Alle', 'HIM 211238 Statsvitenskap': 'Alle', 'HIM 211246 Jus': '39.1', 'HIM 211292 Logistikk og Supply Chain Management': 'Alle', 'HIM 211318 Revisjon': 'Alle', 'HIM 211369 Ã˜konomi og administrasjon': 'Alle', 'HIM 211370 IT og logistikk': 'Alle', 'HIM 211404 SivilÃ¸konom 1. avdeling': '41', 'HIM 211432 Internasjonal logistikk Ã…lesund': 'Alle', 'HIM 211488 Sport Management idrettsledelse': '39.4', 'HIM 211627 Petroleumslogistikk deltid': 'Alle', 'HIM 211841 Jus og administrasjon': 'Alle', 'HIM 211866 Petroleumslogistikk Kristiansund': '44.9', 'HIN 212003 IngeniÃ¸r Bygg': 'Alle', 'HIN 212004 IngeniÃ¸r Datateknikk': 'Alle', 'HIN 212005 IngeniÃ¸r Industriell Elektronikk': 'Alle', 'HIN 212006 IngeniÃ¸r Elkraftteknikk': 'Alle', 'HIN 212018 IngeniÃ¸r Prosessteknologi': 'Alle', 'HIN 212027 IngeniÃ¸r Satelitteknologi': 'Alle', 'HIN 212034 IngeniÃ¸r Industriteknikk': 'Alle', 'HIN 212040 IngeniÃ¸r fÃ¸rste studieÃ¥r Alta': 'Alle', 'HIN 212050 Sykepleierutdanning': 'Alle', 'HIN 212075 IngeniÃ¸r Bygg nettbasert': 'Alle', 'HIN 212076 IngeniÃ¸r Industriteknikk nettbasert': 'Alle', 'HIN 212077 IngeniÃ¸r Prosessteknologi nettbasert': 'Alle', 'HIN 212078 IngeniÃ¸r Datateknikk nettbasert': 'Alle', 'HIN 212079 IngeniÃ¸r Elektro fÃ¸rste Ã¥r nettbasert': 'Alle', 'HIN 212410 Ã˜konomi og administrasjon': 'Alle', 'HIN 212761 Elektroteknikk': 'Alle', 'HIN 212804 Data/IT': 'Alle', 'HIN 212805 IngeniÃ¸rdesign': 'Alle', 'HIN 212806 Integrert bygningsteknologi': 'Alle', 'HIN 212811 Industriell teknologi': 'Alle', 'HIN 212814 Satelitteknologi': 'Alle', 'HIN 212872 Internasjonal beredskap': 'Alle', 'HINE 213130 FÃ¸rskolelÃ¦rer': 'Alle', 'HINE 213131 FÃ¸rskolelÃ¦rerutdanning deltid samlingsbasert': 'Alle', 'HINE 213170 Engelsk Ã¥rsstudium 5-10': 'Alle', 'HINE 213505 Kunst og hÃ¥ndverk 1-7': 'Alle', 'HINE 213547 GrunnskolelÃ¦rer  1-7': 'Alle', 'HINE 213602 Design og bruk av digitale medier Ã¥rsstudium Mo': 'Alle', 'HINE 213620 Informasjonsteknologi Ã¥rsstudium Mo i Rana': 'Alle', 'HINE 213623 Engelsk Ã¥rsstudium 1-7': 'Alle', 'HINE 213642 Kunst og hÃ¥ndverk 5-10': 'Alle', 'HINE 213651 GrunnskolelÃ¦rer 5-10': 'Alle', 'HINE 213655 GrunnskolelÃ¦rer 5-10 Narvik': 'Alle', 'HINE 213666 Naturfag samlingsbasert 5-10': 'Alle', 'HINE 213667 Kreativt musikkarbeid Ã¥rsstudium 5-10': 'Alle', 'HINE 213680 Samfunnsfag samlingsbasert 5-10': 'Alle', 'HINE 213777 Kreativt musikkarbeid Ã¥rsstudium 1-7': 'Alle', 'HINE 213796 Drama og teater Ã¥rsstudium': 'Alle', 'HINT 214050 Sykepleierutdanning Levanger': '40.9', 'HINT 214058 Sykepleierutdanning Namsos': 'Alle', 'HINT 214060 Vernepleierutdanning Namsos': 'Alle', 'HINT 214130 FÃ¸rskolelÃ¦rerutdanning Levanger': 'Alle', 'HINT 214185 Idrett Levanger': '41.8', 'HINT 214240 Sosiologi Steinkjer': 'Alle', 'HINT 214318 Revisjon Steinkjer': 'Alle', 'HINT 214321 Husdyrfag velferd og produksjon Steinkjer': 'Alle', 'HINT 214323 Utmarksforvaltning Steinkjer': 'Alle', 'HINT 214369 Ã˜konomi og administrasjon Steinkjer': 'Alle', 'HINT 214388 Naturforvaltning Steinkjer': 'Alle', 'HINT 214396 Geografi nettbasert Steinkjer': 'Alle', 'HINT 214419 Kommunal Ã¸konomi og ledelse Steinkjer': 'Alle', 'HINT 214421 Husdyrvelferd Steinkjer Ã¥rsstudium': 'Alle', 'HINT 214430 Multimedieteknologi Steinkjer': 'Alle', 'HINT 214440 KroppsÃ¸ving og idrettsfag faglÃ¦rerut. Levanger': '45', 'HINT 214468 GrÃ¸nn nÃ¦ringsutvikling Steinkjer': 'Alle', 'HINT 214516 Regnskap Steinkjer': 'Alle', 'HINT 214547 GrunnskolelÃ¦rerutdanning 1.-7. trinn Levanger': 'Alle', 'HINT 214605 Friluftsliv Levanger': 'Alle', 'HINT 214623 Engelsk Levanger': 'Alle', 'HINT 214639 FaglÃ¦rerutd i musikk - rytmisk profil Levanger': 'Alle', 'HINT 214642 Kunst og hÃ¥ndverk Levanger': 'Alle', 'HINT 214649 KroppsÃ¸ving Levanger': 'Alle', 'HINT 214651 GrunnskolelÃ¦rerutdanning 5.-10. trinn Levanger': 'Alle', 'HINT 214667 Musikk Levanger': 'Alle', 'HINT 214673 Spill- og opplevelsesteknologi Steinkjer': 'Alle', 'HINT 214680 Samfunnsfag Levanger': 'Alle', 'HINT 214696 TrafikklÃ¦rerutdanning StjÃ¸rdal': '42.1', 'HINT 214749 Farmasiutdanning Namsos': 'Alle', 'HSF 216005 IngeniÃ¸r elektro FÃ¸rde': 'Alle', 'HSF 216050 Sykepleierutdanning FÃ¸rde start hÃ¸st': 'Alle', 'HSF 216052 Sykepleierutdanning FÃ¸rde start vÃ¥r': 'Alle', 'HSF 216053 Sykepleierutdanning samlingsbasert deltid FÃ¸rde': 'Alle', 'HSF 216060 Vernepleierutdanning': 'Alle', 'HSF 216070 Barnevernspedagogutdanning': 'Alle', 'HSF 216080 Sosialt arbeid': '32.2', 'HSF 216130 FÃ¸rskolelÃ¦rerutdanning': 'Alle', 'HSF 216131 FÃ¸rskolelÃ¦rerutdanning samlingsbasert deltid': 'Alle', 'HSF 216164 BedriftsÃ¸konomi': 'Alle', 'HSF 216170 Engelsk': 'Alle', 'HSF 216185 Idrett': '38.2', 'HSF 216242 Samfunnsfag': 'Alle', 'HSF 216246 Jus': '34.6', 'HSF 216302 Friluftsliv': 'Alle', 'HSF 216310 Landskapsplanlegging med landskapsarkitektur': 'Alle', 'HSF 216330 Reiselivsledelse': 'Alle', 'HSF 216351 Ungdomssosiologi': 'Alle', 'HSF 216368 Eiendomsmegling': 'Alle', 'HSF 216369 Ã˜konomi og administrasjon': 'Alle', 'HSF 216373 Naturfag': 'Alle', 'HSF 216440 Idrett fysisk aktivitet og helse': '40.7', 'HSF 216469 Geologi og geofare': 'Alle', 'HSF 216481 Historie': 'Alle', 'HSF 216485 Idrett og kroppsÃ¸ving': '32.1', 'HSF 216547 GrunnskulelÃ¦rarutdanning 1.-7. trinn': 'Alle', 'HSF 216548 GrunnskulelÃ¦rarutdanning 1.-7. trinn saml/deltid': 'Alle', 'HSF 216651 GrunnskulelÃ¦rarutdanning 5.-10. trinn': 'Alle', 'HSF 216754 Reiseliv': 'Alle', 'HSF 216835 Fornybar energi': 'Alle', 'HSF 216927 Sosiologi - ungdomssosiologi': 'Alle', 'STAF 234196 Kristendom Ã¥rsstudium': 'Alle', 'STAF 234437 Musikk menighet og ledelse': 'Alle', 'STAF 234480 Teologi og ledelse': 'Alle', 'HSH 218002 IngeniÃ¸r brannsikkerhet Haugesund': 'Alle', 'HSH 218012 IngeniÃ¸r maskin Haugesund': 'Alle', 'HSH 218047 IngeniÃ¸r kvalitet HMS Haugesund': 'Alle', 'HSH 218050 Sykepleierutdanning Stord': '31.3', 'HSH 218056 Sykepleierutdanning Haugesund': '31.5', 'HSH 218130 FÃ¸rskolelÃ¦rerutd. ordinÃ¦r linje Stord': 'Alle', 'HSH 218134 FÃ¸rskolelÃ¦rerutd. natur og friluftslinje Stord': 'Alle', 'HSH 218157 FaglÃ¦rerutdanning i musikk Stord': 'Alle', 'HSH 218353 Maritim utdanning nautikk Haugesund': '37.3', 'HSH 218369 Ã˜konomi og administrasjon Haugesund': 'Alle', 'HSH 218505 Kunst og hÃ¥ndverk Stord': 'Alle', 'HSH 218547 GrunnskolelÃ¦rerutdanning 1.-7. trinn': 'Alle', 'HSH 218623 Engelsk Stord': 'Alle', 'HSH 218649 Idrett/KroppsÃ¸ving Stord': '34.4', 'HSH 218651 GrunnskolelÃ¦rerutdanning 5.-10. trinn': 'Alle', 'HSH 218680 Samfunnsfag Stord': 'Alle', 'HIT 220003 IngeniÃ¸r bygg': 'Alle', 'HIT 220006 IngeniÃ¸r elkraft': 'Alle', 'HIT 220012 IngeniÃ¸r maskin': 'Alle', 'HIT 220035 Ã˜konomi og administrasjon 2 Ã¥r BÃ¸': 'Alle', 'HIT 220050 Sykepleierutdanning': '32.2', 'HIT 220051 Sykepleierutdanning deltid 4 Ã¥r': 'Alle', 'HIT 220060 Vernepleierutdanning': '32.1', 'HIT 220061 Vernepleierutdanning deltid': 'Alle', 'HIT 220070 Barnevern i et flerkulturelt samfunn': '32.8', 'HIT 220090 IngeniÃ¸r informatikk og automatisering': 'Alle', 'HIT 220130 FÃ¸rskolelÃ¦rerutdanning Notodden': 'Alle', 'HIT 220131 FÃ¸rskolelÃ¦rer deltid - samlingsbasert  Notodden': 'Alle', 'HIT 220132 FÃ¸rskolelÃ¦rerutdanning Drammen': 'Alle', 'HIT 220133 FÃ¸rskolelÃ¦rerutdanning Porsgrunn': 'Alle', 'HIT 220140 FaglÃ¦rer i kroppsÃ¸ving og idrettsfag Notodden': 'Alle', 'HIT 220150 FaglÃ¦rer i formgiving kunst og hÃ¥ndv. Notodden': 'Alle', 'HIT 220164 BedriftsÃ¸konomi Ã¥rsstudium BÃ¸': 'Alle', 'HIT 220167 BedriftsÃ¸konomi Porsgrunn': '33.6', 'HIT 220170 Engelsk Ã¥rsstudium BÃ¸': 'Alle', 'HIT 220172 Friluftsliv kultur og naturveiledning Ã¥rsstud BÃ¸': 'Alle', 'HIT 220179 Historie Ã¥rsstudium BÃ¸': 'Alle', 'HIT 220185 Idrett Ã¥rsstudium BÃ¸': '34.3', 'HIT 220187 Informasjonsbehandling Ã¥rsstudium  BÃ¸': 'Alle', 'HIT 220188 Informasjonsbehandling Ã¥rsstudium Porsgrunn': 'Alle', 'HIT 220210 Norsk Ã¥rsstudium BÃ¸': 'Alle', 'HIT 220273 Kultur-arrangering formidling og forv. 2-Ã¥rig': 'Alle', 'HIT 220302 Friluftsliv kultur- og naturveiledning  BÃ¸': 'Alle', 'HIT 220308 Kultur-arrangering formidling og forvaltning BÃ¸': 'Alle', 'HIT 220317 Reiseliv BÃ¸': 'Alle', 'HIT 220318 Revisjon BÃ¸': 'Alle', 'HIT 220359 Internasjonal markedsfÃ¸ring BÃ¸': 'Alle', 'HIT 220368 Eiendomsmegling BÃ¸': '37.3', 'HIT 220369 Ã˜konomi og administrasjon BÃ¸': 'Alle', 'HIT 220388 Ã˜kologi og naturressurser BÃ¸': 'Alle', 'HIT 220395 Informatikk BÃ¸': 'Alle', 'HIT 220400 IdÃ©historie BÃ¸': 'Alle', 'HIT 220440 Idrettsvitenskap BÃ¸': 'Alle', 'HIT 220441 Visuelle kunstfag og design Notodden': 'Alle', 'HIT 220442 Folkekunst Rauland': 'Alle', 'HIT 220443 Folkemusikk Rauland': 'Alle', 'HIT 220447 Natur og friluftsliv  BÃ¸': 'Alle', 'HIT 220448 Forurensing og miljÃ¸ BÃ¸': 'Alle', 'HIT 220449 Informasjonssystemer BÃ¸': 'Alle', 'HIT 220463 Humanistiske fag BÃ¸': 'Alle', 'HIT 220505 Leire â€“ kunst og design 1 Notodden': 'Alle', 'HIT 220532 Form og design Notodden': 'Alle', 'HIT 220547 GrunnskolelÃ¦rer 1.-7. trinn Notodden': 'Alle', 'HIT 220548 GrunnskolelÃ¦rer 1.-7. trinn Porsgrunn': 'Alle', 'HIT 220550 GrunnskolelÃ¦rer 1.-7. trinn nettbasert': 'Alle', 'HIT 220551 GrunnskolelÃ¦rer 1.-7. trinn desentralisert': 'Alle', 'HIT 220602 Digital mediedesign Notodden': 'Alle', 'HIT 220605 Natur og friluftsliv Ã¥rsstudium BÃ¸': 'Alle', 'HIT 220613 Historie deltid nett- og samlingsbasert': 'Alle', 'HIT 220628 Folkekunst Ã¥rsstudium Rauland': 'Alle', 'HIT 220629 Folkemusikk Ã¥rsstudium Rauland': 'Alle', 'HIT 220630 Kunst og hÃ¥ndverk Ã¥rsstudium Notodden': 'Alle', 'HIT 220637 Tegning - bilde Ã¥rsstudium Notodden': 'Alle', 'HIT 220649 KroppsÃ¸ving og idrettsfag Ã¥rsstudium Notodden': 'Alle', 'HIT 220651 GrunnskolelÃ¦rer 5.-10. trinn Porsgrunn': 'Alle', 'HIT 220655 GrunnskolelÃ¦rer 5.-10. Notodden og desentralisert': 'Alle', 'HIT 220657 GrunnskolelÃ¦rer 5.-10. trinn nettbasert': 'Alle', 'HIT 220672 Norsk deltid nett og samlingsbasert BÃ¸': 'Alle', 'HIT 220688 IngeniÃ¸r gass- og energiteknologi': 'Alle', 'HIT 220895 Innovasjon og entreprenÃ¸rskap BÃ¸': 'Alle', 'HIT 220912 Spansk BÃ¸': 'Alle', 'HIVE 222004 IngeniÃ¸r datateknikk': 'Alle', 'HIVE 222005 IngeniÃ¸r elektronikk': 'Alle', 'HIVE 222012 IngeniÃ¸r produktdesign': 'Alle', 'HIVE 222017 IngeniÃ¸r elektro-automasjon': 'Alle', 'HIVE 222044 Skipsfart og logistikk': 'Alle', 'HIVE 222050 Sykepleierutdanning': '33.5', 'HIVE 222130 FÃ¸rskolelÃ¦rerutdanning': 'Alle', 'HIVE 222131 FÃ¸rskolelÃ¦rerutdanning deltid': 'Alle', 'HIVE 222164 BedriftsÃ¸konomi': '33.8', 'HIVE 222170 Engelsk': 'Alle', 'HIVE 222179 Historie Ã¥rsstudium': 'Alle', 'HIVE 222205 Matematikk': 'Alle', 'HIVE 222240 Sosiologi Ã¥rsstudium': '35.6', 'HIVE 222242 Samfunnsfag': 'Alle', 'HIVE 222318 Revisjon': 'Alle', 'HIVE 222351 Ungdomskunnskap': 'Alle', 'HIVE 222352 Maritim teknisk driftsledelse': 'Alle', 'HIVE 222353 Nautikk': 'Alle', 'HIVE 222369 Ã˜konomi og administrasjon': '36.7', 'HIVE 222412 Informasjonssystemer': 'Alle', 'HIVE 222418 Internasjonal forstÃ¥else og samarbeid': 'Alle', 'HIVE 222440 Idrett ernÃ¦ring og helse': '39.6', 'HIVE 222446 Mat og helse': 'Alle', 'HIVE 222453 Informasjonssystemer og IT-ledelse': 'Alle', 'HIVE 222481 Historie': 'Alle', 'HIVE 222547 GrunnskolelÃ¦rerutdanning 1.-7. trinn': 'Alle', 'HIVE 222548 GrunnskolelÃ¦rerutdanning 1.- 7. trinn trainee': 'Alle', 'HIVE 222620 IKT i lÃ¦ring': 'Alle', 'HIVE 222626 Religion livssyn og etikk': 'Alle', 'HIVE 222642 Kunst og hÃ¥ndverk': 'Alle', 'HIVE 222649 Idrett Ã¥rsstudium': '40.8', 'HIVE 222651 GrunnskolelÃ¦rerutdanning 5.-10. trinn': 'Alle', 'HIVE 222666 Naturfag': 'Alle', 'HIVE 222667 Musikk': 'Alle', 'HIVE 222672 Norsk': 'Alle', 'HIVE 222796 Teater for barn og unge': 'Alle', 'HIVE 222823 IngeniÃ¸r mikro- og nanoteknologi': 'Alle', 'HIVE 222880 Sosiologi': 'Alle', 'HIVE 222912 Spansk': 'Alle', 'HIÃ˜ 224003 IngeniÃ¸r bygg Fredrikstad': 'Alle', 'HIÃ˜ 224004 IngeniÃ¸r data Halden': 'Alle', 'HIÃ˜ 224005 IngeniÃ¸r elektro Fredrikstad': 'Alle', 'HIÃ˜ 224012 IngeniÃ¸r maskin Fredrikstad': 'Alle', 'HIÃ˜ 224035 Ã˜konomi og administrasjon Halden': 'Alle', 'HIÃ˜ 224050 Sykepleierutdanning Fredrikstad': '32.9', 'HIÃ˜ 224051 Sykepleierutdanning deltid Fredrikstad': 'Alle', 'HIÃ˜ 224060 Vernepleierutdanning Fredrikstad': '31.5', 'HIÃ˜ 224061 Vernepleierutdanning deltid Fredrikstad': 'Alle', 'HIÃ˜ 224070 Barnevern Fredrikstad': '37.9', 'HIÃ˜ 224080 Sosialt arbeid Fredrikstad': '39.3', 'HIÃ˜ 224130 FÃ¸rskolelÃ¦rerutdanning Halden': 'Alle', 'HIÃ˜ 224131 FÃ¸rskolelÃ¦rerutdanning deltid Halden': 'Alle', 'HIÃ˜ 224170 Engelsk Halden': 'Alle', 'HIÃ˜ 224210 Norsk Halden': 'Alle', 'HIÃ˜ 224238 Statsvitenskap Halden': 'Alle', 'HIÃ˜ 224244 Tysk Halden': 'Alle', 'HIÃ˜ 224270 Informatikk -design/utvikl. av IT-systemer Halden': 'Alle', 'HIÃ˜ 224318 Revisjon Halden': 'Alle', 'HIÃ˜ 224398 BedriftsÃ¸konomi Halden': 'Alle', 'HIÃ˜ 224453 Informasjonssystemer Halden': 'Alle', 'HIÃ˜ 224455 Internasjonal kommunikasjon Halden': 'Alle', 'HIÃ˜ 224474 Samfunn sprÃ¥k og kultur Halden': 'Alle', 'HIÃ˜ 224505 Kunst og hÃ¥ndverk Halden': 'Alle', 'HIÃ˜ 224547 GrunnskolelÃ¦rerutdanning 1.-7. trinn Halden': 'Alle', 'HIÃ˜ 224610 Fransk Halden': 'Alle', 'HIÃ˜ 224620 Informasjonsteknologi Halden': 'Alle', 'HIÃ˜ 224626 Religion livssyn og etikk Halden': 'Alle', 'HIÃ˜ 224649 KroppsÃ¸ving og idrett Halden': '33.5', 'HIÃ˜ 224651 GrunnskolelÃ¦rerutdanning 5.-10. trinn Halden': 'Alle', 'HIÃ˜ 224661 Matematikk Halden': 'Alle', 'HIÃ˜ 224666 Naturfag Halden': 'Alle', 'HIÃ˜ 224667 Musikk Halden': 'Alle', 'HIÃ˜ 224680 Samfunnsfag Halden': 'Alle', 'HIÃ˜ 224702 BioingeniÃ¸rutdanning Fredrikstad': 'Alle', 'HIÃ˜ 224824 IngeniÃ¸r industriell design Fredrikstad': 'Alle', 'HIÃ˜ 224845 Digital medieproduksjon Halden': 'Alle', 'HIÃ˜ 224895 Innovasjon og prosjektledelse Fredrikstad': '32.4', 'HIÃ˜ 224900 Arbeids- og velferdsfag Fredrikstad': 'Alle', 'HIÃ˜ 224912 Spansk Halden': 'Alle', 'HIÃ… 225003 IngeniÃ¸r bygg': 'Alle', 'HIÃ… 225004 IngeniÃ¸r data': 'Alle', 'HIÃ… 225017 IngeniÃ¸r automatiseringsteknikk': 'Alle', 'HIÃ… 225045 IngeniÃ¸r produkt-  og systemdesign': 'Alle', 'HIÃ… 225050 Sykepleierutdanning': '29.1', 'HIÃ… 225160 Shipping og Ã¸konomi': 'Alle', 'HIÃ… 225162 Ã˜konomi og ledelse': '36.5', 'HIÃ… 225184 Medisinsk og marint Ã¥rsstudium': 'Alle', 'HIÃ… 225299 Bachelor i Marine- og biologiske fag': 'Alle', 'HIÃ… 225353 Maritim utdanning nautikk': '43.2', 'HIÃ… 225369 Ã˜konomi og administrasjon': '39.1', 'HIÃ… 225410 Handels- og Serviceledelse': '34.1', 'HIÃ… 225432 Shipping og logistikk': '35.8', 'HIÃ… 225473 EksportmarkedsfÃ¸ring': '35.5', 'HIÃ… 225699 IngeniÃ¸r skipsdesign': 'Alle', 'HIÃ… 225702 BioingeniÃ¸r': 'Alle', 'HIÃ… 225895 Innovasjonsledelse og entreprenÃ¸rskap': '37.4', 'HD 232050 Sykepleierutdanning': '42.7', 'LDH 230050 Sykepleierutdanning': '43', 'MHS 256196 Kristendomskunnskap/RLE': 'Alle', 'MHS 256418 Interkult. kommunikasjon og globalt samarb.': 'Alle', 'MHS 256480 Teologi': 'Alle', 'MHS 256482 Religion og interkulturell kommunikasjon': 'Alle', 'MHS 256680 Samfunnsfag': 'Alle', 'MHS 256771 Teologi profesjonsstudium': 'Alle', 'NHH 191345 SivilÃ¸konomutdanningen': '55.2', 'NTNU 194104 Afrikastudier Ã¥rsstudium': '33.8', 'NTNU 194109 YrkesfaglÃ¦rerutd. bygg- og anleggsteknikk': 'Alle', 'NTNU 194123 YrkesfaglÃ¦rerutdanning helse- og sosialfag': 'Alle', 'NTNU 194129 YrkesfaglÃ¦rerutdanning teknikk og industriell prod': 'Alle', 'NTNU 194170 Engelsk Ã¥rsstudium': '42.9', 'NTNU 194171 RÃ¥dgiving og voksnes lÃ¦ring': 'Alle', 'NTNU 194174 Fransk Ã¥rsstudium': 'Alle', 'NTNU 194179 Historie Ã¥rsstudium': '40', 'NTNU 194184 Biologi og kjemi Ã¥rsstudium': '51.1', 'NTNU 194188 Informatikk Ã¥rsstudium': 'Alle', 'NTNU 194200 Kunsthistorie': 'Alle', 'NTNU 194205 Matematikk og statistikk Ã¥rsstudium': '47.6', 'NTNU 194210 Nordisk Ã¥rsstudium': 'Alle', 'NTNU 194220 Pedagogikk Ã¥rsstudium': '39.2', 'NTNU 194238 Statsvitenskap Ã¥rsstudium': '46.1', 'NTNU 194239 SamfunnsÃ¸konomi Ã¥rsstudium': '45', 'NTNU 194240 Sosiologi Ã¥rsstudium': '44.1', 'NTNU 194242 Studier av kunnskap teknologi og samfunn (STS)': '41.8', 'NTNU 194244 Tysk Ã¥rsstudium': 'Alle', 'NTNU 194272 Kunsthistorie Ã¥rsstudium': 'Alle', 'NTNU 194284 Geografi Ã¥rsstudium': '39.9', 'NTNU 194285 Samfunnskunnskap Ã¥rsstudium': '42.2', 'NTNU 194294 Latin': 'Alle', 'NTNU 194324 Emnestudier samfunnsvitenskap': '41.1', 'NTNU 194327 Biologi': '49.4', 'NTNU 194366 Filosofi Ã¥rsstudium': '41.9', 'NTNU 194367 Sosialantropologi Ã¥rsstudium': '43', 'NTNU 194395 Informatikk': '44.3', 'NTNU 194437 Musikkvitenskap': 'Alle', 'NTNU 194438 Geografi': '30', 'NTNU 194439 Drama og teater': '41.2', 'NTNU 194440 Bevegelsesvitenskap': '44.7', 'NTNU 194456 Allmenn litteraturvitenskap': 'Alle', 'NTNU 194457 Lingvistikk': 'Alle', 'NTNU 194459 Antikkens kultur': 'Alle', 'NTNU 194476 Musikkteknologi': '45.6', 'NTNU 194478 Arkeologi': '39.1', 'NTNU 194479 Filosofi': '34.8', 'NTNU 194481 Historie': '33.5', 'NTNU 194486 Samfunns- og idrettsvitenskap': '42.4', 'NTNU 194615 Allmenn litteraturvitenskap Ã¥rsstudium': 'Alle', 'NTNU 194626 Kristendomsk. med religions- og livssynsk.': 'Alle', 'NTNU 194646 Film- og videoproduksjon': '46.6', 'NTNU 194649 KroppsÃ¸ving og idrett Ã¥rsstudium': '51.8', 'NTNU 194684 Lektorutdanning i historie': '49.5', 'NTNU 194685 Lektorutdanning sprÃ¥kfag/engelsk': '44.3', 'NTNU 194686 Lektorutdanning sprÃ¥kfag/fransk': 'Alle', 'NTNU 194687 Lektorutdanning sprÃ¥kfag/nordisk': '45.8', 'NTNU 194689 Lektorutdanning sprÃ¥kfag/tysk': 'Alle', 'NTNU 194715 Emnestudier humaniora Ã¥rsstudium': 'Alle', 'NTNU 194740 Medisin': '58.4', 'NTNU 194752 Psykologi Ã¥rsstudium': '48', 'NTNU 194755 Materialteknologi': '51.9', 'NTNU 194756 Arkitekt': '52.7', 'NTNU 194757 Petroleumsfag': '51.9', 'NTNU 194759 Bygg- og miljÃ¸teknikk': '51.9', 'NTNU 194760 Datateknikk': '50.9', 'NTNU 194761 Elektronikk': '47.8', 'NTNU 194763 Fysikk og matematikk': '56.5', 'NTNU 194764 Industriell kjemi og bioteknologi': '52.6', 'NTNU 194765 Marin teknikk': '53.1', 'NTNU 194766 Produktutvikling og produksjon': '52.8', 'NTNU 194767 Industriell Ã¸konomi og teknologiledelse': '58.9', 'NTNU 194768 Industriell design': '54.4', 'NTNU 194769 Energi og miljÃ¸': '54.6', 'NTNU 194770 Kommunikasjonsteknologi': '49.6', 'NTNU 194786 Europastudier med fremmedsprÃ¥k spansk': 'Alle', 'NTNU 194793 Europastudier med fremmedsprÃ¥k fransk': 'Alle', 'NTNU 194795 Europastudier med fremmedsprÃ¥k tysk': 'Alle', 'NTNU 194798 Teknisk kybernetikk': '51.5', 'NTNU 194818 SamfunnsÃ¸konomi master': '46.6', 'NTNU 194843 Lektorutdanning i realfag': '48.6', 'NTNU 194847 Filmvitenskap': 'Alle', 'NTNU 194851 Medievitenskap': '38.5', 'NTNU 194852 Pedagogikk': '35', 'NTNU 194855 Bioteknologi master': '52.6', 'NTNU 194857 Fysikk': '52.7', 'NTNU 194859 Geologi': '47.2', 'NTNU 194860 Kjemi': '49.2', 'NTNU 194862 Matematiske fag': '49.8', 'NTNU 194868 Afrikastudier': 'Alle', 'NTNU 194870 Europastudier med fremmedsprÃ¥k engelsk': '42.4', 'NTNU 194875 Politisk Ã¸konomi': '44.4', 'NTNU 194876 Psykologi': '46.7', 'NTNU 194879 Sosialantropologi': '37.5', 'NTNU 194880 Sosiologi': '39.3', 'NTNU 194881 Statsvitenskap': '44.6', 'NTNU 194887 Engelsk': '35.6', 'NTNU 194888 Fransk': 'Alle', 'NTNU 194889 Nordisk': 'Alle', 'NTNU 194890 Tysk': 'Alle', 'NTNU 194898 SamfunnsÃ¸konomi': '43.9', 'NTNU 194901 SprÃ¥klig kommunikasjon': 'Alle', 'NTNU 194904 Kulturminneforvaltning': 'Alle', 'NTNU 194905 IngeniÃ¸rvitenskap og IKT': '52', 'NTNU 194910 Religionsvitenskap Ã¥rsstudium': 'Alle', 'NTNU 194912 Spansk Ã¥rsstudium': '36.9', 'NTNU 194929 Religionsvitenskap': 'Alle', 'NTNU 194930 Fonetikk': 'Alle', 'NTNU 194932 Klassisk sprÃ¥k og litteratur': 'Alle', 'NTNU 194934 Lektorutdanning i geografi': '46.3', 'NTNU 194937 Nanoteknologi': '61.9', 'NTNU 194941 Psykologi profesjonsstudiet': '55.2', 'NTNU 194945 Lektorutdanning i samfunnsfag': '48.4', 'NTNU 194946 Tekniske geofag': '51.5', 'NLA 254130 FÃ¸rskolelÃ¦rerutdanning': 'Alle', 'NLA 254182 Menighetspedagogikk': 'Alle', 'NLA 254196 KRLE Ã¥rsstudium': 'Alle', 'NLA 254220 Pedagogikk Ã¥rsstudium': '34.6', 'NLA 254418 Interkulturell forstÃ¥else vekt pÃ¥ SÃ¸r-Amerika': '36.3', 'NLA 254480 Teologi': 'Alle', 'NLA 254482 Kristendomskunnskap': 'Alle', 'NLA 254485 Kristendom og idrett': 'Alle', 'NLA 254547 GrunnskolelÃ¦rerutdanning 1.-7. trinn': 'Alle', 'NLA 254651 GrunnskolelÃ¦rerutdanning 5.-10. trinn': 'Alle', 'NLA 254717 Interkulturell forstÃ¥else vekt pÃ¥ Norge': 'Alle', 'NLA 254791 Interkulturell forstÃ¥else vekt pÃ¥ Ã˜st-Asia': 'Alle', 'NLA 254852 Pedagogikk': '43.3', 'NLA 254902 Interkulturell forstÃ¥else vekt pÃ¥ Ã˜st-Afrika': 'Alle', 'NLA 254929 Religion og kultur': 'Alle', 'SA/SH 231064 Samisk sprÃ¥k og litteratur': 'Alle', 'SA/SH 231065 Duodji (samisk hÃ¥ndverk)': 'Alle', 'SA/SH 231066 Reindriftsstudier': 'Alle', 'SA/SH 231135 Samisk fÃ¸rskolelÃ¦rerutdanning': 'Alle', 'SA/SH 231557 Samisk grunnskolelÃ¦rer 1-7': 'Alle', 'SA/SH 231651 Samisk grunnskolelÃ¦rerutdanning 5.-10. trinn': 'Alle', 'UIA 201003 IngeniÃ¸r byggdesign Grimstad': 'Alle', 'UIA 201004 IngeniÃ¸r data Grimstad': 'Alle', 'UIA 201006 IngeniÃ¸r fornybar energi Grimstad': 'Alle', 'UIA 201007 IngeniÃ¸r flyteknikk Grimstad': 'Alle', 'UIA 201012 IngeniÃ¸r maskin Grimstad': 'Alle', 'UIA 201050 Sykepleierutdanning Kr.sand': '40.1', 'UIA 201052 Sykepleierutdanning Grimstad': '37.5', 'UIA 201060 Vernepleierutdanning Grimstad': '37.1', 'UIA 201080 Sosionomutdanning': '41.8', 'UIA 201083 GrunnskolelÃ¦rerutdanning 5.-10. trinn master': 'Alle', 'UIA 201084 GrunnskolelÃ¦rerutdanning 1.-7. trinn master': 'Alle', 'UIA 201130 FÃ¸rskolelÃ¦rerutd. Kr.sand.': 'Alle', 'UIA 201132 FÃ¸rskolelÃ¦rerutd. Grimstad': 'Alle', 'UIA 201149 Multimedieteknologi og -design Grimstad': 'Alle', 'UIA 201157 FaglÃ¦rerutdanning i drama': 'Alle', 'UIA 201170 Engelsk Ã¥rsstudium': 'Alle', 'UIA 201172 Friluftsliv og naturguiding Ã¥rsstudium': 'Alle', 'UIA 201174 Fransk Ã¥rsstudium': 'Alle', 'UIA 201179 Historie Ã¥rsstudium': 'Alle', 'UIA 201184 Biologi Ã¥rsstudium': 'Alle', 'UIA 201189 IT og informasjonssystemer Ã¥rsstudium': 'Alle', 'UIA 201200 Kunstfag med fordypning i kunst og hÃ¥ndverk': 'Alle', 'UIA 201203 Folkehelsearbeid': '40.5', 'UIA 201205 Matematikk Ã¥rsstudium': 'Alle', 'UIA 201210 Nordisk sprÃ¥k og litteratur Ã¥rsstudium': 'Alle', 'UIA 201238 Statsvitenskap Ã¥rsstudium': '36.9', 'UIA 201242 Samfunnsfag Ã¥rsstudium': '35', 'UIA 201247 Utviklingsstudiet Ã¥rsstudium': '41.8', 'UIA 201260 IT og informasjonssystemer': '33', 'UIA 201301 Matematisk finans': 'Alle', 'UIA 201303 Oversetting og interkulturell kom. engelsk': 'Alle', 'UIA 201317 Opplevelsesbasert reiseliv': '36.6', 'UIA 201318 Revisjon': '39.7', 'UIA 201327 Biologi': 'Alle', 'UIA 201336 Skolebibliotekkunnskap deltid': 'Alle', 'UIA 201345 Ã˜konomi og administrasjon - sivilÃ¸konom': '45.8', 'UIA 201366 Filosofi Ã¥rsstudium': 'Alle', 'UIA 201369 Ã˜konomi og administrasjon Kr.sand': '42.7', 'UIA 201404 Ã˜konomi og administrasjon Grimstad': '40.1', 'UIA 201437 Kunstfag med fordypning i musikk': 'Alle', 'UIA 201440 Idrett': '42.9', 'UIA 201456 Litteratur film og teater': 'Alle', 'UIA 201474 Samfunnsendring og kommunikasjon': 'Alle', 'UIA 201481 Historie': 'Alle', 'UIA 201482 Religion etikk og kultur': 'Alle', 'UIA 201484 Utviklingsstudier': '39.3', 'UIA 201547 GrunnskolelÃ¦rerutdanning 1.-7. trinn Kristiansand': 'Alle', 'UIA 201548 GrunnskolelÃ¦rerutdanning 1.-7. trinn Grimstad': 'Alle', 'UIA 201618 Drama Ã¥rsstudium': 'Alle', 'UIA 201642 Kunst og hÃ¥ndverk Ã¥rsstudium': 'Alle', 'UIA 201646 ErnÃ¦ring mat og kultur Ã¥rsstudium': '40.5', 'UIA 201649 Idrett Ã¥rsstudium': '43.5', 'UIA 201651 GrunnskolelÃ¦rerutdanning 5.-10. trinn Kr. sand': '38.7', 'UIA 201652 Religion og etikk Ã¥rsstudium': 'Alle', 'UIA 201661 Fysikk Ã¥rsstudium': 'Alle', 'UIA 201663 Mediefag Ã¥rsstudium': '36.9', 'UIA 201667 Musikk Ã¥rsstudium': '42.9', 'UIA 201676 Pedagogikk Ã¥rsstudium': '37.3', 'UIA 201690 Tysk Ã¥rsstudium': 'Alle', 'UIA 201702 BioingeniÃ¸r': '41.5', 'UIA 201767 Industriell Ã¸konomi og tekn.ledelse Grimstad': '48.1', 'UIA 201794 Kommunikasjon Ã¥rsstudium': 'Alle', 'UIA 201803 IngeniÃ¸r elektronikk Grimstad': 'Alle', 'UIA 201807 Informasjons- og kom.teknologi Grimstad': 'Alle', 'UIA 201828 Lektorutdanning i realfag': 'Alle', 'UIA 201850 Kommunikasjon': '40', 'UIA 201852 Pedagogikk': '31.3', 'UIA 201862 Matematikk og fysikk': 'Alle', 'UIA 201864 ErnÃ¦ring mat og kultur': '46.8', 'UIA 201881 Statsvitenskap': '40', 'UIA 201887 Engelsk': 'Alle', 'UIA 201889 Nordisk sprÃ¥k og litteratur': 'Alle', 'UIA 201900 Arbeids- og velferdssosiologi': 'Alle', 'UIA 201912 Spansk Ã¥rsstudium': 'Alle', 'UIA 201922 Litteratur film og teater Ã¥rsstudium': 'Alle', 'UMB 192199 Grunnstudium': '53.3', 'UMB 192230 Eiendomsfag': '44.8', 'UMB 192233 Frie realfag': 'Alle', 'UMB 192299 Bioteknologi': '47.7', 'UMB 192310 LandskapsingeniÃ¸r': '48', 'UMB 192321 Husdyrvitenskap': 'Alle', 'UMB 192322 Skogfag': 'Alle', 'UMB 192327 Biologi': '44.1', 'UMB 192332 Kjemi': 'Alle', 'UMB 192369 Ã˜konomi og administrasjon': '47.2', 'UMB 192377 MiljÃ¸ og naturressurser': 'Alle', 'UMB 192388 Ã˜kologi og naturforvaltning': 'Alle', 'UMB 192406 Geomatikk: kart satellitter og 3D-modellering': 'Alle', 'UMB 192468 SamfunnsÃ¸konomi': '46.2', 'UMB 192484 Internasjonale miljÃ¸- og utviklingsstudier': '48.4', 'UMB 192544 Hestefag': 'Alle', 'UMB 192732 Landskapsarkitektur': '54.7', 'UMB 192759 Byggeteknikk og arkitektur': '49.8', 'UMB 192766 Maskin- prosess- og produktutvikling': '43.2', 'UMB 192767 Industriell Ã¸konomi': '52.3', 'UMB 192783 Kjemi og bioteknologi': 'Alle', 'UMB 192784 MiljÃ¸fysikk og fornybar energi': '49.2', 'UMB 192809 Vann- og miljÃ¸teknikk': 'Alle', 'UMB 192813 Geomatikk: kart satellitter og 3D-mod. master': 'Alle', 'UMB 192835 Fornybar energi': '51.5', 'UMB 192842 Plantevitenskap': 'Alle', 'UMB 192843 Lektorutdanning i realfag': 'Alle', 'UMB 192857 Energi- og miljÃ¸fysikk': '42.9', 'UMB 192864 Matvitenskap': 'Alle', 'UMB 192949 By- og regionplanlegging': '47.7', 'UIO 185170 Engelsk Ã¥rsstudium': '58.7', 'UIO 185174 Fransk Ã¥rsstudium': '55.9', 'UIO 185179 Historie Ã¥rsstudium': '57.1', 'UIO 185211 Nordisk sÃ¦rlig norsk sprÃ¥k og litteratur Ã¥rs': '57.8', 'UIO 185212 Norsk som andresprÃ¥k Ã¥rsstudium': '51.2', 'UIO 185221 TegnsprÃ¥k Ã¥rsstudium': 'Alle', 'UIO 185222 Tverrfaglige kjÃ¸nnsstudier Ã¥rsstudium': '53.8', 'UIO 185233 Realfag Ã¥rsstudium': 'Alle', 'UIO 185272 Kunsthistorie Ã¥rsstudium': '56.7', 'UIO 185306 Matematikk informatikk og teknologi': 'Alle', 'UIO 185308 Kultur og kommunikasjon': '53', 'UIO 185327 Biologi': '44.4', 'UIO 185437 Musikkvitenskap': 'Alle', 'UIO 185438 Samfunnsgeografi': '52.5', 'UIO 185439 Estetiske studier': '50.6', 'UIO 185452 Offentlig administrasjon og ledelse': '54.2', 'UIO 185455 Portugisisk': '42.4', 'UIO 185459 Antikk kultur og klassiske sprÃ¥k': '46.8', 'UIO 185461 MidtÃ¸stenstudier med tyrkisk': 'Alle', 'UIO 185462 Kunsthistorie': '49', 'UIO 185464 Informatikk: tekniske og naturvitenskaplige anv.': 'Alle', 'UIO 185465 Helseledelse og helseÃ¸konomi': '53.5', 'UIO 185466 TegnsprÃ¥k og tolking': 'Alle', 'UIO 185478 Arkeologi': '48.5', 'UIO 185479 Filosofi og idÃ©historie': '48.4', 'UIO 185480 Teologi og kristendom': 'Alle', 'UIO 185481 Historie': '48.3', 'UIO 185482 Religion og samfunn': '45', 'UIO 185483 Russisk': '38', 'UIO 185565 Italiensk': '41.3', 'UIO 185582 Japansk med Japan-studier': '49.7', 'UIO 185592 Kinesisk med Kina-studier': '52.4', 'UIO 185601 Arkivkunnskap Ã¥rsstudium': '53.9', 'UIO 185604 Medievitenskap Ã¥rsstudium': '56.3', 'UIO 185615 Allmenn litteraturvitenskap Ã¥rsstudium': '56.7', 'UIO 185626 Kristendom Ã¥rsstudium': '47.8', 'UIO 185690 Tysk Ã¥rsstudium': '51.8', 'UIO 185698 SamfunnsÃ¸konomisk analyse 5-Ã¥rig': '55', 'UIO 185707 Farmasi': '50.4', 'UIO 185708 Master i klinisk ernÃ¦ring start hÃ¸st': 'Alle', 'UIO 185713 Master i klinisk ernÃ¦ring start vÃ¥r': '63', 'UIO 185724 Rettsvitenskap (jus) start hÃ¸st': '58.1', 'UIO 185725 Rettsvitenskap (jus) start vÃ¥r': '55.7', 'UIO 185740 Medisin start hÃ¸st': '68', 'UIO 185742 Odontologi start hÃ¸st': '63.9', 'UIO 185745 Medisin start vÃ¥r': '66.1', 'UIO 185748 Odontologi start vÃ¥r': 'Alle', 'UIO 185752 Psykologi Ã¥rsstudium': '57', 'UIO 185771 Teologi profesjonsstudium': 'Alle', 'UIO 185786 Nederlandsk': 'Alle', 'UIO 185793 Fransk': '40.4', 'UIO 185795 Tysk': 'Alle', 'UIO 185817 Lektorprogrammet nordisk': 'Alle', 'UIO 185829 Informatikk: programmering og nettverk': 'Alle', 'UIO 185830 Informatikk: design bruk og interaksjon': '46', 'UIO 185832 Informatikk: nanoelektronikk og robotikk': '38.8', 'UIO 185837 Informatikk: sprÃ¥k og kommunikasjon': '45.5', 'UIO 185841 Demokrati og rettigheter i informasjonssamfunnet': '50', 'UIO 185843 Lektorprogrammet realfag': 'Alle', 'UIO 185844 Lektorprogrammet kultur og samfunnsfag': '49.3', 'UIO 185851 Medievitenskap': '50.2', 'UIO 185852 Pedagogikk': '46.5', 'UIO 185853 Spesialpedagogikk': '46.4', 'UIO 185856 Elektronikk og datateknologi': 'Alle', 'UIO 185857 Fysikk astronomi og meteorologi': '40.9', 'UIO 185858 Geofag: geologi geofysikk og geografi': '43.8', 'UIO 185860 Kjemi': 'Alle', 'UIO 185862 Matematikk og Ã¸konomi': '51.8', 'UIO 185863 Materialer energi og nanoteknologi': 'Alle', 'UIO 185865 MolekylÃ¦rbiologi og biologisk kjemi': '41.7', 'UIO 185868 India omrÃ¥destudier': '48', 'UIO 185870 Europastudier (EU)': '51.8', 'UIO 185872 Internasjonale studier': '58.1', 'UIO 185873 Tverrfaglige kjÃ¸nnsstudier': '47.6', 'UIO 185874 Kriminologi': '53.3', 'UIO 185876 Psykologi': '55.9', 'UIO 185879 Sosialantropologi': '50.2', 'UIO 185880 Sosiologi': '50.4', 'UIO 185881 Statsvitenskap': '54.2', 'UIO 185883 Utviklingsstudier': '51.7', 'UIO 185889 Nordiske studier': '46.9', 'UIO 185893 Lingvistikk': '55.7', 'UIO 185898 SamfunnsÃ¸konomi': '55.5', 'UIO 185899 Tannpleie': '54.2', 'UIO 185904 Kulturarv og bevaringskunnskap': '49.8', 'UIO 185912 Spansk Ã¥rsstudium': '60.2', 'UIO 185918 Latin-Amerika-studier': '45.5', 'UIO 185919 Nord-Amerika-studier': '44.8', 'UIO 185920 Engelsk': '51.6', 'UIO 185922 Allmenn litteraturvitenskap': '50.9', 'UIO 185923 MidtÃ¸sten-studier med arabisk': '52', 'UIO 185924 Spansk': '52.8', 'UIO 185929 Religionshistorie og kulturhistorie': '42', 'UIO 185935 Lektorprogrammet fremmedsprÃ¥k': 'Alle', 'UIO 185941 Psykologi profesjon start hÃ¸st': '64.9', 'UIO 185942 Psykologi profesjon start vÃ¥r': '63', 'UIS 217003 Bygg': '40.7', 'UIS 217004 Data': 'Alle', 'UIS 217005 Elektro': 'Alle', 'UIS 217009 Kjemi og miljÃ¸': 'Alle', 'UIS 217012 Maskin': 'Alle', 'UIS 217015 Petroleumsteknologi': '44', 'UIS 217046 Fjernsyns- og multimedieproduksjon': '45.8', 'UIS 217050 Sykepleierutdanning': '36.3', 'UIS 217070 Barnevern': '37.1', 'UIS 217080 Sosialt arbeid': '39.8', 'UIS 217130 FÃ¸rskolelÃ¦rerutdanning': 'Alle', 'UIS 217170 Engelsk Ã¥rsstudium': '32.3', 'UIS 217179 Historie Ã¥rsstudium': 'Alle', 'UIS 217196 Religionsstudier': 'Alle', 'UIS 217200 Kunst- og kulturstudier': 'Alle', 'UIS 217205 Matematikk Ã¥rsstudium': 'Alle', 'UIS 217211 Nordisk Ã¥rsstudium': 'Alle', 'UIS 217240 Sosiologi Ã¥rsstudium': '35.9', 'UIS 217255 Hotelledelse': 'Alle', 'UIS 217317 Reiselivsledelse': 'Alle', 'UIS 217318 Regnskap og revisjon': '39.2', 'UIS 217345 Ã˜konomi og administrasjon - sivilÃ¸konom master': '46.7', 'UIS 217369 Ã˜konomi og administrasjon': '43.9', 'UIS 217440 KroppsÃ¸ving/idrett': '38.9', 'UIS 217454 Journalistikk': '48.4', 'UIS 217481 Historie': 'Alle', 'UIS 217505 Kunst og hÃ¥ndtverk': '43', 'UIS 217547 GrunnskolelÃ¦rerutdanning 1.-7. trinn': 'Alle', 'UIS 217618 Drama': 'Alle', 'UIS 217649 KroppsÃ¸ving/idrett Ã¥rsstudium': '42.2', 'UIS 217651 GrunnskolelÃ¦rerutdanning 5.-10. trinn': 'Alle', 'UIS 217755 Konstruksjoner og materialer': '38.7', 'UIS 217800 Industriell Ã¸konomi': '49.9', 'UIS 217801 Petroleumsteknologi master': '46.8', 'UIS 217802 Offshoreteknologi': '45.7', 'UIS 217803 Informasjonsteknologi': '41.5', 'UIS 217844 Adjunkt- og lektorprogram i humanistiske fag': 'Alle', 'UIS 217857 Matematikk og fysikk': 'Alle', 'UIS 217860 Biologisk kjemi': 'Alle', 'UIS 217880 Sosiologi': '32.9', 'UIS 217881 Statsvitenskap': '41.7', 'UIS 217887 Engelsk sprÃ¥k og litteratur': 'Alle', 'UIS 217889 Nordisk sprÃ¥k og litteratur': 'Alle', 'UIS 217938 Byutvikling og urban design': 'Alle', 'UIS 217947 Petroleumsgeologi': '41.4', 'UIT 186002 IngeniÃ¸r Sikkerhet og miljÃ¸': 'Alle', 'UIT 186017 IngeniÃ¸r Automatiseringsteknikk': 'Alle', 'UIT 186018 IngeniÃ¸r Prosess/gassteknologi': 'Alle', 'UIT 186049 IngeniÃ¸r Nautikk': 'Alle', 'UIT 186050 Sykepleierutdanning': '43.8', 'UIT 186083 LÃ¦rerutdanning 5.-10. trinn integrert master': 'Alle', 'UIT 186084 LÃ¦rerutdanning 1.-7. trinn integrert master': 'Alle', 'UIT 186130 FÃ¸rskolelÃ¦rerutdanning': 'Alle', 'UIT 186132 FÃ¸rskolelÃ¦rerutdanning samlingsbasert': 'Alle', 'UIT 186137 Allmenn litteraturvitenskap oppstart vÃ¥r': 'Alle', 'UIT 186164 BedriftsÃ¸konomi': '38.6', 'UIT 186170 Engelsk oppstart hÃ¸st': 'Alle', 'UIT 186174 Fransk oppstart vÃ¥r': 'Alle', 'UIT 186179 Historie oppstart hÃ¸st': 'Alle', 'UIT 186205 Matematikk': 'Alle', 'UIT 186211 Nordisk oppstart hÃ¸st': 'Alle', 'UIT 186222 KjÃ¸nnsstudier': 'Alle', 'UIT 186235 Nordsamisk som morsmÃ¥l oppstart vÃ¥r': 'Alle', 'UIT 186299 Bioteknologi': 'Alle', 'UIT 186306 Datasikkerhet': 'Alle', 'UIT 186327 Biologi klima og miljÃ¸': 'Alle', 'UIT 186331 Fiskeri- og havbruksvitenskap': 'Alle', 'UIT 186369 Ã˜konomi og administrasjon': '38.6', 'UIT 186395 Informatikk': 'Alle', 'UIT 186427 Biomedisin': 'Alle', 'UIT 186474 Samfunnsplanlegging og kulturforstÃ¥else': 'Alle', 'UIT 186475 Kunstvitenskap': 'Alle', 'UIT 186478 Arkeologi': 'Alle', 'UIT 186479 Filosofi': 'Alle', 'UIT 186481 Historie': 'Alle', 'UIT 186482 Religionsvitenskap': 'Alle', 'UIT 186483 Russlandsstudier': 'Alle', 'UIT 186609 Antikkens kultur oppstart hÃ¸st': 'Alle', 'UIT 186613 Historie oppstart vÃ¥r': 'Alle', 'UIT 186615 Allmenn litteraturvitenskap oppstart hÃ¸st': 'Alle', 'UIT 186616 Allmenn sprÃ¥kvitenskap oppstart hÃ¸st': 'Alle', 'UIT 186623 Engelsk oppstart vÃ¥r': 'Alle', 'UIT 186626 Religionsvitenskap oppstart vÃ¥r': 'Alle', 'UIT 186644 Luftfartsfag': 'Alle', 'UIT 186677 Allmenn sprÃ¥kvitenskap oppstart vÃ¥r': 'Alle', 'UIT 186692 Drama og teater': 'Alle', 'UIT 186700 Ergoterapeututdanning': '41.4', 'UIT 186701 Radiografutdanning': '40', 'UIT 186702 BioingeniÃ¸rutdanning': 'Alle', 'UIT 186703 Fysioterapeututdanning': '53.6', 'UIT 186707 Farmasi': 'Alle', 'UIT 186709 Fiskehelse': 'Alle', 'UIT 186712 Russisk oppstart vÃ¥r': 'Alle', 'UIT 186724 Rettsvitenskap': '47.3', 'UIT 186739 Medisinske fag': 'Alle', 'UIT 186740 Medisin': '61.2', 'UIT 186742 Odontologi': '58.8', 'UIT 186743 Tannpleierutdanning': '49.9', 'UIT 186752 Psykologi Ã¥rsstudium': '42.6', 'UIT 186769 Energi og miljÃ¸ i nord': 'Alle', 'UIT 186770 Dataanalyse og sensorteknologi': 'Alle', 'UIT 186785 Informatikk master': 'Alle', 'UIT 186789 Antikkens kultur oppstart vÃ¥r': 'Alle', 'UIT 186813 Industriell matematikk': 'Alle', 'UIT 186814 Romfysikk': 'Alle', 'UIT 186843 Lektorutdanning i realfag': 'Alle', 'UIT 186844 Lektorutdanning i sprÃ¥k og samfunnsfag': 'Alle', 'UIT 186846 Dokumentasjonsvitenskap': 'Alle', 'UIT 186852 Pedagogikk': 'Alle', 'UIT 186857 Fysikk': 'Alle', 'UIT 186859 Geologi': 'Alle', 'UIT 186860 Kjemi': 'Alle', 'UIT 186862 Matematikk og statistikk': 'Alle', 'UIT 186867 Ledelse innovasjon og marked': '38.7', 'UIT 186876 Psykologi': '41.6', 'UIT 186877 Samfunnssikkerhet og miljÃ¸': 'Alle', 'UIT 186878 Politikk Ã¸konomi og filosofi': 'Alle', 'UIT 186879 Sosialantropologi': 'Alle', 'UIT 186880 Sosiologi': 'Alle', 'UIT 186881 Statsvitenskap': 'Alle', 'UIT 186891 SprÃ¥k og litteratur': 'Alle', 'UIT 186892 SprÃ¥k og Ã¸konomi': 'Alle', 'UIT 186898 SamfunnsÃ¸konomi': 'Alle', 'UIT 186910 Religionsvitenskap oppstart hÃ¸st': 'Alle', 'UIT 186912 Spansk oppstart vÃ¥r': 'Alle', 'UIT 186950 Nordisk oppstart vÃ¥r': 'Alle'}\n"
     ]
    }
   ],
   "source": [
    "courses = [key for key, value in csv_data.items() if value == \"Alle\"]\n",
    "\n",
    "print(f\"Antall studier hvor alle kom inn: {len(courses)}\")"
   ]
  },
  {
   "cell_type": "markdown",
   "metadata": {
    "deletable": false,
    "editable": false,
    "run_control": {
     "frozen": true
    }
   },
   "source": [
    "### b)"
   ]
  },
  {
   "cell_type": "markdown",
   "metadata": {
    "deletable": false,
    "editable": false,
    "run_control": {
     "frozen": true
    }
   },
   "source": [
    "Skriv en funksjon som finner gjennomsnittlig opptaksgrense for NTNU. Ikke ta med studier som tok inn alle søkere.\n",
    "\n",
    "*Eksempel på kjøring av kode:*\n",
    "```python\n",
    "Gjennomsnittlig opptaksgrense for NTNU var: 46.29\n",
    "```\n",
    "***Skriv koden din i boksen under.***"
   ]
  },
  {
   "cell_type": "code",
   "execution_count": null,
   "metadata": {},
   "outputs": [],
   "source": []
  },
  {
   "cell_type": "markdown",
   "metadata": {
    "deletable": false,
    "editable": false,
    "heading_collapsed": true,
    "run_control": {
     "frozen": true
    }
   },
   "source": [
    "#### Hint"
   ]
  },
  {
   "cell_type": "markdown",
   "metadata": {
    "deletable": false,
    "editable": false,
    "hidden": true,
    "run_control": {
     "frozen": true
    }
   },
   "source": [
    "For å sjekke om studiet var på NTNU kan du hente ut de fire første bokstavene i hver linje. Hvis du har en string studie kan du gjøre dette ved å skrive: studie[1:5]"
   ]
  },
  {
   "cell_type": "markdown",
   "metadata": {
    "deletable": false,
    "editable": false,
    "run_control": {
     "frozen": true
    }
   },
   "source": [
    "### c)"
   ]
  },
  {
   "cell_type": "markdown",
   "metadata": {
    "deletable": false,
    "editable": false,
    "run_control": {
     "frozen": true
    }
   },
   "source": [
    "Skriv en funksjon som finner studiet med laveste opptaksgrense (som IKKE tok inn alle søkere).\n",
    "\n",
    "*Eksempel på kjøring av kode:*\n",
    "```python\n",
    "Studiet som hadde den laveste opptaksgrensen var: AHO 189343 Industridesign\n",
    "```\n",
    "***Skriv koden din i boksen under.***"
   ]
  },
  {
   "cell_type": "code",
   "execution_count": null,
   "metadata": {},
   "outputs": [],
   "source": []
  },
  {
   "cell_type": "markdown",
   "metadata": {
    "deletable": false,
    "editable": false,
    "run_control": {
     "frozen": true
    }
   },
   "source": [
    "### d)"
   ]
  },
  {
   "cell_type": "markdown",
   "metadata": {
    "deletable": false,
    "editable": false,
    "run_control": {
     "frozen": true
    }
   },
   "source": [
    "Lag en dictionary som har studiestedet som nøkkel og en liste med dictionaries som verdi. Denne listen med dictionaries skal ha navnet på linjen som nøkkel og opptakspoengene til den tilsvarende linjen som verdi. Dersom en linje har navnet \"Fysikk og Matematikk\" trenger du kun å ta hensyn til det første ordet, dvs. \"Fysikk\". \n",
    "\n",
    "**Eksempel på utskrift:**\n",
    "\n",
    "```python\n",
    "ATH [{'Kristendom': ' Alle'}, {'Interkulturell': ' Alle'}, {'Musikk': ' Alle'}, {'Teologi': ' Alle'}, {'Kristendom': ' Alle'}, {'Psykologi': ' Alle'}, {'Musikk': ' Alle'}, {'Interkulturell': ' Alle'}, {'Psykologi': ' Alle'}, {'Praktisk': ' Alle'}]\n",
    "AHO [{'Arkitekt': '12.3'}, {'Industridesign': '11.7'}]\n",
    "BDH [{'Sykepleierutdanning': '45.5'}]\n",
    "MF [{'Kristendom/RLE': ' Alle'}, {'Samfunnsfag': ' Alle'}, {'Interkulturell': ' Alle'}, {'Teologi': ' Alle'}, {'Religion': ' Alle'}, {'Ungdom': ' Alle'}, {'Lektor-': ' Alle'}, {'Teologi': ' Alle'}]\n",
    "DHS [{'Sykepleierutdanning': '48.3'}, {'Vernepleierutdanning': '41.8'}, {'Sosialt': '49.1'}, {'Sosialt': '42.4'}, {'Ergoterapeututdanning': '32.6'}]\n",
    "DMMH [{'Førskolelærerutdanning': '36.3'}, {'Førskolelærer': '39.1'}, {'Førskolelærer': '44'}, {'Førskolelærer': '46.2'}, {'Førskolelærer': ' Alle'}]\n",
    ".\n",
    ".\n",
    ".\n",
    "UIT [{'Ingeniør': ' Alle'}, {'Ingeniør': ' Alle'}, {'Ingeniør': ' Alle'}, {'Ingeniør': ' Alle'}, {'Sykepleierutdanning': '43.8'}, {'Lærerutdanning': ' Alle'}, {'Lærerutdanning': ' Alle'}, {'Førskolelærerutdanning': ' Alle'}, ....\n",
    "```\n",
    "***Skriv koden din i boksen under.***"
   ]
  },
  {
   "cell_type": "code",
   "execution_count": null,
   "metadata": {},
   "outputs": [],
   "source": []
  }
 ],
 "metadata": {
  "kernelspec": {
   "display_name": "Python 3.10.6 64-bit ('3.10.6')",
   "language": "python",
   "name": "python3"
  },
  "language_info": {
   "codemirror_mode": {
    "name": "ipython",
    "version": 3
   },
   "file_extension": ".py",
   "mimetype": "text/x-python",
   "name": "python",
   "nbconvert_exporter": "python",
   "pygments_lexer": "ipython3",
   "version": "3.11.5"
  },
  "toc": {
   "base_numbering": 1,
   "nav_menu": {},
   "number_sections": false,
   "sideBar": true,
   "skip_h1_title": false,
   "title_cell": "Table of Contents",
   "title_sidebar": "Contents",
   "toc_cell": false,
   "toc_position": {},
   "toc_section_display": true,
   "toc_window_display": false
  },
  "vscode": {
   "interpreter": {
    "hash": "2c877203e8632c6e2d4790853429b86cabbca6081d90aad438c7a69fd7b8dd5d"
   }
  }
 },
 "nbformat": 4,
 "nbformat_minor": 2
}
