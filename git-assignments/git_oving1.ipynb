{
 "cells": [
  {
   "cell_type": "markdown",
   "metadata": {
    "deletable": false,
    "editable": false,
    "run_control": {
     "frozen": true
    }
   },
   "source": [
    "<h1> Bruk av Git for versjonskontroll og samarbeid</h1>"
   ]
  },
  {
   "cell_type": "markdown",
   "metadata": {
    "deletable": false,
    "editable": false,
    "run_control": {
     "frozen": true
    }
   },
   "source": [
    "**Forventet kunnskap:**\n",
    "- Filstier\n",
    "- Grunnleggende bruk av command line\n",
    "- Grunnleggende Python"
   ]
  },
  {
   "cell_type": "markdown",
   "metadata": {
    "deletable": false,
    "editable": false,
    "run_control": {
     "frozen": true
    }
   },
   "source": [
    "**Læringsmål:**\n",
    "- Forstå hva versjonskontroll er og hvorfor det er nyttig\n",
    "- Ha kjennskap til hva Git er:\n",
    "    - Forstå hva \"working area\", \"staging area\" og \"repository\" er i Git\n",
    "    - Forstå hva en \"commit\" er\n",
    "- Vite hvordan man lager et nytt \"repository\" med `git init`.\n",
    "- Vite hvordan man \"stager\" endringer som blir gjort på ulike filer i en mappe.\n",
    "- Vite hvordan man \"commiter\" en endring.\n",
    "- Bruke `git status` for å få oversikt over tilstanden til et prosjekt.\n",
    "- Kunne bruke kommandoen, `git checkout` for å bytte mellom ulike branches (grener).\n",
    "- Kunne trekke tilbake en \"commit\", med `git reset` og angre en \"commit\" med `git revert`.\n",
    "- Kunne bruke `git log` til å få oversikt over en \"commithistorikk\".\n",
    "- Vite at du kan bruke `git diff` til å sammenligne filer, branches (grener) og \"commits\".\n",
    "- Vite at du kan bruke `git clean` for slette \"untracked\" (usporede) filer under \"working area\".\n",
    "- Få kjennskap til hvordan du får Git til å ignorere uønskede filer ved å lage en .gitignore fil og aktivere denne."
   ]
  },
  {
   "cell_type": "markdown",
   "metadata": {
    "deletable": false,
    "editable": false,
    "run_control": {
     "frozen": true
    }
   },
   "source": [
    "I fremtiden er det veldig sannsynlig at du skal skrive større programmer, kanskje med flere tusen kodelinjer, og/eller skal samarbeide med andre på et kodeprosjekt. Det er da versjonskontroll blir viktig. I de to neste øvingene skal vi se nærmere på hva versjonskontroll er og hvorfor vi bruker det. Vi skal videre se nøyere på hvordan det distribuerte versjonskontrollverktøyet Git fungerer, og hvordan man bruker Git i en arbeidsflyt og et samarbeid. "
   ]
  },
  {
   "cell_type": "markdown",
   "metadata": {},
   "source": [
    "# Introduksjon til versjonskontroll, Git og installasjon\n",
    "<a id = 'introduksjon_git'></a>"
   ]
  },
  {
   "cell_type": "markdown",
   "metadata": {},
   "source": [
    "## Om versjonskontroll"
   ]
  },
  {
   "cell_type": "markdown",
   "metadata": {},
   "source": [
    "Når du skriver kode kan det være greit å ha en oversikt over endringene du gjør over tid. Tidligere er du kanskje vant med å lage en ny kopie av filene dine når du skal gjøre en endringe, i tilfelle du skulle ønske å gå tilbake til en tidligere versjon. Plutselig ender du opp med mange filer med små forskjeller i og til slutt aner du ikke hvilken som er riktig lengre. Dette er ikke en optimal arbeidsflyt. En ryddigere løsning er å bruke noe som heter **versjonskontroll**. Et versjonskontrollverktøy sørger for å gi deg som bruker en oversikt over alle endringene du har gjort på en eller flere filer, og mulighet til å jobbe med disse endringene.\n",
    "\n",
    "Versjonskontroll gjør det også enklere for flere å samarbeide på de samme filene. Det blir nemlig lettere å kombinere ulike endringer fra forskjellige personer, samtidig som versjonskontroll holder styr på hvem som har gjort hva til en hver tid. Derfor er det anbefalt å bruke dette når man er flere som jobber på de samme filene.  "
   ]
  },
  {
   "cell_type": "markdown",
   "metadata": {},
   "source": [
    "## Hva er Git?"
   ]
  },
  {
   "cell_type": "markdown",
   "metadata": {
    "deletable": false,
    "editable": false,
    "run_control": {
     "frozen": true
    }
   },
   "source": [
    "*Git* er et såkalt *distribuert versjonskontroll system*. La oss si at du har en mappe på PC-en din som inneholder Python-filene du har laget for hver øving. Med Git kan du holde styr på endringer du gjør i filene dine. Måten dette gjøres på i Git er ved at du som bruker lagrer endringene i såkalte *commits* (sjekkpunkter med andre ord). Bildet under visualiserer en tidslinje med flere slike commits. Slik er det mulig å gå tilbake til eldre versjoner av filene og nyeste versjonen av filene. Dette gjør det mulig å bruke Git som et \"undo\" (angre) og \"redo\" (rulle tilbake angring) verktøy. Det er dette som menes med at Git er et versjonskontroll system. Det hjelper deg å kontrollere alle de ulike versjonene av et arbeid.  \n",
    "\n",
    "![Git tidslinje](./img/git_tre.png)\n",
    "\n",
    "Det største bruksområdet for Git er å bruke det som et samarbeidsverktøy. Git gjør det enklere å legge til og foreslå endringer, og hente ut endringer som andre har gjort. For at flere skal kunne jobbe på samme prosjekt må man benytte seg av en gitleverandør, f.eks har IDI (NTNU) sin egen [GitLab](https://gitlab.stud.idi.ntnu.no), eller man kan benytte [GitHub](https://github.com). Da blir prosjektet og de endringene som gruppemedlemmer gjør på prosjektet lagret i skyen. På denne måten kan alle få tilgang til et felles prosjektet med den nyeste versjonen av koden. Dette kaller vi et *remote repository*. Dette konseptet forklares i neste øving."
   ]
  },
  {
   "cell_type": "markdown",
   "metadata": {},
   "source": [
    "## Git Basics"
   ]
  },
  {
   "cell_type": "markdown",
   "metadata": {
    "deletable": false,
    "editable": false,
    "run_control": {
     "frozen": true
    }
   },
   "source": [
    "Git arbeider med det vi kaller for \"repositories\", eller \"repo\" for kort. Lokalt på PCen din vil et repo se ut som en helt vanlig mappe, og du kan jobbe med filene inni helt normalt. Det eneste som er spesielt med mappen er at inni den ligger en \"skjult\" `.git`-mappe. Denne bruker git for å lagre informasjon (metadata) om prosjektet ditt. Du trenger veldig sjeldent endre på noe inni denne mappen.\n",
    "\n",
    "En fil som er kontrollert av git kan være i tre ulike faser:\n",
    "  1. **Working:** Dette er filer som er endret på lokalt, f. eks. nye filer, slettede filer eller bare filer hvor man har endret innholdet.\n",
    "  2. **Staging:** Dette er endringer fra working area som er klargjort for lagring i git. Du kan tenke litt på dette som et \"venterom\" for endringer som skal lagres i git.\n",
    "  3. **Committed:** Dette er endringer som er lagret i git.\n",
    "\n",
    "\n",
    "En fil kan hoppe mellom disse fasene ved hjelp av ulike git-kommandoer. For eksempel kan du bruke `git add` for å legge til endringer fra working area til staging area, og `git commit` for å lagre endringene fra staging area i en commit. En commit inneholder en beskrivelse av hva som er endret, og hvilken fil som er endret. Det er også mulig å lagre flere filer i en commit.\n",
    "\n",
    "Filer som ikke er kontrollert av Git kaller vi \"untracked\". Dette er filer som ikke er lagret i git enda, f. eks. fordi du akkurat har opprettet dem. Når en untracked fil er med i sin første commit blir den \"tracked\". Her begynner tidslinjen til denne filen.\n",
    "\n",
    "Det finnes **mye** mer funksjonalitet i Git og hos de ulike gitleverandørene, men dette er det viktigste! Tenk på et Git-repo som en mappe med filer, og Git som et verktøy for å holde styr på endringer i filene i mappen. "
   ]
  },
  {
   "cell_type": "markdown",
   "metadata": {
    "deletable": false,
    "editable": false,
    "run_control": {
     "frozen": true
    }
   },
   "source": [
    "## Installasjon av Git\n",
    "<a id = \"git_installasjon\"> </a>"
   ]
  },
  {
   "cell_type": "markdown",
   "metadata": {
    "deletable": false,
    "editable": false,
    "heading_collapsed": true,
    "run_control": {
     "frozen": true
    }
   },
   "source": [
    "### Linux"
   ]
  },
  {
   "cell_type": "markdown",
   "metadata": {
    "deletable": false,
    "editable": false,
    "hidden": true,
    "run_control": {
     "frozen": true
    }
   },
   "source": [
    "Git pakker er tilgjengelig via apt, yum og dnf. Last ned git pakken i din kommandolinje. Hvis du bruker f.eks Ubuntu, skriver du `sudo apt-get update` for å oppdatere apt og deretter\n",
    "`sudo apt-get install git` for å laste ned Git. "
   ]
  },
  {
   "cell_type": "markdown",
   "metadata": {
    "deletable": false,
    "editable": false,
    "heading_collapsed": true,
    "run_control": {
     "frozen": true
    }
   },
   "source": [
    "### Windows"
   ]
  },
  {
   "cell_type": "markdown",
   "metadata": {
    "deletable": false,
    "editable": false,
    "hidden": true,
    "run_control": {
     "frozen": true
    }
   },
   "source": [
    "<h4> Steg for steg beskrivelse av hvordan du laster ned Git </h4>\n",
    "\n",
    "* Innstaller Git ved å trykke [her](https://git-scm.com/downloads) og velg Windows som operativsystem.\n",
    "\n",
    "* Følg instruksene som dukker opp. La default valg stå og ikke velg noe annet enn de som er krysset av på forhånd (evt. med unntak av ønsket teksteditor). \n",
    "\n",
    "\n",
    "Du kan kontrollere at Git ble lastet ned ved å åpne Powershell ved å søke \"Powershell\" der du søker etter programmer på Windows. Sjekk deretter om du har lastet ned git ved å skrive: `git --version` i programmet som dukker opp, etterfulgt av enter tasten. \n",
    "Da bør det dukke opp `git version xx`som output der xx er versjonnummeret du har lastet ned.  "
   ]
  },
  {
   "cell_type": "markdown",
   "metadata": {
    "deletable": false,
    "editable": false,
    "heading_collapsed": true,
    "run_control": {
     "frozen": true
    }
   },
   "source": [
    "### MacOS"
   ]
  },
  {
   "cell_type": "markdown",
   "metadata": {
    "deletable": false,
    "editable": false,
    "hidden": true,
    "run_control": {
     "frozen": true
    }
   },
   "source": [
    "Åpne Terminal-programmet, som har følgende ikon:\n",
    "\n",
    "<img  style=\"display:inline-block;\" width=\"50px\" src=\"img/terminal.png\"> \n",
    "\n",
    "Du kan finne programmet ved å bruke Spotlight-søk (trykk **cmd(⌘)** + **mellomrom**)"
   ]
  },
  {
   "cell_type": "markdown",
   "metadata": {
    "deletable": false,
    "editable": false,
    "hidden": true,
    "run_control": {
     "frozen": true
    }
   },
   "source": [
    " Aller først bør du sjekke om du allerede har Git lastet ned på Macen din.  Når du har åpnet terminalen, skriver du følgende i selve terminalen: \n",
    "```\n",
    "git --version  \n",
    "```\n",
    "\n",
    "Følgende bør dukke opp på linjen under: (trenger ikke akkurat å være samme versjon)\n",
    "```\n",
    "git version 2.39.3 (Apple Git-145)\n",
    "```\n",
    "\n",
    "Om det ikke gjør det, betyr det at du ikke har git installert.\n",
    "\n",
    "#### Laste ned Git med Homebrew\n",
    "\n",
    "[Homebrew](https://brew.sh/) er et veldig nyttig verktøy for å installere programmer på Mac. Det er en pakkebehandler som lar deg installere programmer fra kommandolinjen. For å installere Homebrew trenger du bare skrive inn\n",
    "```\n",
    "/bin/bash -c \"$(curl -fsSL https://raw.githubusercontent.com/Homebrew/install/HEAD/install.sh)\"\n",
    "```\n",
    "i terminalen, og du vil bli guidet gjennom installasjonsprosessen. Når du er ferdig med å installere Homebrew, kan du installere Git ved å skrive\n",
    "```\n",
    "brew install git\n",
    "```"
   ]
  },
  {
   "cell_type": "markdown",
   "metadata": {},
   "source": [
    "### Lagre brukerinformasjon på Git "
   ]
  },
  {
   "cell_type": "markdown",
   "metadata": {
    "deletable": false,
    "editable": false,
    "run_control": {
     "frozen": true
    }
   },
   "source": [
    "Etter at du har lastet ned Git, må du lagre informasjon om deg, slik at Git vet hvem som har gjort endringer. Det gjør du ved å skrive følgende i Terminalen (PowerShell på Windows): \n",
    "\n",
    "`git config --global user.name \"User\"`  \n",
    "\n",
    "Etterfulgt av enter. I stedet for \"User\" må du skrive det brukernavnet du ønsker å ha på Git mellom fnuttene. Deretter må du skrive: \n",
    "\n",
    "`git config --global user.email \"Din e-mail\"` \n",
    "\n",
    "og husk å skrive din faktiske e-mailadresse mellom fnuttene. Trykk deretter på enter tasten. "
   ]
  },
  {
   "cell_type": "markdown",
   "metadata": {
    "deletable": false,
    "editable": false,
    "run_control": {
     "frozen": true
    }
   },
   "source": [
    "# Grunnleggende kommandoer i Git"
   ]
  },
  {
   "cell_type": "markdown",
   "metadata": {
    "deletable": false,
    "editable": false,
    "run_control": {
     "frozen": true
    }
   },
   "source": [
    "Det er mange mulige måter å bruke Git på. VS Code har blant annet innebygged funksjonalitet med Git, og det fins mange tredjepartsprogrammer som lar deg bruke Git på en effektiv måte. Men det er likevel fordelaktig å starte med å lære seg Git gjennom kommandolinjen fordi dette gir en god forståelse for hvordan Git fungerer, og kan brukes veldig generelt.\n",
    "\n",
    "[Her](https://youtu.be/USjZcfj8yxE?t=156) er en video som går gjennom grunnleggende kommandoer i Git. Du trenger bare å se til \"branching\" (rundt 10 minutter), siden dette er tema i neste øving. Senere vil du også finne ut av at det er mange kommandoer å holde styr på, så det kan være lurt å finne seg et \"cheat sheet\" å ha liggende (for eksempel [dette](https://education.github.com/git-cheat-sheet-education.pdf)).\n",
    "\n",
    "Kort oppsummering:\n",
    "- `git init` starter en ny \"repository\" i prosjektet ditt.\n",
    "- `git status` gir oversikt over tilstanden et prosjekt er i. Det vil si at endringene dine er synlig og Git forteller deg om endringene er \"untracked\" (usporet), staget eller commitet (lagret i systemet). \n",
    "- For å stage en fil med navnet, \"filename\" bruker du kommandoen `git add filename`.\n",
    "- Kommandoen `git add --all` stager alle filer og undermapper som det har blitt gjort en endring på. \n",
    "- `git add .` er en alternativ kommando som stager aller filer du har gjort en endring på, eksklusiv undermapper og slettinger som har blitt gjort. \n",
    "- Kommandoen, `git commit -m \"<melding>\"` brukes for å \"commite\" endringer, hvor `<melding>` er den commit-meldingen du ønsker å gi. Du må huske å oppgi fnutter rundt teksten som du gi som commit-melding. \n"
   ]
  },
  {
   "cell_type": "markdown",
   "metadata": {
    "deletable": false,
    "editable": false,
    "run_control": {
     "frozen": true
    }
   },
   "source": [
    "## Oppgaver"
   ]
  },
  {
   "cell_type": "markdown",
   "metadata": {
    "deletable": false,
    "editable": false,
    "run_control": {
     "frozen": true
    }
   },
   "source": [
    "Dersom du ikke allerede har gjort det, må du konfigurere Git ved å skrive \n",
    "\n",
    "`git config --global user.name \"Fornavn Etternavn\"`\n",
    "\n",
    "og \n",
    "\n",
    "`git config --global user.email \"din_epost\"`"
   ]
  },
  {
   "cell_type": "markdown",
   "metadata": {
    "deletable": false,
    "editable": false,
    "run_control": {
     "frozen": true
    },
    "solution2": "hidden",
    "solution2_first": true
   },
   "source": [
    "**Oppgave 1**\n",
    "\n",
    "Lag en ny mappe i kommandolinjen din ved å bruke kommandoen, `mkdir` og som du kaller `my_repo`. Naviger der deretter inn i den nye mappen du nettopp lagde. "
   ]
  },
  {
   "cell_type": "markdown",
   "metadata": {
    "deletable": false,
    "editable": false,
    "run_control": {
     "frozen": true
    },
    "solution2": "hidden"
   },
   "source": [
    "**Løsningsforslag 1**\n",
    "\n",
    "I kommandolinjen din skriver du\n",
    "\n",
    "`mkdir my_repo`\n",
    "\n",
    "for å lage mappa. For å gå inn i den skriver du\n",
    "\n",
    "`cd my_repo`"
   ]
  },
  {
   "cell_type": "markdown",
   "metadata": {
    "deletable": false,
    "editable": false,
    "run_control": {
     "frozen": true
    }
   },
   "source": [
    "**Oppgaver 2**\n",
    "\n",
    "Skriv et kort program i Python (eller noe annet) som du lagrer i repoet ditt."
   ]
  },
  {
   "cell_type": "markdown",
   "metadata": {
    "deletable": false,
    "editable": false,
    "run_control": {
     "frozen": true
    },
    "solution2": "hidden",
    "solution2_first": true
   },
   "source": [
    "**Oppgave 3**\n",
    "\n",
    "Lag en repository ved å bruke kommandoen, `git init` i kommandolinjen din. Legg til filen med programmet ditt i staging area med kommandoen, `git add` og husk å spesifisere hvilke filer du ønsker å stage. Commit så endringene med kommandoen, `git commit` (husk melding)."
   ]
  },
  {
   "cell_type": "markdown",
   "metadata": {
    "deletable": false,
    "editable": false,
    "run_control": {
     "frozen": true
    },
    "solution2": "hidden"
   },
   "source": [
    "**Løsningsforslag 3**\n",
    "\n",
    "For å lage en ny \"repository\" skriver du\n",
    "\n",
    "`git init`\n",
    "\n",
    "Du får da ut en melding som starter med \"Initialized empty Git repository in ... \" (hvilken filsti avhenger av hvor på datamaskinen din du lagret mappa).\n",
    "\n",
    "For å legge til alle filene dine i staging area, skriver du følgende kommando: \n",
    "`git add --all`\n",
    "\n",
    "For å commite filene dine som ligger i staging area, bruker du følgende kommando: \n",
    "`git commit -m \"Initial commit\"` (Eller hvilken som helst annen melding som du skriver mellom fnuttene)"
   ]
  },
  {
   "cell_type": "markdown",
   "metadata": {
    "deletable": false,
    "editable": false,
    "run_control": {
     "frozen": true
    },
    "solution2": "hidden",
    "solution2_first": true
   },
   "source": [
    "**Oppgave 4**\n",
    "\n",
    "Gjør en endring i programmet ditt og lag en ny tekstfil. Legg deretter begge filene til i staging area og lag en ny commit."
   ]
  },
  {
   "cell_type": "markdown",
   "metadata": {
    "deletable": false,
    "editable": false,
    "run_control": {
     "frozen": true
    },
    "solution2": "hidden"
   },
   "source": [
    "**Løsningsforslag 4**\n",
    "Etter at du har lagret endringen på tekstfilen, må du stage filen med kommandoen\n",
    "\n",
    "`git add tekstfil.txt`\n",
    "og gjøre det samme med programfila du endret. Deretter kan du commite endringen med\n",
    "\n",
    "`git commit -m \"melding\"`.\n",
    "Du kan velge å skrive en annen melding mellom fnuttene. "
   ]
  },
  {
   "cell_type": "markdown",
   "metadata": {
    "deletable": false,
    "editable": false,
    "run_control": {
     "frozen": true
    }
   },
   "source": [
    "## Få oversikt"
   ]
  },
  {
   "cell_type": "markdown",
   "metadata": {
    "deletable": false,
    "editable": false,
    "run_control": {
     "frozen": true
    }
   },
   "source": [
    "Git tilbyr spesielt to nyttige kommandoer som gir deg oversikt over endringer som blir gjort underveis. Disse er `git log` og `git status`.\n",
    "\n",
    "### git status\n",
    "\n",
    "`git status` gir deg en liste over filer som enten er endret, lagt til eller slettet, der disse endringene ikke har blitt commitet enda. Bildet under viser et eksempel på en output som kan dukke opp om du *endrer* på filer. \n",
    "\n",
    "<img src = 'img/git_status.png' width = 600px>\n",
    "\n",
    "I eksempelet over har filene \"oving1.py\" og \"oving2.py\" blitt endret på og derfor blitt markert som \"modified\". \"tekstfil.txt\" har blitt slettet, og er derfor markert med \"deleted\". Alle disse tre filene havnet under \"Changes not staged for commit\", ettersom de ikke er lagt til staging enda. \"Untracked files\" er som regel nye filer, som man enda ikke eksplisitt har sagt til Git at skal spores.\n",
    "\n",
    "I eksempelet under vises `git status` etter at filene er staget med `git add --all`. Legg merge til at \"ny_fil.txt\" ikke er untracked lengre.\n",
    "\n",
    "<img src = 'img/git_status_staged.png' width = 600px>\n",
    "\n",
    "### git log\n",
    "\n",
    "`git log` gir deg en tekstlig liste over alle commits som har blitt gjort. ID-en, forfatter, dato og meldingen til commitene dukker opp. Denne kommandoen kan være greit å bruke for å få en oversikt over hvilke endringer som har blitt gjort. Gode commit meldinger er derfor svært viktige for at andre medlemmer klarer å forstå endringene som har blitt gjort på et prosjekt. Bildet under viser et eksempel på commits som har blitt gjort på et prosjekt. Det som står i parentes er navnet til branchen der commiten ble gjort.\n",
    "\n",
    "<img src = 'img/git_log.png' width = 600px>\n",
    "\n",
    "Du kan få en finere format på outputen ved å legge til `--oneline` som flagg, altså blir hele kommandoen `git log --oneline`. \n",
    "\n",
    "For å gå ut av `git log` kan du trykke på `q`-tasten."
   ]
  },
  {
   "cell_type": "markdown",
   "metadata": {
    "deletable": false,
    "editable": false,
    "run_control": {
     "frozen": true
    }
   },
   "source": [
    "## Slette endringer og rulle tilbake i commit historikken"
   ]
  },
  {
   "cell_type": "markdown",
   "metadata": {
    "deletable": false,
    "editable": false,
    "run_control": {
     "frozen": true
    }
   },
   "source": [
    "#### Rulle tilbake til gammel tilstand av prosjektet\n",
    "Du kan gå tilbake til en eldre versjon av prosjektet dit ved å bruke `git checkout commit_id`, hvor commit_id er hash-verdien til commiten du vil gjøre en `checkout` på (altså flytte peker til). Du kan finne denne hash-verdien med `git log --oneline`, som gir deg en liste over alle commits som har blitt gjort på den branchen du står i. Når du har gjort en `checkout` på en tidligere commit, vil innholdet i prosjektet ditt endre seg til hva den var da valgt commit ble gjort. Merk at når du bruker `git checkout commit_id`, så vil ingen endringer du gjør bli lagret i Git repoet. Du kan komme tilbake til \"redigeringsmodus\" i Git ved å skrive `git checkout master` gitt at master holder nyeste versjon av prosjektet og master er \"hovedgrenen\" din (den du alltid bruker til å lagre siste versjon av koden din i).Da kan du f.eks lime inn den sikre kopien av prosjektet, eller bruke `git revert` eller `git reset` som er mer elegante løsninger.\n",
    "\n",
    "\n",
    "#### Slette commits med `git reset` og `git revert `\n",
    "Du kan angre nyeste commit med kommandoen `git revert HEAD`, som vil rulle tilbake den siste endringen som ble gjort i prosjektet. Revert sletter ikke den siste commiten. I stedet vil den lage en ny commit som fjerner endringene fra forrige commit. Altså man vil ende opp med to commits. \n",
    "\n",
    "Du kan også angre andre commits ved å legge til ID-en til ønsket commit i stedet for \"HEAD\".\n",
    "\n",
    "Når du skriver `git revert HEAD` og trykker enter, vil Git be deg om å gi en commit melding på handlingen, og dette dukker opp i en teksteditor. Hvis du får opp en annen teksteditor og ikke vet hvordan du lagrer tekstfilen som dukker opp i teksteditoren, anbefales at du Googler hvordan du lagrer en fil der. Dersom du har Vim som teksteditor, vil følgende vindu dukke opp:\n",
    "\n",
    "<img src = 'img/git_revert_head.png' width = 600px>\n",
    "\n",
    "Hvis et slikt vindu dukker opp, trykk på `esc` tasten etterfulgt av `:wq` og enter. Da skal det dukke opp en commit melding i loggen hvor det står  *Revert \"commit melding\"* der \"commit melding\" er meldingen til commiten du angret på med `git revert`. I bildet under, har det blitt gjort en revert på commiten med ID-en, \"cdb990e\", og det har blitt lagt til en ny commit melding hvor det står *Revert \"Lagt til en dårlig commit\"*.   \n",
    "\n",
    "<img src = 'img/revert_with_commit.png' width = 600px> \n",
    "\n",
    "Dersom du i tillegg ønsker å slette dine dårlige commits fra historien, kan du bruke `git reset --hard commit_id` i stedet, der \"commit_id\" er hash-verdien til den siste commiten du ønsker å ha med i din nye tidslinje. Kommandoen sletter alle commits som kom *etter* den commiten du oppgir i kommandoen, mens resten beholdes. Skriver du `git log --oneline` nå, vil du se den oppdaterte tidslinjen din. \n",
    "\n",
    "Gitt følgende tidslinje over commits:\n",
    "\n",
    "<img src = 'img/eksempel_bad_commit.png' width = 600px>\n",
    "\n",
    "ønsker vi å slette commiten med meldingen, \"Lagt til en dårlig commit\", altså den med ID \"cdb990e\". \n",
    "Skriver vi nå `git reset --hard 84f3976`, vil commit med hash-verdien \"cdb990e\" bli slettet og HEAD (pekeren) vil peke på commiten med ID \"84f3976\", som vist i loggen under\n",
    "\n",
    "<img src = 'img/etter_reset.png' width = 600px>\n",
    "\n",
    "Denne kommandoen vil fungere dårlig dersom en commit du ønsker å slette allerede er pushet til en remote repo. For det er ikke mulig å pushe en ny \"tidslinje\" hvor du har brukt `git reset` hvis de slettede commitene ligger ute. Git vil fange opp dette og tro at din tidslinje ligger bak den som ligger ute. I slike tilfeller er det bedre å bruke `git revert` i stedet fordi denne kommandoen lager en ny tidslinje og vil ikke \"kutte\" en gammel tidslinje som ligger remote. Men du kan trygt bruke reset for å slette *lokale* commits som enda ikke har blitt lagt ut.\n",
    "\n",
    "#### Slette fil som er i working area\n",
    "Du kan bruke `git checkout <filename>` for å slette endringer som har blitt gjort på en fil, der `<filename>` er navnet på filen du ønsker å slette endrigner på. Da må filen være i working area. En alternativ kommando du kan bruke for å gjøre akkurat det samme, er `git restore <filename>` der `<filename>` er fila du vil angre endringer på.\n",
    "\n",
    "Dersom du har staget filen og ønsker å slette endringene, kan du først bruke `git reset --mixed <filename>` der `<filename>` er navnet på filen, for å flytte filen tilbake til working area (eng:unstage). Deretter kan du bruke enten `git checkout <filename>` eller `git restore <filename>` for å slette endringen som ble gjort.     \n",
    "\n",
    "Du kan slette *usporede* filer som du har lagt til i prosjektet som fortsatt ligger i working area og som du ikke ønsker å ha med i prosjektet likevel. Disse vil ligge under \"Untracked files\" når du bruker kommandoen `git status`. Du kan slette disse filene med kommandoen `git clean -d -i`. Men før du bruker kommandoen kan det være lurt å se først hvilke filer den da kommer til å slette ved å skrive `git clean –d -n` i stedet. Sistnevnte kommando sletter ikke de usporede filene, men vil i stedet gi deg en liste over de filene som kommer til å bli slettet hvis du bruker kommandoen `git clean -d -i`.   "
   ]
  },
  {
   "cell_type": "markdown",
   "metadata": {
    "deletable": false,
    "editable": false,
    "run_control": {
     "frozen": true
    }
   },
   "source": [
    "## Git diff"
   ]
  },
  {
   "cell_type": "markdown",
   "metadata": {
    "deletable": false,
    "editable": false,
    "run_control": {
     "frozen": true
    }
   },
   "source": [
    "`git diff <filename>` der `<filename>` er navnet på filen du ønsker å inspisere, er en nyttig kommando som kan brukes både under merge conflicts (som kommer til å bli introdusert i neste øving) og før man stager en fil. Kommandoen printer ut endringer som har blitt gjort på filen. Linjer som er markert med rødt minustegn er slettede linjer og de som er markert med grønt plusstegn er linjer som er lagt til. Bildet nedenfor viser et eksempel der `git diff` er brukt på en fil som heter 'oving1.py'.\n",
    "\n",
    "<img src = 'img/git_diff.png' width = 600px>"
   ]
  },
  {
   "cell_type": "markdown",
   "metadata": {},
   "source": [
    "## Oppgaver"
   ]
  },
  {
   "cell_type": "markdown",
   "metadata": {},
   "source": [
    "**Oppgave 1**\n",
    "\n",
    "Gjør en endring i programmet ditt og commit med en melding. Bruk deretter `git checkout` til å se hvordan første commiten så ut. Gå deretter tilbake til den nyeste (master) commiten."
   ]
  },
  {
   "cell_type": "markdown",
   "metadata": {},
   "source": [
    "**Løsningsforslag 1**\n",
    "\n",
    "Bruk `git log --oneline` for å enkelt se commit historikken din med commit IDer. Kopier den siste IDen og skriv `git checkout <ID>`. For å gå tilbake til seneste, skriv `git checkout master`."
   ]
  },
  {
   "cell_type": "markdown",
   "metadata": {},
   "source": [
    "**Oppgave 2**\n",
    "\n",
    "Du var misfornøyd med den siste endringen i programmet ditt, og ønsker å gå tilbake til hvordan det var før oppgave 1. Gjør dette med `git revert`."
   ]
  },
  {
   "cell_type": "markdown",
   "metadata": {},
   "source": [
    "**Løsningsforslag 2**\n",
    "\n",
    "Bruk `git log --oneline` for å se commit historikken. Kopier IDen til andre commit og skriv `git revert <ID>`. Sjekk deretter `git log`, her skal det være en *ny* commit som koresponderer med å ha revertet til andre commit (det skal altså være totalt 4 commits nå). "
   ]
  },
  {
   "cell_type": "markdown",
   "metadata": {},
   "source": [
    "**Oppgave 3**\n",
    "\n",
    "Bruk `git reset` til å gå tilbake til andre commit og slette de to siste commitene. Koden endret seg ikke, hva har egentlig skjedd?"
   ]
  },
  {
   "cell_type": "markdown",
   "metadata": {},
   "source": [
    "**Løsningsforslag 3**\n",
    "\n",
    "Bruk igjen `git log --oneline` til å finne commit IDen til andre commit. Skriv `git reset --hard <ID>`. Du har nå gått tilbake til den *faktiske* andre commiten, og commit 3 og 4 har blitt slettet. Vær forsiktig med `git reset --hard`!"
   ]
  },
  {
   "cell_type": "markdown",
   "metadata": {
    "deletable": false,
    "editable": false,
    "run_control": {
     "frozen": true
    }
   },
   "source": [
    "## Ignorere endringer i et prosjekt"
   ]
  },
  {
   "cell_type": "markdown",
   "metadata": {
    "deletable": false,
    "editable": false,
    "run_control": {
     "frozen": true
    }
   },
   "source": [
    "Det er mulig å be Git om å se bort i fra visse filtyper som ikke er viktig å ha med i repoet. Du kan gi en liste over filer du ønsker at Git skal ignorere i noe som kalles for en **.gitignore** fil. En .gitignore fil, er en tekstfil som gir en liste over hvilke filtyper Git skal se bort i fra dersom de blir lagt til i prosjektet. Ofte, når du programmerer, kan det lages automatiske filer du ikke behøver i repoet ditt. Det går an å legge disse filene i en .gitignore fil for å sørge for at disse ikke blir fanget opp som \"Untracked files\". Eksempel på dette er checkpoint filer som dukker opp når du jobber på en jupyter notebook eller **.DS_store**-filer som filsystemet til Mac lager. \n",
    "\n",
    "Du lager en .gitignore fil ved å legge til en vanlig tekstfil (på txt format) som du navngir \".gitignore\" i samme mappe som prosjektet ditt ligger i. I denne filen, skriver du filformatet til de type filene de ønsker å ignorere. Dette gjør du ved å enten skrive ut filnavnet (f.eks .DS_Store) eller * etterfulgt av endelsen som kommer med filnavnet. Hvis du f.eks. vil ignorere alle filer som slutter på  \".ipynb_checkpoints\" skriver du \"*.ipynb_checkpoints\" i .gitignore.\n",
    "\n",
    "Du må nå sørge for å legge til din nye .gitignore filen i Git repoet ditt med å først stage den med kommandoen `git add .` og commite med `git commit -m \".gitignore fungerer\"`. Nå vil Git sørge for å slutte å fange opp filer som er listet i .gitignore hver gang en slik fil blir lagt til i mappen din (gitt at du aldri har staget og deretter commitet slike filer tidligere).\n",
    "\n",
    "Dersom du ønsker å ignorere filer som allerede har blitt commitet tidligere, hjelper det ikke å kun liste opp filen i .gitignore. Da må du slette filen fra repoet først og det er først da .gitignore fil fungere på filen. Du sletter en fil fra Git repoet med kommandoen `git rm --cached <filename>` der `<filename>` er navnet på filen du ønsker at Git skal slutte å spore.  \n",
    "\n",
    "Dersom det er mange filer du har commitet som du ønsker at Git skal ignorere, kan det være mer effektivt å først flytte alle filene som ligger i Git repoet til working area først med kommandoen, \n",
    "`git rm -r --cached` \n",
    "\n",
    "Deretter kan du bruke kommandoen, `git add .` som sørger for å stage filer som ikke er listet i .gitignore.\n",
    "Lag deretter en commit (husk å ha med flagget, -m, etterfulgt av commit-meldingen) og nå vil Git være oppdatert etter .gitignore. Nå vil filer som tidligere har blitt sporet av Git, men som nå har blitt lagt til i .gitignore, faktisk bli ignorert neste gang.  \n",
    "\n",
    "Det finnes mange templates for .gitignore filer. De kan også genereres med [gitignore.io](https://www.toptal.com/developers/gitignore)."
   ]
  }
 ],
 "metadata": {
  "celltoolbar": "Initialization Cell",
  "kernelspec": {
   "display_name": "Python 3.10.4 64-bit",
   "language": "python",
   "name": "python3"
  },
  "language_info": {
   "codemirror_mode": {
    "name": "ipython",
    "version": 3
   },
   "file_extension": ".py",
   "mimetype": "text/x-python",
   "name": "python",
   "nbconvert_exporter": "python",
   "pygments_lexer": "ipython3",
   "version": "3.10.4"
  },
  "toc": {
   "base_numbering": 1,
   "nav_menu": {},
   "number_sections": true,
   "sideBar": true,
   "skip_h1_title": false,
   "title_cell": "Table of Contents",
   "title_sidebar": "Contents",
   "toc_cell": false,
   "toc_position": {
    "height": "calc(100% - 180px)",
    "left": "10px",
    "top": "150px",
    "width": "353.075px"
   },
   "toc_section_display": true,
   "toc_window_display": true
  },
  "vscode": {
   "interpreter": {
    "hash": "4448de4cfef6f37160713dc782e24511c805aa72af3bf09e57902672dd617571"
   }
  }
 },
 "nbformat": 4,
 "nbformat_minor": 2
}
