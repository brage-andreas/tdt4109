{
 "cells": [
  {
   "cell_type": "markdown",
   "metadata": {
    "deletable": false,
    "editable": false,
    "run_control": {
     "frozen": true
    }
   },
   "source": [
    "<table style=\"font-size:15px; margin-left:0px\">\n",
    "  <tr>\n",
    "    <td><a href=\"../JN0.ipynb\">Tilbake til oversikt over notebooks</td>\n",
    "  </tr>\n",
    "\n",
    "</table>"
   ]
  },
  {
   "cell_type": "markdown",
   "metadata": {
    "deletable": false,
    "editable": false,
    "run_control": {
     "frozen": true
    }
   },
   "source": [
    "<h1> Bruk av Git for versjonskontroll og samarbeid</h1>"
   ]
  },
  {
   "cell_type": "markdown",
   "metadata": {
    "deletable": false,
    "editable": false,
    "run_control": {
     "frozen": true
    }
   },
   "source": [
    "**Forventet kunnskap:**\n",
    "- Git Øving 1"
   ]
  },
  {
   "cell_type": "markdown",
   "metadata": {
    "deletable": false,
    "editable": false,
    "run_control": {
     "frozen": true
    }
   },
   "source": [
    "**Læringsmål:**\n",
    "- Kunne bruke kommandoen, `git branch` til å både lage en branch og få oversikt over alle branches (grener) som finnes.\n",
    "- Kunne bruke kommandoen, `git checkout` for å bytte mellom ulike branches (grener).\n",
    "- Kunne slå sammen \"branches\" med kommandoen `git merge`.\n",
    "- Forstå hvorfor \"merge conflict\" skjer, og hvordan man kan løse dette.\n",
    "- Kunne trekke tilbake en \"commit\", med `git reset` og angre en \"commit\" med `git revert`.\n",
    "- Forstå forskjellen på lokal versjonskontroll og \"remote\" versjonskontroll.\n",
    "- Vite hvordan man kan lage en remote repo på GitLab\n",
    "- Forstå hvordan man kan samarbeide med andre via \"remote repositories\".\n",
    "- Hvordan lagre en \"remote repository\" lokalt på din datamaskin med kloning.\n",
    "- Bruke `git push` for å publisere endringer til en remote repo og `git pull` for å hente endringer fra en remote repo.\n",
    "- Vite om andre programmer for å bruke Git utenom kommandolinjen som tilbyr et brukergrensesnitt."
   ]
  },
  {
   "cell_type": "markdown",
   "metadata": {
    "deletable": false,
    "editable": false,
    "run_control": {
     "frozen": true
    }
   },
   "source": [
    "# Branching, merge og konflikter\n",
    "<a id=\"om_branch_og_merge\"></a>"
   ]
  },
  {
   "cell_type": "markdown",
   "metadata": {
    "deletable": false,
    "editable": false,
    "run_control": {
     "frozen": true
    }
   },
   "source": [
    "<h3> Hva er branch og merge?</h3> \n",
    "\n",
    "Vi har nå sett på det mest grunnleggende i Git. Men det finnes enda mer, og nå skal vi se på hvordan vi kan dele opp arbeidet vårt i flere parallelle branches(grener). Vi skal også se på hvordan vi kan slå sammen endringene i ulike brancher (*merge*). \n",
    "\n",
    "Når du for første gang lager et Git repo lages det automatisk en branch for deg som kalles `main` (tidligere `master`). En branch tilsvarer en tidslinje over alle endringene du har gjort, og du kan ha flere slike separate tidslinjer. Når man har flere branches kan man jobbe i disse uavhengig av hverandre. Når du lager en ny branch er denne basert på en annen branch (gjerne `main`). Da vil den nye branchen inneholde alle commits (endringer) fra den forrige branchen, men nye endringer du gjør fremover vil holde seg isolert fra den opprinnelige branchen du var i. Når du lager en branch, kan du tenke på denne som en oppsplitting/forgreining av den første tidslinjen du hadde. Figuren under illustrerer dette.\n",
    "\n",
    "<img src = 'img/branches.svg' width = 600px>\n",
    "\n",
    "Når du er fornøyd med endringene du har lagt til i den nye tidslinjen (i den nye branchen), kan du slå sammen den nye branchen med den opprinnelige ved å flette de sammen (*merge*). Da vil Git forsøke å sette sammen alle commits som har blitt gjort på begge branchene sammen. Når du gjør en merge av (slår sammen) to branches, vil Git lage en ny commit i tidslinjen til den branchen du merger *til*. Figuren under illustrerer hva som skjer når du slår sammen to branches som heter main og developer.\n",
    "\n",
    "<img src = 'img/merge.svg' width = 600px>\n",
    "\n",
    "Tidslinjen til developer og main blir gjenforent når du merger developer inn i main. "
   ]
  },
  {
   "cell_type": "markdown",
   "metadata": {},
   "source": [
    "### Konflikter"
   ]
  },
  {
   "cell_type": "markdown",
   "metadata": {},
   "source": [
    "Som oftest klarer Git å slå sammen endringene i de to ulike branchene automatisk når man merger, men noen ganger kan det oppstå problemer. Hvis samme kodelinje har blitt endret i begge branchene, så vet ikke Git lengre hvilke av endringene som er den *riktige*. Da oppstår en såkalt \"merge conflict\". Konflikten kan også oppstå om det har blitt gjort endringer på en fil i en branch mens filen har blitt slettet i en annen branch. Git vil da ikke tillate deg å gjøre en merge før du løser konflikten, som er noe vi skal se mer på i denne videoen.  "
   ]
  },
  {
   "cell_type": "markdown",
   "metadata": {},
   "source": [
    "[Her](https://www.youtube.com/watch?v=XX-Kct0PfFc&ab_channel=TheNetNinja) er en kort video om branching, merge og konflikter."
   ]
  },
  {
   "cell_type": "markdown",
   "metadata": {
    "deletable": false,
    "editable": false,
    "heading_collapsed": true,
    "run_control": {
     "frozen": true
    }
   },
   "source": [
    "### Kort oppsummering"
   ]
  },
  {
   "cell_type": "markdown",
   "metadata": {
    "deletable": false,
    "editable": false,
    "hidden": true,
    "run_control": {
     "frozen": true
    }
   },
   "source": [
    "- Vi skriver `git branch` for å se hvilke branches vi har, og hvilken branch vi er i.\n",
    "- Main branchen blir laget automatisk, og er den vi er i automatisk.\n",
    "- For å lage en ny branch skriver vi `git branch <branchname>` der du erstatter `<branchname>` med det navnet du ønsker å gi branchen (grenen) din.\n",
    "- Vi bytter branch ved å skrive `git checkout <branchname>` der du erstattet `<branchname>` med navnet på branchen du vil bytte til.\n",
    "- Du sletter en branch med navnet `branchname` ved å skrive kommandoen, `git branch -d <branchname>`.\n",
    "- For å merge to branches (grener), må vi først bytte branch til den vi skal merge til, og skriver så `git merge <branchname>`, hvor `<branchname>` er navnet til branchen vi henter endringer fra. \n",
    "- Ofte vil man da først bytte branch til main, også merge med branchen vi har arbeidet på.\n",
    "- Dersom linjer i en kode har ulikt innhold på ulike grener, får vi \"merge conflict\".\n",
    "- Git vil gi en melding der det står  \"CONFLICT (content): Merge conflict in filename\", hvor \"filename\" vil være filnavnet konflikten skjedde i.\n",
    "- Kan også se fra `git status` hvilken fil konflikten var i ved at de står under \"Unmerged paths\"\n",
    "- Vi må selv bestemme hvilken av linjene vi ønsker å beholde.\n",
    "- Må løse konflikten ved å fjerne linjen vi ikke vil ha med, og fjerne linjene hvor det står \"<<< HEAD\", \"======\" og \">>>>>> < branch name>\".\n",
    "- Når dette er fjernet, commiter vi filen, ved å skrive `git commit -m \"<melding på løst konflikt>\"`, og da ser Git på konflikten som løst. Det kan være lurt å skrive i meldingen at denne løser en konflikt."
   ]
  },
  {
   "cell_type": "markdown",
   "metadata": {},
   "source": [
    "### Mulige løsninger til \"merge conflicts\""
   ]
  },
  {
   "cell_type": "markdown",
   "metadata": {},
   "source": [
    "* Du kan se en logg over commits som har konflikt med hverandre med kommandoen `git log --merge`. Denne kan være grei for å kunne hente ut ID-en til commitene som er i konflikt med hverandre(består av en lang hash). Da kan man velge å rulle tilbake eventuelle dårlige commits. \n",
    "\n",
    "* Du kan evt. bruke `git diff <commit1> <commit2>` der `<commit1>` og `<commit2>` erstattes med hash-verdiene til commitene du ønsker å sammenligne for å se differansen mellom commits som er i konflikt med hverandre.  \n",
    "\n",
    "* Kommandoen `git diff <branch1> <branch2>` der `<branch1>` og `<branch2>` er navnet på branchene som er i konflikt, kan hjelpe deg å se forskjellen mellom to ulike branches. Dette kan du bruke for å se hva som er forskjellen mellom branchene som er i konflikt. \n",
    "\n",
    "* Du kan angre en forsøkt merge med kommandoen `git merge --abort`. \n",
    "\n",
    "* Kommandoen `git status` vil fortelle deg hvilke(n) fil(er) branchene har en konflikt på. Ved å bruke `git status` kan du finne de filene du må inspisere videre ved en merge conflict. "
   ]
  },
  {
   "cell_type": "markdown",
   "metadata": {
    "deletable": false,
    "editable": false,
    "run_control": {
     "frozen": true
    }
   },
   "source": [
    "## Oppgaver"
   ]
  },
  {
   "cell_type": "markdown",
   "metadata": {
    "deletable": false,
    "editable": false,
    "run_control": {
     "frozen": true
    },
    "solution2": "hidden",
    "solution2_first": true
   },
   "source": [
    "**Oppgave 1**\n",
    "\n",
    "Naviger til den samme mappe du lagde i forrige øving. Lag en ny branch og kall den for `new_branch`."
   ]
  },
  {
   "cell_type": "markdown",
   "metadata": {
    "deletable": false,
    "editable": false,
    "run_control": {
     "frozen": true
    },
    "solution2": "hidden"
   },
   "source": [
    "**Løsningsforslag 1**\n",
    "\n",
    "Naviger til ønsket mappe ved å skrive kommandoen, `cd <filsti>` der du oppgir filstien til mappen.\n",
    "\n",
    "Lag deretter branchen, \"new_branch\" ved å skrive `git branch new_branch` "
   ]
  },
  {
   "cell_type": "markdown",
   "metadata": {
    "deletable": false,
    "editable": false,
    "run_control": {
     "frozen": true
    },
    "solution2": "hidden",
    "solution2_first": true
   },
   "source": [
    "**Oppgave 2**\n",
    "\n",
    "Bytt branch til `new_branch`. "
   ]
  },
  {
   "cell_type": "markdown",
   "metadata": {
    "deletable": false,
    "editable": false,
    "run_control": {
     "frozen": true
    },
    "solution2": "hidden"
   },
   "source": [
    "**Løsningsforslag 2**\n",
    "\n",
    "Du bytter til \"new_branch\" ved å skrive følgende kommando\n",
    "`git checkout new_branch`"
   ]
  },
  {
   "cell_type": "markdown",
   "metadata": {
    "deletable": false,
    "editable": false,
    "run_control": {
     "frozen": true
    },
    "solution2": "hidden",
    "solution2_first": true
   },
   "source": [
    "**Oppgave 3**\n",
    "\n",
    "Gjør noen endringer i to av filene, stage disse filene, og commit endringene mens du står i \"new_branch\". Bruk `git log --oneline` for å bekrefte at commiten ble gjort."
   ]
  },
  {
   "cell_type": "markdown",
   "metadata": {
    "deletable": false,
    "editable": false,
    "run_control": {
     "frozen": true
    },
    "solution2": "hidden"
   },
   "source": [
    "**Løsningsforslag 3** \n",
    "\n",
    "Du stager alle filene dine ved å bruke kommandoen\n",
    "`git add --all` \n",
    "og commiter med `git commit -m \"Gjorde noen endringer\"`"
   ]
  },
  {
   "cell_type": "markdown",
   "metadata": {
    "deletable": false,
    "editable": false,
    "run_control": {
     "frozen": true
    },
    "solution2": "hidden",
    "solution2_first": true
   },
   "source": [
    "**Oppgave 4**\n",
    "\n",
    "Bytt nå branch til main, og skriv `git log --oneline` for å bekrefte at commiten vi gjorde i den andre branchen ikke er her. Merge \"new_branch\" til \"main\". Slett så branchen du lagde tidligere. Bruk kommandoen `git branch` for å sjekke om branchen ble slettet. Den bør nå ikke listes opp lenger under aktive grener i kommandolinjen din. "
   ]
  },
  {
   "cell_type": "markdown",
   "metadata": {
    "deletable": false,
    "editable": false,
    "run_control": {
     "frozen": true
    },
    "solution2": "hidden"
   },
   "source": [
    "**Løsningsforslag 4**\n",
    "\n",
    "For å bytte til main skriver du `git checkout main`. \n",
    "Nå merger du \"new_branch\" til \"main\" ved å skrive `git merge new_branch`. \n",
    "Slett \"new_branch\" ved å skrive kommandoen, `git branch -d new_branch`."
   ]
  },
  {
   "cell_type": "markdown",
   "metadata": {
    "deletable": false,
    "editable": false,
    "run_control": {
     "frozen": true
    }
   },
   "source": [
    "# Git i samarbeid\n",
    "\n",
    "<a id='git_samarbeid'></a>"
   ]
  },
  {
   "cell_type": "markdown",
   "metadata": {
    "deletable": false,
    "editable": false,
    "run_control": {
     "frozen": true
    }
   },
   "source": [
    "## Hva er remote repository?"
   ]
  },
  {
   "cell_type": "markdown",
   "metadata": {
    "deletable": false,
    "editable": false,
    "run_control": {
     "frozen": true
    }
   },
   "source": [
    "Som nevnt tidligere er Git et viktig samarbeidsverktøy for deling av kode. Det er her *remote repository* kommer til nytte. Et remote repository er et Git repository, altså et lager for koden du skriver, men i stedet for å ligge lokalt på PC-en din, ligger et remote repository på nettet. Et remote repository fungerer som en skylagring for prosjektet ditt, og det finnes flere tjenester som tilbyr servere for prosjektet ditt og som er integrert med Git. To populære eksempler er GitHub og GitLab. I denne seksjonen skal vi bruke GitLab. For å bruke GitLab med NTNU bruker, kreves tofaktorautentisering(se [her](https://docs.gitlab.com/ee/user/profile/account/two_factor_authentication.html#enable-one-time-password))  \n",
    "\n",
    "Når du lager en remote repository, vil du i praksis publisere et prosjekt på en nettside til den tjenesten du bruker. Bildet under viser GitLab repoet til øvingene.  \n",
    "\n",
    "<img src = 'img/gitlab.png' width = 800px>\n",
    "\n",
    "Merk at når vi lager et remote repo av et prosjekt, vil ikke det nødvendigvis bety at vi *offentliggjør* koden, det er mulig å endre synligheten på prosjektet selv om det ligger ute på nettet. Det vi i praksis gjør, er å lagre koden på en ekstern server. \n",
    " \n",
    "Poenget med å bruke en slik tjeneste er å ha en felles lagringsplass som flere kan ha tilgang til. Flere kan gjøre endringer på det samme prosjektet lokalt på PC-en, publisere disse og hente ut siste versjon av prosjektet som ligger ute. Publisering av en versjon av koden kan du gjøre med `push` kommandoen og uthenting av nyeste versjon som ligger ute på nettet kan du gjøre med `pull` kommandoen. \n",
    "\n",
    "En god arbeidsflyt kan være å jobbe isolert med egen versjon av et prosjekt lokalt på PC-en. Dette kan man gjøre via den lokale kopien av repositorien på en egen branch. I tillegg vil man holde de endringene av prosjektet som skal være endelige og som er regnet som *ferdige* i hovedbranchen som oftest er main. Dette er branchen som automatisk lages første gang noen lager et git repository. Når man har lagret sin versjon av prosjektet ved å commite på sin gren og ønsker å få inn disse endringene inn i main der de endelige endringene ligger, kan man merge til main som vi så på i forrige seksjon. "
   ]
  },
  {
   "cell_type": "markdown",
   "metadata": {
    "deletable": false,
    "editable": false,
    "heading_collapsed": true,
    "run_control": {
     "frozen": true
    }
   },
   "source": [
    "## Kort om arbeidsflyt"
   ]
  },
  {
   "cell_type": "markdown",
   "metadata": {
    "deletable": false,
    "editable": false,
    "hidden": true,
    "run_control": {
     "frozen": true
    }
   },
   "source": [
    "* For å koble sammen en remote repository på nettet med et prosjekt som ligger lokalt på pc-en for at man skal kunne publisere og hente endringer fra nettet på prosjektet, skriver man følgende kommando i terminalen:\n",
    "    `git remote add <name of remote repository> <url to remote repository>`\n",
    "    Bare husk å erstatte hva som står i mellom `<>`med det riktige navnet på remote repository og url-en.\n",
    "    Det vanligste er å gi navnet, 'origin' på den remote repositorien. \n",
    "\n",
    "* For å publisere endringer som er gjort i et prosjekt lokalt på en PC på en nettjeneste som f.eks GitHub og GitLab, brukes kommandoen `push`. Du må spesifisere navnet på den remote repoet du vil pushe *til* og hvilken lokale branch du vil pushe endringene dine *fra*. Den fulle kommandoen du skriver i terminalen er: \n",
    "\n",
    "  `git push <name of remote repo> <the branch you want to push from>`. Husk også her å erstatte hva som står i `<>`med riktig navn på den remote repositorien (som oftest origin hvis du følger standarden) og navnet på branchen (som oftest main) \n",
    "\n",
    "   Hvis du f.eks vil pushe fra din lokale branch som heter main til den remote repoet som heter origin, skriver du:    \n",
    "    `git push origin main`\n",
    "    \n",
    "* For å slå sammen endringene fra en branch til en annen, bruker du *merge*. Da må du stå i den branchen du vil flette endringene dine til. Bruk `checkout` kommandoen for å bytte branch. Den fulle kommandoen for merge er:\n",
    "    `git merge <branch to merge from>`\n",
    "\n",
    "* For å hente endringer som har blitt gjort i remote repository, brukes kommandoen `pull`. Da må du spesifisere hvilken lokale branch du ønsker å hente endringene dine til, og navnet på den remote repositorien du vil hente kode fra. Den fulle kommandoen for å bruke pull er:\n",
    "\n",
    "    `git pull <remote branch> <local branch>`\n",
    "    Husk at du må erstatte hva som står i `<>` med korrekt navn på remote repository og navn på den lokale branchen du vil pulle til. \n",
    "    \n",
    "    Hvis du f.eks. vil hente main branchen i remote repoet som heter origin, skriver du:\n",
    "    `git pull origin main`\n",
    "\n",
    "* Du kan hente en lokal kopi av et remote repository på nettet (f.eks på GitHub). Dette kalles å klone et prosjekt. Du kloner et prosjekt med kommandoen, `clone`. Den fulle kommandoen blir:\n",
    "    `git clone <url to remote repository>`. \n",
    "\n",
    "\n"
   ]
  },
  {
   "cell_type": "markdown",
   "metadata": {
    "deletable": false,
    "editable": false,
    "run_control": {
     "frozen": true
    }
   },
   "source": [
    "## Oppgaver"
   ]
  },
  {
   "cell_type": "markdown",
   "metadata": {
    "deletable": false,
    "editable": false,
    "run_control": {
     "frozen": true
    },
    "solution2": "hidden",
    "solution2_first": true
   },
   "source": [
    "**Oppgave 1** \n",
    "\n",
    "Hvis du ikke har gjort det enda, logg inn og sett opp 2FA på [GitLab](https://gitlab.stud.idi.ntnu.no/users/sign_in). \n",
    "\n",
    "Logg inn og lag et tomt prosjekt/repo på GitLab. "
   ]
  },
  {
   "cell_type": "markdown",
   "metadata": {
    "deletable": false,
    "editable": false,
    "run_control": {
     "frozen": true
    },
    "solution2": "hidden"
   },
   "source": [
    "**Løsningsforslag 1** \n",
    "\n",
    "Trykk på pluss-tegnet i navigasjonslinjen øverst som vist i bildet under, og velg deretter \"New project/repository\" \n",
    "\n",
    "<img src = 'img/new_project.png' width = 800px>\n",
    "\n",
    "Velg \"Create blank project\" og gi prosjektet et navn. Sørg også for at \"Initialize repository with a README\" **ikke** er avkrysset. Dette er fordi vi i neste oppgave skal initialisere prosjektet lokalt med kommandoen `git init` i stedet. \n",
    "\n",
    "<img src = 'img/fill_template.png' width = 700px>\n",
    "\n",
    "Kopier linken til repoet du nettop lagde ved å trykke på knappen copy URL:\n",
    "\n",
    "<img src = 'img/copy_url.png' width = 700px>\n"
   ]
  },
  {
   "cell_type": "markdown",
   "metadata": {
    "deletable": false,
    "editable": false,
    "run_control": {
     "frozen": true
    },
    "solution2": "hidden",
    "solution2_first": true
   },
   "source": [
    "**Oppgave 2** \n",
    "\n",
    "Lag en ny mappe og lag en tekstfil ved navnet \"filnavn.txt\" som du plasserer i mappen din. Lag et lokalt Git repo i mappen din. Merk: Dette skal være et helt nytt prosjekt/repository, så ikke bruk mappen fra de forrige oppgavene."
   ]
  },
  {
   "cell_type": "markdown",
   "metadata": {
    "deletable": false,
    "editable": false,
    "run_control": {
     "frozen": true
    },
    "solution2": "hidden"
   },
   "source": [
    "**Løsningsforslag 2** \n",
    "\n",
    "Åpne Terminalen/Powershell og bruk `mkdir` kommandoen til å lage en mappe. Husk å oppgi navn til mappen. Legg til en tekstfil enten ved å bruke Notepad (Windows) eller `touch` kommandoen (dersom du bruker Mac eller Linux) direkte i Terminalen (da skriver du `touch filnavn.txt` der du kan erstatte \"filnavn.txt\" med et annet navn på filen om du vil, men du må ha med .txt endelsen.) \n",
    "\n",
    "Naviger deg til mappen du nettopp lagde i Terminalen med kommandoen, `cd` og lag et Git repo med kommandoen:\n",
    "\n",
    "`git init`\n",
    "\n",
    "Stage og commit tekstfilen din ved å først skrive:\n",
    "\n",
    "`git add .`\n",
    "\n",
    "og deretter `git commit -m <melding>`, der du kan erstatte `<melding>` med den commit-meldingen du ønsker å gi. "
   ]
  },
  {
   "cell_type": "markdown",
   "metadata": {
    "deletable": false,
    "editable": false,
    "run_control": {
     "frozen": true
    },
    "solution2": "hidden",
    "solution2_first": true
   },
   "source": [
    "**Oppgave 3** \n",
    "\n",
    "Publiser innholdet i det lokale repoet du lagde i forrige oppgave, til remote repoet som du lagde på GitLab. "
   ]
  },
  {
   "cell_type": "markdown",
   "metadata": {
    "deletable": false,
    "editable": false,
    "run_control": {
     "frozen": true
    },
    "solution2": "hidden"
   },
   "source": [
    "**Løsningsforslag 3** \n",
    "\n",
    "Sørg for at du har commitet alle endringene dine først. Sjekk om du har gjort det med `git status` kommandoen. Først må du koble remote repoet på GitLab med ditt lokale repo. Dette gjør du med kommandoen `git remote add origin <url>` der du erstatter `<url>` med den linken du kopierte i oppgave 1 (linken til din repo på GitLab). For å publisere innholdet ditt på GitLab, skriver du `git push origin main`"
   ]
  },
  {
   "cell_type": "markdown",
   "metadata": {
    "solution2": "hidden",
    "solution2_first": true
   },
   "source": [
    "**Oppgave 4**\n",
    "\n",
    "*Kommentar: Denne oppgaven er lettere om du bruker en annen datamaskin enn den du brukte i oppgave 1-3. Det anbefales at dere jobber to stykker med denne oppgaven.*\n",
    "\n",
    "Klon prosjektet du lagde i oppgave 1-3 til en annen datamaskin (eventuelt til en annen mappe på datamaskinen din, enn den du brukte i oppgave 1-3, hvis du ikke har en ekstra datamaskin). Legg til en ny linje i tekstfilen \"filnavn.txt\" mens du står i main branchen din. Commit og push endringene dine til GitLab. Etter at du har gjort det, åpne Terminalen/Powershell på den datamaskinen du brukte i oppgave 1-3, naviger til riktig mappe (den du lagde i oppgave 1) og hent til slutt endringene fra GitLab til datamaskinen din med `pull` kommandoen. "
   ]
  },
  {
   "cell_type": "markdown",
   "metadata": {
    "deletable": false,
    "editable": false,
    "run_control": {
     "frozen": true
    },
    "solution2": "hidden"
   },
   "source": [
    "**Løsningsforslag 4** \n",
    "\n",
    "Du kloner et prosjekt med følgende kommando: `git clone <url>` der du må oppgi URL-en til prosjektet som ligger på GitLab. Legg så til endringer og commit, før du til slutt pusher med `git push origin main`. For å hente de nye endringene fra GitLab til den andre datamaskinen, skriver du `git pull origin main`."
   ]
  },
  {
   "cell_type": "markdown",
   "metadata": {},
   "source": [
    "## Forslag på arbeidsflyt ved samarbeid"
   ]
  },
  {
   "cell_type": "markdown",
   "metadata": {
    "deletable": false,
    "editable": false,
    "run_control": {
     "frozen": true
    }
   },
   "source": [
    "Når du begynner å bruke Git i samarbeid, er det viktig å velge en arbeidsflyt som fungerer både for deg og teammedlemmene dine. Du ønsker helst å passe på å slå sammen endringer med så få konflikter som mulig. Denne seksjonen gir et forslag på en arbeidsflyt som er vanlig å bruke i store prosjekter. Det kan være greit for deg som er ny på Git og ny på å samarbeide på samme kode å ha sett dette forslaget.  \n",
    "1. Før du begynner arbeidet ditt, sørg for å holde din lokale main oppdatert i forhold til den som ligger ute på nettet. Gå inn i main branchen din hvis du ikke er der allerede, og bruk kommandoen: \n",
    "\n",
    "     `git pull origin main` \n",
    "     \n",
    "     For å hente de siste endringene som ligger ute.  \n",
    "\n",
    " \n",
    "\n",
    "2. Det er svært viktig å jobbe i separate branches etter at man har fordelt arbeidsoppgavene i et prosjekt. Det er meningen at hver branch skal tilsvare en andel i prosjektet som er under arbeid.  Dette er typisk en ny funksjonalitet eller så kan det f.eks være en Python fil som svarer på en øvingsoppgave i ITGK. Poenget er at et arbeid skal gjøres på en egen branch. Sørg for å navngi branchen til noe som beskriver arbeidsoppgaven godt. F.eks 'oving1_itgk'. Å jobbe i branches, sørger for å isolere arbeidsmiljøet til hver bruker. På den måten sørger du for å holde uferdige endringer unna hovedgrenen (main) og passer på å holde en tidslinje som inneholder de endelige versjonene av prosjektet.  \n",
    "\n",
    "3. Commit jevnlig og prøv å unngå å lage store commits på en gang. Sørg for å gi en beskrivende og passende melding på commiten. F.eks. `git commit –m 'Har lagt til en ny pythonfil for øving 1 i ITGK'`. Du må huske å stage endringene du ønsker å commite før du commiter. Du bruker `git add <file>` der `<file>` er filnavnet du skal stage, til dette. Evt. `git add .` for å ta med alle endringer. Små commits hjelper deg å holde en oversiktlig historie av endringene dine. Dette er viktig hvis du skulle trenge å gå tilbake til gamle commits senere. \n",
    "\n",
    "4. Når du har gjort deg ferdig med en bestemt oppgave og ønsker å legge til dine endringer til prosjektet, må du flette inn endringene dine i main branchen som ligger på nettet. Men det kan være lurt å få noen til å se gjennom endringene før du merger. Så i stedet for å merge de nye endringene med main lokalt på din egen datamaskin, så vil man i stedet pushe hele den nye branchen til GitLab/GitHub. På GitLab/GitHub kan du sende en forespørsel på at du ønsker å merge den nye branchen til remote main (main branchen som ligger på nettsiden og ikke lokalt på PC-en). På GitHub kalles dette for en 'pull request' og på GitLab kalles det 'merge request'. Begge gjør det samme; spør om tillatelse på en merge. "
   ]
  },
  {
   "cell_type": "markdown",
   "metadata": {
    "deletable": false,
    "editable": false,
    "heading_collapsed": true,
    "run_control": {
     "frozen": true
    }
   },
   "source": [
    "### Hvordan lage en merge request på GitLab"
   ]
  },
  {
   "cell_type": "markdown",
   "metadata": {
    "deletable": false,
    "editable": false,
    "hidden": true,
    "run_control": {
     "frozen": true
    }
   },
   "source": [
    "Før du kan gjøre en merge request, må du sørge for at du pusher selve branchen du ønsker å merge til GitLab. Bruk kommandoen `git push origin <branch>` til dette og erstatt `<branch>`med navnet på branchen din. \n",
    "\n",
    "For å lage en merge request på GitLab, må du trykke på \"Merge Requests\" og deretter \"New merge request\". \n",
    "\n",
    "<img src = 'img/mergeRequest.png' width = 600px>\n",
    "\n",
    "Når du har trykket på \"new merge request\" blir du tatt i en ny side der du må velge hvilke brancher du ønsker å merge. Source branch er den man vil merge fra, og target branch er den man vil merge til. Oftest bruker man main som target branch. Deretter må du trykke på 'Compare branches and continue'. \n",
    "\n",
    "<img src = 'img/selectbranch.png' width = 600px>\n",
    "\n",
    "På neste side kan du skrive tittel på merge requesten og en beskrivelse av hva du prøver å merge, hvis du ønsker. På samme side under \"Reviewer\" kan du også velge hvem som skal vurdere og godkjenne merge requesten din. \n",
    "\n",
    "<img src = 'img/create_merge_request.png' width = 600px>\n",
    "\n",
    "Deretter kan du trykke på \"Create merge request\", og du vil få opp en side som vist i bildet under. På denne siden kan man se en oversikt over alle commits som inngår i merge requesten, se endringer i koden og kommentere kode. Man vil også få en beskjed på denne siden hvis det er noen merge conflicts. I bildet under står det \"Ready to merge!\" og det er dermed ingen konflikter.\n",
    "\n",
    "<img src = 'img/readyMerge.png' width = 600px>\n",
    "\n"
   ]
  }
 ],
 "metadata": {
  "celltoolbar": "Initialization Cell",
  "kernelspec": {
   "display_name": "Python 3.8.6rc1 64-bit",
   "language": "python",
   "name": "python3"
  },
  "language_info": {
   "codemirror_mode": {
    "name": "ipython",
    "version": 3
   },
   "file_extension": ".py",
   "mimetype": "text/x-python",
   "name": "python",
   "nbconvert_exporter": "python",
   "pygments_lexer": "ipython3",
   "version": "3.8.6"
  },
  "toc": {
   "base_numbering": 1,
   "nav_menu": {},
   "number_sections": true,
   "sideBar": true,
   "skip_h1_title": false,
   "title_cell": "Table of Contents",
   "title_sidebar": "Contents",
   "toc_cell": false,
   "toc_position": {
    "height": "calc(100% - 180px)",
    "left": "10px",
    "top": "150px",
    "width": "353.075px"
   },
   "toc_section_display": true,
   "toc_window_display": true
  },
  "vscode": {
   "interpreter": {
    "hash": "a1d88f1d6af7274392319340ad589157e5034eb25853bd7ff5b502ff0dd39369"
   }
  }
 },
 "nbformat": 4,
 "nbformat_minor": 2
}
