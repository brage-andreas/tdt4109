{
 "cells": [
  {
   "cell_type": "code",
   "execution_count": null,
   "metadata": {},
   "outputs": [],
   "source": [
    "#disse er bare eksempler på hvordan en kan tenke, oppgaven kan gjøres på vilt forskjellige måter.\n",
    "\n",
    "#a, b, c, d\n",
    "\n",
    "print(\"Du står ved enden av en vei, foran et hus med en lukket dør, det er en postkasse foran huset\")\n",
    "a = input(\"Hva gjør du?\").lower()\n",
    "if a == \"går tilbake\" or a == \"går andre veien\":\n",
    "    print(\"Du snur deg og vandrer hjem igjen. Du kjøper en is på veien.\")\n",
    "elif a == \"åpner døren\" or a == \"åpne døren\":\n",
    "    print(\"Døren er låst\")\n",
    "elif a == \"åpner postkassen\" or a == \"åpne postkassen\":\n",
    "    print(\"Du finner en nøkkel i postkassen\")\n",
    "else:\n",
    "    print(\"Ikke en støttet kommando\")"
   ]
  }
 ],
 "metadata": {
  "kernelspec": {
   "display_name": "Python 3",
   "language": "python",
   "name": "python3"
  },
  "language_info": {
   "codemirror_mode": {
    "name": "ipython",
    "version": 3
   },
   "file_extension": ".py",
   "mimetype": "text/x-python",
   "name": "python",
   "nbconvert_exporter": "python",
   "pygments_lexer": "ipython3",
   "version": "3.7.3"
  }
 },
 "nbformat": 4,
 "nbformat_minor": 2
}
