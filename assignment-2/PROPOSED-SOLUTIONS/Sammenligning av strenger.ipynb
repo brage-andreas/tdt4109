{
 "cells": [
  {
   "cell_type": "markdown",
   "metadata": {},
   "source": [
    "### a)"
   ]
  },
  {
   "cell_type": "code",
   "execution_count": null,
   "metadata": {},
   "outputs": [],
   "source": [
    "a = \"druer\"\n",
    "b = \"DrUer\"\n",
    " \n",
    "print(\"Sammenligner\",a,\"og\",b)\n",
    "if a.lower() == b.lower():\n",
    "    print(\"Det er samme matvare\")\n",
    "else:\n",
    "    print(\"Dette er to forskjellige matvarer\")\n",
    "  "
   ]
  },
  {
   "cell_type": "markdown",
   "metadata": {},
   "source": [
    "### b)"
   ]
  },
  {
   "cell_type": "code",
   "execution_count": null,
   "metadata": {},
   "outputs": [],
   "source": [
    "navn1 = input(\"Første navn: \")\n",
    "navn2 = input(\"Andre navn: \")\n",
    " \n",
    "print(\"Under følger navnene i alfabetisk rekkefølge:\")\n",
    "if navn1 < navn2:\n",
    "    print(navn1)\n",
    "    print(navn2)\n",
    "else:\n",
    "    print(navn2)\n",
    "    print(navn1)"
   ]
  },
  {
   "cell_type": "markdown",
   "metadata": {},
   "source": [
    "### c)\n",
    "Kodesnutt 1: k er større enn b\n",
    "\n",
    "Kodesnutt 2: Los Angeles New York\n",
    "\n",
    "Kodesnutt 3: druer"
   ]
  }
 ],
 "metadata": {
  "kernelspec": {
   "display_name": "Python 3",
   "language": "python",
   "name": "python3"
  },
  "language_info": {
   "codemirror_mode": {
    "name": "ipython",
    "version": 3
   },
   "file_extension": ".py",
   "mimetype": "text/x-python",
   "name": "python",
   "nbconvert_exporter": "python",
   "pygments_lexer": "ipython3",
   "version": "3.7.3"
  }
 },
 "nbformat": 4,
 "nbformat_minor": 2
}
