{
 "cells": [
  {
   "cell_type": "code",
   "execution_count": null,
   "metadata": {},
   "outputs": [],
   "source": [
    "m = input(\"Måned: \")\n",
    "d = int(input(\"Dag: \"))\n",
    " \n",
    " \n",
    "if m == 'mars':\n",
    "    if d<20:\n",
    "        print(\"Vinter\")\n",
    "    else:\n",
    "        print(\"Vår\")\n",
    "elif m == 'juni':\n",
    "    if d<21:\n",
    "        print(\"Vår\")\n",
    "    else:\n",
    "        print(\"Sommer\")\n",
    "elif m == 'september':\n",
    "    if d<22:\n",
    "        print(\"Sommer\")\n",
    "    else:\n",
    "        print(\"Høst\")\n",
    "elif m == 'desember':\n",
    "    if d<21:\n",
    "        print(\"Høst\")\n",
    "    else:\n",
    "        print(\"Vinter\")\n",
    "elif m == 'april' or m == 'mai':\n",
    "    print(\"Vår\")\n",
    "elif m == 'juli' or m == 'august':\n",
    "    print(\"Sommer\")\n",
    "elif m == 'oktober' or m == 'november':\n",
    "    print(\"Høst\")\n",
    "else:\n",
    "    print(\"Vinter\")"
   ]
  }
 ],
 "metadata": {
  "kernelspec": {
   "display_name": "Python 3",
   "language": "python",
   "name": "python3"
  },
  "language_info": {
   "codemirror_mode": {
    "name": "ipython",
    "version": 3
   },
   "file_extension": ".py",
   "mimetype": "text/x-python",
   "name": "python",
   "nbconvert_exporter": "python",
   "pygments_lexer": "ipython3",
   "version": "3.7.3"
  }
 },
 "nbformat": 4,
 "nbformat_minor": 2
}
