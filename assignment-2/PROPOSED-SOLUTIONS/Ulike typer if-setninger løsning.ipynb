{
 "cells": [
  {
   "cell_type": "code",
   "execution_count": null,
   "metadata": {},
   "outputs": [],
   "source": [
    "#oppgave a\n",
    "tid = int(input(\"Hvor mange minutt har kaken stått i ovnen? \"))\n",
    "if tid >= 50:\n",
    "    print(\"Kaken kan tas ut av ovnen.\")\n",
    "print(\"Tips til servering: vaniljeis.\")\n",
    " \n",
    "  \n",
    "#oppgave b\n",
    "  \n",
    "epler = int(input(\"Hvor mange epler har du? \"))\n",
    "barn = int(input(\"Hvor mange barn passer du? \"))\n",
    "if barn > 0:\n",
    "    print(\"Da blir det\", epler // barn, \"epler til hvert barn\")\n",
    "    print(\"og\", epler % barn, \"epler til overs til deg selv.\")\n",
    "print(\"Takk for i dag!\")\n",
    " \n",
    " \n",
    "#oppgave c\n",
    "alder = int(input(\"Skriv inn din alder: \"))\n",
    " \n",
    "if alder >= 18:\n",
    "    print(\"Du kan stemme:)\")\n",
    "else:\n",
    "    print(\"Du kan ikke stemme ennå\")\n",
    "  \n",
    "  \n",
    "#oppgave c\n",
    "alder = int(input(\"Skriv inn din alder: \"))\n",
    " \n",
    "if alder >= 18:\n",
    "    print(\"Du kan stemme både ved lokalvalg og Stortingsvalg.)\")\n",
    "elif alder >= 16:\n",
    "    print(\"Du kan stemme ved lokalvalg men ikke ved Stortingsvalg.)\")\n",
    "else:\n",
    "    print(\"Du kan ikke stemme ennå\")\n",
    " \n",
    " \n",
    " \n",
    "#oppgave e\n",
    "alder = int(input(\"Din alder: \"))\n",
    " \n",
    "if alder < 3:\n",
    "    print(\"Billetten er gratis\")\n",
    "elif alder < 12:\n",
    "    print(\"Billettpris: 30kr\")\n",
    "elif alder < 26:\n",
    "    print(\"Billettpris: 50kr\")\n",
    "elif alder < 67:\n",
    "    print(\"Billettpris: 80kr\")\n",
    "else:\n",
    "    print(\"Billettpris: 40kr\")"
   ]
  }
 ],
 "metadata": {
  "kernelspec": {
   "display_name": "Python 3",
   "language": "python",
   "name": "python3"
  },
  "language_info": {
   "codemirror_mode": {
    "name": "ipython",
    "version": 3
   },
   "file_extension": ".py",
   "mimetype": "text/x-python",
   "name": "python",
   "nbconvert_exporter": "python",
   "pygments_lexer": "ipython3",
   "version": "3.7.3"
  }
 },
 "nbformat": 4,
 "nbformat_minor": 2
}
