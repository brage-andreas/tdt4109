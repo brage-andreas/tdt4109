{
 "cells": [
  {
   "cell_type": "code",
   "execution_count": null,
   "metadata": {},
   "outputs": [],
   "source": [
    "#Oppgave a\n",
    "print(\"Dette er et program for å teste din sjenerøsitet.\")\n",
    "har = int(input(\"Hvor mange epler har du? \"))\n",
    "if har == 0:\n",
    "    print(\"Æsj, det sier du bare for å slippe å gi noe!\")\n",
    "else:\n",
    "    gir = int(input(\"Hvor mange kan du gi til meg? \"))\n",
    "    if gir < har / 2:\n",
    "        print(\"Du beholder det meste for deg selv...\")\n",
    "    else:\n",
    "        print(\"Takk, det var snilt!\")\n",
    "    print(\"Du har nå\", har - gir, \"epler igjen.\")\n",
    "  \n",
    "#Oppgave b\n",
    "print(\"Dette er et program for å teste din sjenerøsitet.\")\n",
    "har = int(input(\"Hvor mange epler har du? \"))\n",
    "if har == 0:\n",
    "    print(\"Æsj, det sier du bare for å slippe å gi noe!\")\n",
    "else:\n",
    "    gir = int(input(\"Hvor mange kan du gi til meg? \"))\n",
    "    if gir < har / 2:\n",
    "        print(\"Du beholder det meste for deg selv...\")\n",
    "    else:\n",
    "        print(\"Takk, det var snilt!\")\n",
    "    rest = har - gir\n",
    "    if rest == 1:\n",
    "        tekst = \"eple\"\n",
    "    else:\n",
    "        tekst = \"epler\"\n",
    "    print(\"Du har nå\", rest, tekst, \"igjen.\")\n",
    "    \n",
    "#Oppgave c\n",
    "print(\"Dette er et program for å teste din sjenerøsitet.\")\n",
    "har = int(input(\"Hvor mange epler har du? \"))\n",
    "if har == 0:\n",
    "    print(\"Æsj, det sier du bare for å slippe å gi noe!\")\n",
    "else:\n",
    "    gir = int(input(\"Hvor mange kan du gi til meg? \"))\n",
    "    if gir < har / 2:\n",
    "        print(\"Du beholder det meste for deg selv...\")\n",
    "    else:\n",
    "        print(\"Takk, det var snilt!\")\n",
    "    rest = har - gir\n",
    "    if rest >= 0:\n",
    "        if rest == 1:\n",
    "            tekst = \"eple\"\n",
    "        else:\n",
    "            tekst = \"epler\"\n",
    "        print(\"Du har nå\", rest, tekst, \"igjen.\")\n",
    "    else:\n",
    "        print(\"Du har nå 0 epler igjen. Gi meg de\", -rest)\n",
    "        print(\"du skylder meg neste gang vi møtes.\")"
   ]
  }
 ],
 "metadata": {
  "kernelspec": {
   "display_name": "Python 3",
   "language": "python",
   "name": "python3"
  },
  "language_info": {
   "codemirror_mode": {
    "name": "ipython",
    "version": 3
   },
   "file_extension": ".py",
   "mimetype": "text/x-python",
   "name": "python",
   "nbconvert_exporter": "python",
   "pygments_lexer": "ipython3",
   "version": "3.7.3"
  }
 },
 "nbformat": 4,
 "nbformat_minor": 2
}
