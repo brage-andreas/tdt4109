{
 "cells": [
  {
   "cell_type": "markdown",
   "metadata": {},
   "source": [
    "a) Løsning med sammensatt betingelse og nøstet if-setning:"
   ]
  },
  {
   "cell_type": "code",
   "execution_count": null,
   "metadata": {},
   "outputs": [],
   "source": [
    "pos = input(\"Posisjon: \")\n",
    " \n",
    "bokstav = pos[0]\n",
    "tall = int(pos[1])\n",
    " \n",
    "if bokstav == 'a' or bokstav == 'c' or bokstav == 'e' or bokstav == 'g':\n",
    "    if tall % 2 == 0:\n",
    "        print(\"Hvit\")\n",
    "    else:\n",
    "        print(\"Svart\")\n",
    "else:\n",
    "    if tall % 2 == 0:\n",
    "        print(\"Svart\")\n",
    "    else:\n",
    "        print(\"Hvit\")"
   ]
  },
  {
   "cell_type": "markdown",
   "metadata": {},
   "source": [
    "Den litt lange if-testen av fire ulike bokstaver vil kunne skrives enklere ved bruk av in-operatoren og en streng med alle aktuelle bokstaver:\n",
    "\n",
    "if bokstav in 'aceg':                  (og resten av koden som før)\n",
    "\n",
    " \n",
    "\n",
    "En enda mye kortere løsning kan imidlertid oppnås ved å utnytte bokstavenes ASCII-nummer, som finnes ved standardfunksjonen ord(). ord('a') har verdien 97, ord('b') 98, ord('c') 99, osv.\n",
    "\n",
    "Vi merker oss at a1 er svart; 97+1 er 98, altså et partall. Mer generelt er det slik at alle ruter hvor summen av bokstavens ASCII-verdi og radens nummer er partall, vil være svarte, mens sum som er oddetall vil være hvite ruter.\n",
    "\n",
    "Dette vil funke også for store bokstaver, siden ord('A) er 65, ord('B') 66, osv.\n",
    "\n",
    "Løsning med ord()"
   ]
  },
  {
   "cell_type": "code",
   "execution_count": null,
   "metadata": {},
   "outputs": [],
   "source": [
    "pos = input(\"Posisjon: \")\n",
    " \n",
    "bokstav = pos[0]\n",
    "tall = int(pos[1])\n",
    "  \n",
    "# Svart rute: bokstavs ascii-verdi + radnummer blir partall\n",
    "# Hvit rute: summen blir oddetall\n",
    "if (ord(bokstav) + tall) % 2 == 0:\n",
    "    print(\"Svart\")\n",
    "else:\n",
    "    print(\"Hvit\")"
   ]
  },
  {
   "cell_type": "markdown",
   "metadata": {},
   "source": [
    "b)"
   ]
  },
  {
   "cell_type": "code",
   "execution_count": null,
   "metadata": {},
   "outputs": [],
   "source": [
    "pos = input(\"Posisjon: \")\n",
    "if len(pos) == 2:\n",
    "    ch = pos[0]\n",
    "    if ('A'<= ch <='H' or 'a' <= ch <='h') and '1'<=pos[1]<='8':\n",
    "        #input OK\n",
    "        tall = int(pos[1])\n",
    "        if (ord(ch) + tall) % 2 == 0:\n",
    "            print(\"Svart\")\n",
    "        else:\n",
    "            print(\"Hvit\")\n",
    "    else:\n",
    "        print(\"Feil input.\")\n",
    "        print(\"Første tegn må være en bokstav A-H eller a-h\")\n",
    "        print(\"Andre tegn må være et tall 1-8\")\n",
    "else:\n",
    "    print(\"Feil lengde på input, skal være 2 tegn.\")"
   ]
  },
  {
   "cell_type": "markdown",
   "metadata": {},
   "source": [
    "Her er det viktig at testen len(pos)==2 gjøres først. Hvis vi først prøver å teste bokstaver og tall ved å se på pos[0] og pos[1] vil dette feile i tilfelle bruker skrev inn null tegn (slo Enter med en gang).\n",
    "\n",
    "Likeledes er det lurt å teste tegnet pos[1] mellom '1' og '8' heller enn å konvertere til  tall med int() og teste at tallet er mellom 1 og 8. Hvis bruker har skrevet noe annet enn et tall som andre tegn (f.eks. enda  en bokstav), vil int() komme til å feile.\n",
    "\n",
    "Merk også at det trengs parentes rundt de to betingelsene som tester at vi er mellom A-H eller a-h. Dette fordi or har lavere presedens enn and. Hvis vi fjerner denne parentesen, vil testen i praksis bli\n",
    "\n",
    "* at bokstaven - her variabelen ch - er mellom A-H\n",
    "* ELLER at bokstaven er mellom a-h og tallet mellom 1-8\n",
    "\n",
    "Dvs. hvis det kommer stor bokstav vil vi da unnlate å teste på tallet, så A9 (f.eks.) vil  gå gjennom og gi svaret Svart, heller enn å gi feilmelding som det egentlig skulle."
   ]
  }
 ],
 "metadata": {
  "kernelspec": {
   "display_name": "Python 3",
   "language": "python",
   "name": "python3"
  },
  "language_info": {
   "codemirror_mode": {
    "name": "ipython",
    "version": 3
   },
   "file_extension": ".py",
   "mimetype": "text/x-python",
   "name": "python",
   "nbconvert_exporter": "python",
   "pygments_lexer": "ipython3",
   "version": "3.7.3"
  }
 },
 "nbformat": 4,
 "nbformat_minor": 2
}
